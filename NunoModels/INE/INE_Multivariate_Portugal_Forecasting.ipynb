{
 "cells": [
  {
   "cell_type": "code",
   "execution_count": 1,
   "id": "e9dca35c-cd9f-45a4-86ca-7832faedf4b0",
   "metadata": {
    "tags": []
   },
   "outputs": [
    {
     "name": "stderr",
     "output_type": "stream",
     "text": [
      "/home/nuno/.local/lib/python3.10/site-packages/petastorm/spark/spark_dataset_converter.py:28: FutureWarning: pyarrow.LocalFileSystem is deprecated as of 2.0.0, please use pyarrow.fs.LocalFileSystem instead.\n",
      "  from pyarrow import LocalFileSystem\n"
     ]
    }
   ],
   "source": [
    "import pandas as pd\n",
    "import numpy as np\n",
    "import glob\n",
    "import os\n",
    "import gc\n",
    "import torch\n",
    "import torchvision\n",
    "from petastorm import TransformSpec\n",
    "from pyspark.sql.functions import *\n",
    "from pyspark.sql import SparkSession\n",
    "from functools import partial \n",
    "from torch import nn\n",
    "from sklearn import preprocessing\n",
    "from torch.utils.data import DataLoader\n",
    "from torchdata.datapipes.iter import FileLister\n",
    "import torcharrow.dtypes as dt\n",
    "from petastorm.spark import SparkDatasetConverter, make_spark_converter\n",
    "from torchvision import transforms\n",
    "from pyspark.sql.types import DoubleType\n",
    "import matplotlib.pyplot as plt\n",
    "import torch.optim as optim\n",
    "import torch.utils.data as data"
   ]
  },
  {
   "cell_type": "code",
   "execution_count": 2,
   "id": "3f5374ee-dbc3-4721-ab98-df08b4d9bbd8",
   "metadata": {
    "tags": []
   },
   "outputs": [
    {
     "name": "stdout",
     "output_type": "stream",
     "text": [
      "23/04/10 22:49:36 WARN Utils: Your hostname, nuno-g14 resolves to a loopback address: 127.0.1.1; using 192.168.1.7 instead (on interface wlp2s0)\n",
      "23/04/10 22:49:36 WARN Utils: Set SPARK_LOCAL_IP if you need to bind to another address\n"
     ]
    },
    {
     "name": "stderr",
     "output_type": "stream",
     "text": [
      "Setting default log level to \"WARN\".\n",
      "To adjust logging level use sc.setLogLevel(newLevel). For SparkR, use setLogLevel(newLevel).\n"
     ]
    },
    {
     "name": "stdout",
     "output_type": "stream",
     "text": [
      "23/04/10 22:49:36 WARN NativeCodeLoader: Unable to load native-hadoop library for your platform... using builtin-java classes where applicable\n",
      "23/04/10 22:49:37 WARN Utils: Service 'SparkUI' could not bind on port 4040. Attempting port 4041.\n"
     ]
    }
   ],
   "source": [
    "spark = SparkSession \\\n",
    "    .builder \\\n",
    "    .appName(\"Data_Forecasting\") \\\n",
    "    .config(\"spark.memory.offHeap.enabled\",\"true\") \\\n",
    "    .config(\"spark.driver.cores\",\"4\") \\\n",
    "    .config(\"spark.driver.maxResultSize\",\"4g\") \\\n",
    "    .config(\"spark.memory.offHeap.size\",\"4g\") \\\n",
    "    .config(\"spark.driver.memory\", \"4g\")\\\n",
    "    .config(\"spark.executor.memory\",\"4g\")\\\n",
    "    .getOrCreate()"
   ]
  },
  {
   "cell_type": "code",
   "execution_count": 3,
   "id": "288a9f9a-9603-42d6-bdd3-a0fd24fefb04",
   "metadata": {},
   "outputs": [
    {
     "name": "stdout",
     "output_type": "stream",
     "text": [
      "cuda:0\n"
     ]
    }
   ],
   "source": [
    "if torch.cuda.is_available(): \n",
    "    dev = \"cuda:0\" \n",
    "else: \n",
    "    dev = \"cpu\" \n",
    "device = torch.device(dev) \n",
    "print(dev)"
   ]
  },
  {
   "cell_type": "markdown",
   "id": "99174186-08a7-484c-91f2-33831a224777",
   "metadata": {},
   "source": [
    "## Auxiliary Functions"
   ]
  },
  {
   "cell_type": "code",
   "execution_count": 4,
   "id": "eaf4c143-23b0-40f4-8747-eae2356df546",
   "metadata": {},
   "outputs": [],
   "source": [
    "month_name = {\n",
    "            'janeiro':'01',\n",
    "            'fevereiro':'02',\n",
    "            'março':'03',\n",
    "            'abril':'04',\n",
    "            'maio':'05',\n",
    "            'junho':'06',\n",
    "            'julho':'07',\n",
    "            'agosto':'08',\n",
    "            'setembro':'09',\n",
    "            'outubro':'10',\n",
    "            'novembro':'11',\n",
    "            'dezembro':'12'}"
   ]
  },
  {
   "cell_type": "code",
   "execution_count": 5,
   "id": "a6d16183-e3d7-404a-a859-68732b620739",
   "metadata": {},
   "outputs": [],
   "source": [
    "def deal_with_null_date(dataframe):\n",
    "    new_date_list = []\n",
    "\n",
    "    for row in dataframe.rdd.collect():\n",
    "        new_date_list.append(row.Date) \n",
    "\n",
    "    for index, elem in enumerate(new_date_list):\n",
    "        if elem == None:\n",
    "            new_date_list[index] = new_date_list[index-1]\n",
    "    \n",
    "    pandas_df = dataframe.toPandas()\n",
    "    pandas_df = pandas_df.assign(Date=new_date_list)\n",
    "    new_dataframe = spark.createDataFrame(pandas_df) \n",
    "    return new_dataframe"
   ]
  },
  {
   "cell_type": "code",
   "execution_count": 6,
   "id": "3388291b-ecbe-4a49-bb1c-0237497ba6dc",
   "metadata": {},
   "outputs": [],
   "source": [
    "def deal_with_extense_date(dataframe):\n",
    "    new_date_list = []\n",
    "\n",
    "    for row in dataframe.rdd.collect():\n",
    "        new_date = row.Date.split(' ')\n",
    "        new_month = month_name[new_date[0].lower()]\n",
    "        new_year = new_date[2]\n",
    "        new_date_list.append(new_year + '/' + new_month) \n",
    "\n",
    "    \n",
    "    pandas_df = dataframe.toPandas()\n",
    "    pandas_df = pandas_df.assign(Date=new_date_list)\n",
    "    new_dataframe = spark.createDataFrame(pandas_df) \n",
    "    return new_dataframe"
   ]
  },
  {
   "cell_type": "code",
   "execution_count": 7,
   "id": "c3e35f39-da1f-4108-869d-2acc2207385d",
   "metadata": {},
   "outputs": [],
   "source": [
    "def deal_with_bad_values(dataframe):\n",
    "    for col in dataframe.columns:\n",
    "        if col != 'Date':\n",
    "            dataframe = dataframe.withColumn(col, dataframe[col].cast(DoubleType()))\n",
    "    return dataframe"
   ]
  },
  {
   "cell_type": "markdown",
   "id": "e7a2f81b-a020-4077-b7d9-5a99d2d547b7",
   "metadata": {},
   "source": [
    "## Data Reading"
   ]
  },
  {
   "cell_type": "code",
   "execution_count": 8,
   "id": "5eb247c4-b206-4ad3-babc-c12898516547",
   "metadata": {},
   "outputs": [],
   "source": [
    "li = []\n",
    "\n",
    "files = os.path.join(\"/home/nuno/Desktop/MSc_Model_Datasets/Data_INE\", \"*.csv\")\n",
    "files = glob.glob(files)\n",
    "\n",
    "for filename in files:\n",
    "    sparkDF = spark.read.csv(filename, header='true', sep = ';')\n",
    "    # df = pd.read_csv(filename, low_memory=False, index_col=None, header=0)\n",
    "    li.append(sparkDF)"
   ]
  },
  {
   "cell_type": "code",
   "execution_count": 9,
   "id": "c8ff903f-a17e-4707-9e84-d12974fa5af8",
   "metadata": {
    "tags": []
   },
   "outputs": [],
   "source": [
    "total_list = []"
   ]
  },
  {
   "cell_type": "code",
   "execution_count": 10,
   "id": "7ce5dacb-d9c1-479c-a9d1-b91786cddbeb",
   "metadata": {
    "tags": []
   },
   "outputs": [],
   "source": [
    "total_earnings = li[0].select(\"Date\", \"TE_Total_Portugal\")\n",
    "total_list.append(total_earnings)\n",
    "# total_earnings.show(1)"
   ]
  },
  {
   "cell_type": "code",
   "execution_count": 11,
   "id": "7af53a5c-4839-472f-a8de-eae6b1383c10",
   "metadata": {
    "tags": []
   },
   "outputs": [],
   "source": [
    "total_landed = li[1].select(\"Date\", \"Landed_Portugal\")\n",
    "total_list.append(total_landed)\n",
    "# total_landed.show(1)"
   ]
  },
  {
   "cell_type": "code",
   "execution_count": 12,
   "id": "43a0a690-e3e8-49a3-be18-4601c93213d1",
   "metadata": {
    "tags": []
   },
   "outputs": [],
   "source": [
    "total_overnight_stays = li[3].select(\"Date\", \"OS_Total_Portugal\")\n",
    "total_list.append(total_overnight_stays)\n",
    "# total_overnight_stays.show(1)"
   ]
  },
  {
   "cell_type": "code",
   "execution_count": 13,
   "id": "050579d3-a1d5-4a6f-beff-27d1c7e8f92f",
   "metadata": {
    "tags": []
   },
   "outputs": [],
   "source": [
    "total_avg_stay = li[5].select(\"Date\", \"Avg_Stay_Total\")\n",
    "total_list.append(total_avg_stay)\n",
    "\n",
    "# total_avg_stay.show(1)"
   ]
  },
  {
   "cell_type": "code",
   "execution_count": 14,
   "id": "1ea0d809-b323-4a5a-a8ac-9c6a2745b6f6",
   "metadata": {
    "tags": []
   },
   "outputs": [],
   "source": [
    "total_bed_net_rate = li[7].select(\"Date\", \"BNR_Total\")\n",
    "total_list.append(total_bed_net_rate)\n",
    "\n",
    "# total_bed_net_rate.show(1)"
   ]
  },
  {
   "cell_type": "code",
   "execution_count": 15,
   "id": "8fb1dcd5-289b-4ab0-9849-186592888599",
   "metadata": {
    "tags": []
   },
   "outputs": [],
   "source": [
    "total_guests = li[8].select(\"Date\", \"Guests_Total_Portugal\")\n",
    "total_list.append(total_guests)\n",
    "\n",
    "# total_guests.show(1)"
   ]
  },
  {
   "cell_type": "code",
   "execution_count": 16,
   "id": "321f81fd-e22e-4b41-8525-6cb40e5d9cce",
   "metadata": {
    "tags": []
   },
   "outputs": [],
   "source": [
    "df0 = total_list[0]\n",
    "for df in total_list:\n",
    "    if df0 != df:\n",
    "        df0 = df0.join(df,[\"Date\"], \"outer\")\n",
    "\n",
    "frame = df0"
   ]
  },
  {
   "cell_type": "code",
   "execution_count": 17,
   "id": "9fd5f695-fe77-42c1-a5c1-e265b2a9a506",
   "metadata": {
    "tags": []
   },
   "outputs": [
    {
     "name": "stdout",
     "output_type": "stream",
     "text": [
      "+-------------+-----------------+---------------+-----------------+--------------+---------+---------------------+\n",
      "|         Date|TE_Total_Portugal|Landed_Portugal|OS_Total_Portugal|Avg_Stay_Total|BNR_Total|Guests_Total_Portugal|\n",
      "+-------------+-----------------+---------------+-----------------+--------------+---------+---------------------+\n",
      "|Abril de 1963|             null|          26880|             null|          null|     null|                 null|\n",
      "|Abril de 1964|             null|          34430|             null|          null|     null|                 null|\n",
      "|Abril de 1965|             null|          45337|             null|          null|     null|                 null|\n",
      "|Abril de 1966|             null|          58515|             null|          null|     null|                 null|\n",
      "|Abril de 1967|             null|          63931|             null|          null|     null|                 null|\n",
      "|Abril de 1968|             null|          77815|             null|          null|     null|                 null|\n",
      "|Abril de 1969|             null|          87476|             null|          null|     null|                 null|\n",
      "|Abril de 1970|             null|         109384|             null|          null|     null|                 null|\n",
      "|Abril de 1971|             null|         132264|             null|          null|     null|                 null|\n",
      "|Abril de 1972|             null|         146103|             null|          null|     null|                 null|\n",
      "|Abril de 1973|             null|         182544|             null|          null|     null|                 null|\n",
      "|Abril de 1974|             null|         165797|             null|          null|     null|                 null|\n",
      "|Abril de 1975|             null|         126179|             null|          null|     null|                 null|\n",
      "|Abril de 1976|             null|         160464|             null|          null|     null|                 null|\n",
      "|Abril de 1977|             null|         196840|             null|          null|     null|                 null|\n",
      "|Abril de 1978|             null|         189362|             null|          null|     null|                 null|\n",
      "|Abril de 1979|             null|         233872|             null|          null|     null|                 null|\n",
      "|Abril de 1980|             null|         222630|             null|          null|     null|                 null|\n",
      "|Abril de 1981|             null|         236207|             null|          null|     null|                 null|\n",
      "|Abril de 1982|             null|         240965|             null|          null|     null|                 null|\n",
      "+-------------+-----------------+---------------+-----------------+--------------+---------+---------------------+\n",
      "only showing top 20 rows\n",
      "\n"
     ]
    }
   ],
   "source": [
    "frame.show()"
   ]
  },
  {
   "cell_type": "code",
   "execution_count": 18,
   "id": "c46e754f-5703-4fee-8f3a-147d72548361",
   "metadata": {
    "tags": []
   },
   "outputs": [
    {
     "name": "stdout",
     "output_type": "stream",
     "text": [
      "+-------+----------------+------------------+-----------------+------------------+-------------------+-----------------+---------------------+\n",
      "|summary|            Date| TE_Total_Portugal|  Landed_Portugal| OS_Total_Portugal|     Avg_Stay_Total|        BNR_Total|Guests_Total_Portugal|\n",
      "+-------+----------------+------------------+-----------------+------------------+-------------------+-----------------+---------------------+\n",
      "|  count|             671|                71|              671|                35|                 48|              108|                   35|\n",
      "|   mean|            null|288603.23943661974|698727.5441860465|3684890.2285714285| 2.5083333333333324| 41.0861111111111|   1422789.5142857144|\n",
      "| stddev|            null| 182768.8306137772|707814.7860388606| 2633739.147116801|0.24739780467672953|14.09401979851728|    928624.8212788303|\n",
      "|    min|   Abril de 1963|            106775|                 |           1031062|                2.1|             20.3|              1025974|\n",
      "|    max|Setembro de 2022|             98452|           997411|           9935751|                  3|             71.2|               990434|\n",
      "+-------+----------------+------------------+-----------------+------------------+-------------------+-----------------+---------------------+\n",
      "\n"
     ]
    }
   ],
   "source": [
    "frame.describe().show()"
   ]
  },
  {
   "cell_type": "code",
   "execution_count": 19,
   "id": "262dc8e8-5381-4ce5-8a4f-04beab3fe9e1",
   "metadata": {
    "tags": []
   },
   "outputs": [
    {
     "name": "stdout",
     "output_type": "stream",
     "text": [
      "+----+-----------------+---------------+-----------------+--------------+---------+---------------------+\n",
      "|Date|TE_Total_Portugal|Landed_Portugal|OS_Total_Portugal|Avg_Stay_Total|BNR_Total|Guests_Total_Portugal|\n",
      "+----+-----------------+---------------+-----------------+--------------+---------+---------------------+\n",
      "|   0|              600|              0|              636|           623|      563|                  636|\n",
      "+----+-----------------+---------------+-----------------+--------------+---------+---------------------+\n",
      "\n"
     ]
    }
   ],
   "source": [
    "frame.select([count(when(isnan(c) | col(c).isNull(), c)).alias(c) for c in frame.columns]\n",
    "   ).show()"
   ]
  },
  {
   "cell_type": "code",
   "execution_count": 20,
   "id": "3c1df53d-f131-4a71-bcf5-c8bf54c18419",
   "metadata": {
    "tags": []
   },
   "outputs": [
    {
     "data": {
      "text/plain": [
       "671"
      ]
     },
     "execution_count": 20,
     "metadata": {},
     "output_type": "execute_result"
    }
   ],
   "source": [
    "frame.count()"
   ]
  },
  {
   "cell_type": "code",
   "execution_count": 21,
   "id": "f74125a0-e0d5-447a-b460-956f9fad95ad",
   "metadata": {
    "tags": []
   },
   "outputs": [
    {
     "name": "stderr",
     "output_type": "stream",
     "text": [
      "/home/nuno/.local/lib/python3.10/site-packages/pyspark/sql/pandas/conversion.py:474: FutureWarning: iteritems is deprecated and will be removed in a future version. Use .items instead.\n",
      "  for column, series in pdf.iteritems():\n",
      "/home/nuno/.local/lib/python3.10/site-packages/pyspark/sql/pandas/conversion.py:486: FutureWarning: iteritems is deprecated and will be removed in a future version. Use .items instead.\n",
      "  for column, series in pdf.iteritems():\n"
     ]
    }
   ],
   "source": [
    "frame = deal_with_extense_date(frame)\n",
    "frame = deal_with_bad_values(frame)"
   ]
  },
  {
   "cell_type": "code",
   "execution_count": 22,
   "id": "68b99cab-d4d3-4280-be9a-baa7d3f234f2",
   "metadata": {
    "tags": []
   },
   "outputs": [],
   "source": [
    "frame = frame.withColumn('Date', \\\n",
    "         to_timestamp('Date', 'yyyy/MM'))"
   ]
  },
  {
   "cell_type": "code",
   "execution_count": 23,
   "id": "7cba4552-0acb-471b-8584-23a9ff1b6bd0",
   "metadata": {
    "tags": []
   },
   "outputs": [
    {
     "name": "stdout",
     "output_type": "stream",
     "text": [
      "+-------------------+-----------------+---------------+-----------------+--------------+---------+---------------------+\n",
      "|               Date|TE_Total_Portugal|Landed_Portugal|OS_Total_Portugal|Avg_Stay_Total|BNR_Total|Guests_Total_Portugal|\n",
      "+-------------------+-----------------+---------------+-----------------+--------------+---------+---------------------+\n",
      "|1963-04-01 00:00:00|             null|        26880.0|             null|          null|     null|                 null|\n",
      "|1964-04-01 00:00:00|             null|        34430.0|             null|          null|     null|                 null|\n",
      "|1965-04-01 00:00:00|             null|        45337.0|             null|          null|     null|                 null|\n",
      "|1966-04-01 00:00:00|             null|        58515.0|             null|          null|     null|                 null|\n",
      "|1967-04-01 00:00:00|             null|        63931.0|             null|          null|     null|                 null|\n",
      "|1968-04-01 00:00:00|             null|        77815.0|             null|          null|     null|                 null|\n",
      "|1969-04-01 00:00:00|             null|        87476.0|             null|          null|     null|                 null|\n",
      "|1970-04-01 00:00:00|             null|       109384.0|             null|          null|     null|                 null|\n",
      "|1971-04-01 00:00:00|             null|       132264.0|             null|          null|     null|                 null|\n",
      "|1972-04-01 00:00:00|             null|       146103.0|             null|          null|     null|                 null|\n",
      "|1973-04-01 00:00:00|             null|       182544.0|             null|          null|     null|                 null|\n",
      "|1974-04-01 00:00:00|             null|       165797.0|             null|          null|     null|                 null|\n",
      "|1975-04-01 00:00:00|             null|       126179.0|             null|          null|     null|                 null|\n",
      "|1976-04-01 00:00:00|             null|       160464.0|             null|          null|     null|                 null|\n",
      "|1977-04-01 00:00:00|             null|       196840.0|             null|          null|     null|                 null|\n",
      "|1978-04-01 00:00:00|             null|       189362.0|             null|          null|     null|                 null|\n",
      "|1979-04-01 01:00:00|             null|       233872.0|             null|          null|     null|                 null|\n",
      "|1980-04-01 00:00:00|             null|       222630.0|             null|          null|     null|                 null|\n",
      "|1981-04-01 00:00:00|             null|       236207.0|             null|          null|     null|                 null|\n",
      "|1982-04-01 00:00:00|             null|       240965.0|             null|          null|     null|                 null|\n",
      "+-------------------+-----------------+---------------+-----------------+--------------+---------+---------------------+\n",
      "only showing top 20 rows\n",
      "\n"
     ]
    }
   ],
   "source": [
    "frame.show()"
   ]
  },
  {
   "cell_type": "code",
   "execution_count": 24,
   "id": "666b42fe-7e21-4840-aa3a-56caced107b4",
   "metadata": {
    "tags": []
   },
   "outputs": [],
   "source": [
    "frame = frame.sort(col(\"Date\").asc())"
   ]
  },
  {
   "cell_type": "code",
   "execution_count": 25,
   "id": "e1e90186-c918-41ad-9a0f-817ac12f911a",
   "metadata": {
    "tags": []
   },
   "outputs": [],
   "source": [
    "frame = frame.withColumn('Date', \\\n",
    "         unix_timestamp('Date', 'yyyy/MM'))"
   ]
  },
  {
   "cell_type": "code",
   "execution_count": 26,
   "id": "3ec03f92-a290-4749-9580-83ff9dbf9493",
   "metadata": {
    "tags": []
   },
   "outputs": [],
   "source": [
    "frame = frame.select(\"Date\", \"Landed_Portugal\", \"BNR_Total\")"
   ]
  },
  {
   "cell_type": "code",
   "execution_count": 27,
   "id": "ad320907-8748-45fc-b2b5-37935a0d7a8b",
   "metadata": {
    "tags": []
   },
   "outputs": [],
   "source": [
    "frame = frame.na.drop()"
   ]
  },
  {
   "cell_type": "code",
   "execution_count": 28,
   "id": "770c3e7c-7f2c-455d-b7b0-b486afe1c518",
   "metadata": {
    "tags": []
   },
   "outputs": [
    {
     "data": {
      "text/plain": [
       "108"
      ]
     },
     "execution_count": 28,
     "metadata": {},
     "output_type": "execute_result"
    }
   ],
   "source": [
    "frame.count()"
   ]
  },
  {
   "cell_type": "code",
   "execution_count": 29,
   "id": "514e79dd-be32-40a9-8ff3-9c75c734aed9",
   "metadata": {
    "tags": []
   },
   "outputs": [],
   "source": [
    "data_INE = frame.toPandas()"
   ]
  },
  {
   "cell_type": "code",
   "execution_count": 30,
   "id": "195aaef1-9c81-49ed-b2d6-03aa8c7dac9e",
   "metadata": {
    "tags": []
   },
   "outputs": [
    {
     "data": {
      "text/html": [
       "<div>\n",
       "<style scoped>\n",
       "    .dataframe tbody tr th:only-of-type {\n",
       "        vertical-align: middle;\n",
       "    }\n",
       "\n",
       "    .dataframe tbody tr th {\n",
       "        vertical-align: top;\n",
       "    }\n",
       "\n",
       "    .dataframe thead th {\n",
       "        text-align: right;\n",
       "    }\n",
       "</style>\n",
       "<table border=\"1\" class=\"dataframe\">\n",
       "  <thead>\n",
       "    <tr style=\"text-align: right;\">\n",
       "      <th></th>\n",
       "      <th>Date</th>\n",
       "      <th>Landed_Portugal</th>\n",
       "      <th>BNR_Total</th>\n",
       "    </tr>\n",
       "  </thead>\n",
       "  <tbody>\n",
       "    <tr>\n",
       "      <th>0</th>\n",
       "      <td>1230768000</td>\n",
       "      <td>752961.0</td>\n",
       "      <td>21.7</td>\n",
       "    </tr>\n",
       "    <tr>\n",
       "      <th>1</th>\n",
       "      <td>1233446400</td>\n",
       "      <td>746104.0</td>\n",
       "      <td>27.4</td>\n",
       "    </tr>\n",
       "    <tr>\n",
       "      <th>2</th>\n",
       "      <td>1235865600</td>\n",
       "      <td>903641.0</td>\n",
       "      <td>30.2</td>\n",
       "    </tr>\n",
       "    <tr>\n",
       "      <th>3</th>\n",
       "      <td>1238540400</td>\n",
       "      <td>1211426.0</td>\n",
       "      <td>39.0</td>\n",
       "    </tr>\n",
       "    <tr>\n",
       "      <th>4</th>\n",
       "      <td>1241132400</td>\n",
       "      <td>1220875.0</td>\n",
       "      <td>39.6</td>\n",
       "    </tr>\n",
       "    <tr>\n",
       "      <th>...</th>\n",
       "      <td>...</td>\n",
       "      <td>...</td>\n",
       "      <td>...</td>\n",
       "    </tr>\n",
       "    <tr>\n",
       "      <th>103</th>\n",
       "      <td>1501542000</td>\n",
       "      <td>2809914.0</td>\n",
       "      <td>71.2</td>\n",
       "    </tr>\n",
       "    <tr>\n",
       "      <th>104</th>\n",
       "      <td>1504220400</td>\n",
       "      <td>2638478.0</td>\n",
       "      <td>60.4</td>\n",
       "    </tr>\n",
       "    <tr>\n",
       "      <th>105</th>\n",
       "      <td>1506812400</td>\n",
       "      <td>2388673.0</td>\n",
       "      <td>50.9</td>\n",
       "    </tr>\n",
       "    <tr>\n",
       "      <th>106</th>\n",
       "      <td>1509494400</td>\n",
       "      <td>1652930.0</td>\n",
       "      <td>34.8</td>\n",
       "    </tr>\n",
       "    <tr>\n",
       "      <th>107</th>\n",
       "      <td>1512086400</td>\n",
       "      <td>1825303.0</td>\n",
       "      <td>30.8</td>\n",
       "    </tr>\n",
       "  </tbody>\n",
       "</table>\n",
       "<p>108 rows × 3 columns</p>\n",
       "</div>"
      ],
      "text/plain": [
       "           Date  Landed_Portugal  BNR_Total\n",
       "0    1230768000         752961.0       21.7\n",
       "1    1233446400         746104.0       27.4\n",
       "2    1235865600         903641.0       30.2\n",
       "3    1238540400        1211426.0       39.0\n",
       "4    1241132400        1220875.0       39.6\n",
       "..          ...              ...        ...\n",
       "103  1501542000        2809914.0       71.2\n",
       "104  1504220400        2638478.0       60.4\n",
       "105  1506812400        2388673.0       50.9\n",
       "106  1509494400        1652930.0       34.8\n",
       "107  1512086400        1825303.0       30.8\n",
       "\n",
       "[108 rows x 3 columns]"
      ]
     },
     "metadata": {},
     "output_type": "display_data"
    }
   ],
   "source": [
    "display(data_INE)"
   ]
  },
  {
   "cell_type": "code",
   "execution_count": 32,
   "id": "601fd8a5-3273-412d-83eb-c294e8cb748d",
   "metadata": {
    "tags": []
   },
   "outputs": [
    {
     "data": {
      "image/png": "[encoded data removed]",
      "text/plain": [
       "<Figure size 640x480 with 1 Axes>"
      ]
     },
     "metadata": {},
     "output_type": "display_data"
    }
   ],
   "source": [
    "timeseries_landed = data_INE[[\"Landed_Portugal\"]].values.astype('float32')\n",
    "\n",
    "timeseries_bnr = data_INE[[\"BNR_Total\"]].values.astype('float32')\n",
    "\n",
    "min_max_scaler = preprocessing.MinMaxScaler()\n",
    "timeseries_landed = min_max_scaler.fit_transform(timeseries_landed)\n",
    "timeseries_bnr = min_max_scaler.fit_transform(timeseries_bnr)\n",
    "\n",
    "plt.plot(timeseries_landed) # blue line\n",
    "plt.plot(timeseries_bnr) # orange line\n",
    "plt.show()"
   ]
  },
  {
   "cell_type": "code",
   "execution_count": 34,
   "id": "824bf3eb-ed03-4ee6-b98d-43411612b03a",
   "metadata": {
    "tags": []
   },
   "outputs": [],
   "source": [
    "train_size = int(len(timeseries_landed) * 0.7)\n",
    "test_size = len(timeseries_landed) - train_size\n",
    "train_feature, test_feature = timeseries_landed[:train_size], timeseries_landed[train_size:]\n",
    "train_target, test_target = timeseries_bnr[:train_size], timeseries_bnr[train_size:]"
   ]
  },
  {
   "cell_type": "code",
   "execution_count": 40,
   "id": "c159c10c-dbfb-4be2-9387-e2c62fde9f2a",
   "metadata": {},
   "outputs": [],
   "source": [
    "def create_dataset(feature_dataset, target_dataset, lookback):\n",
    "    X, y = [], []\n",
    "    for i in range(len(feature_dataset)-lookback):\n",
    "        feature = feature_dataset[i:i+lookback]\n",
    "        target = target_dataset[i+1:i+lookback+1]\n",
    "        X.append(feature)\n",
    "        y.append(target)\n",
    "    return torch.tensor(X).to(device), torch.tensor(y).to(device)"
   ]
  },
  {
   "cell_type": "code",
   "execution_count": 77,
   "id": "610edfbb-cb33-4d7f-9005-47c2ccfa9e95",
   "metadata": {},
   "outputs": [
    {
     "name": "stdout",
     "output_type": "stream",
     "text": [
      "torch.Size([63, 12, 1]) torch.Size([63, 12, 1])\n",
      "torch.Size([21, 12, 1]) torch.Size([21, 12, 1])\n"
     ]
    }
   ],
   "source": [
    "lookback = 12\n",
    "X_train, y_train = create_dataset(train_feature,train_target,lookback=lookback)\n",
    "X_test, y_test = create_dataset(test_feature,test_target,lookback=lookback)\n",
    "print(X_train.shape, y_train.shape)\n",
    "print(X_test.shape, y_test.shape)"
   ]
  },
  {
   "cell_type": "code",
   "execution_count": 78,
   "id": "4c52558d-3db1-4232-ae97-1ca57b295b11",
   "metadata": {},
   "outputs": [],
   "source": [
    "class AirModel(nn.Module):\n",
    "    def __init__(self):\n",
    "        super().__init__()\n",
    "        self.lstm = nn.LSTM(input_size=1, hidden_size=50, num_layers=1, batch_first=True)\n",
    "        self.linear = nn.Linear(50, 1)\n",
    "    def forward(self, x):\n",
    "        x, _ = self.lstm(x)\n",
    "        x = self.linear(x)\n",
    "        return x"
   ]
  },
  {
   "cell_type": "code",
   "execution_count": 79,
   "id": "d0f3c794-307e-4cc9-9369-6296b55ceb0f",
   "metadata": {
    "scrolled": true
   },
   "outputs": [
    {
     "name": "stdout",
     "output_type": "stream",
     "text": [
      "Epoch 0: train RMSE 0.3174, test RMSE 0.3909\n",
      "Epoch 10: train RMSE 0.2521, test RMSE 0.2609\n",
      "Epoch 20: train RMSE 0.1594, test RMSE 0.2706\n",
      "Epoch 30: train RMSE 0.1359, test RMSE 0.1864\n",
      "Epoch 40: train RMSE 0.1243, test RMSE 0.1733\n",
      "Epoch 50: train RMSE 0.1165, test RMSE 0.1712\n",
      "Epoch 60: train RMSE 0.1106, test RMSE 0.1695\n",
      "Epoch 70: train RMSE 0.1062, test RMSE 0.1668\n",
      "Epoch 80: train RMSE 0.1025, test RMSE 0.1725\n",
      "Epoch 90: train RMSE 0.0978, test RMSE 0.1617\n",
      "Epoch 100: train RMSE 0.0922, test RMSE 0.1619\n",
      "Epoch 110: train RMSE 0.0873, test RMSE 0.1627\n",
      "Epoch 120: train RMSE 0.0846, test RMSE 0.1702\n",
      "Epoch 130: train RMSE 0.0822, test RMSE 0.1670\n",
      "Epoch 140: train RMSE 0.0811, test RMSE 0.1681\n",
      "Epoch 150: train RMSE 0.0799, test RMSE 0.1669\n",
      "Epoch 160: train RMSE 0.0790, test RMSE 0.1685\n",
      "Epoch 170: train RMSE 0.0787, test RMSE 0.1677\n",
      "Epoch 180: train RMSE 0.0792, test RMSE 0.1655\n",
      "Epoch 190: train RMSE 0.0780, test RMSE 0.1696\n"
     ]
    }
   ],
   "source": [
    "model = AirModel().to(device)\n",
    "optimizer = optim.Adam(model.parameters(), lr=1e-3)\n",
    "loss_fn = nn.MSELoss()\n",
    "loader = data.DataLoader(data.TensorDataset(X_train, y_train), shuffle=True, batch_size=8)\n",
    "\n",
    "n_epochs = 200\n",
    "for epoch in range(n_epochs):\n",
    "    model.train()\n",
    "    for X_batch, y_batch in loader:\n",
    "        y_pred = model(X_batch)\n",
    "        loss = loss_fn(y_pred, y_batch)\n",
    "        optimizer.zero_grad()\n",
    "        loss.backward()\n",
    "        optimizer.step()\n",
    "    # Validation\n",
    "    if epoch % 10 != 0:\n",
    "        continue\n",
    "    model.eval()\n",
    "    with torch.no_grad():\n",
    "        y_pred = model(X_train)\n",
    "        train_rmse = np.sqrt(loss_fn(y_pred.cpu(), y_train.cpu()))\n",
    "        y_pred = model(X_test)\n",
    "        test_rmse = np.sqrt(loss_fn(y_pred.cpu(), y_test.cpu()))\n",
    "    print(\"Epoch %d: train RMSE %.4f, test RMSE %.4f\" % (epoch, train_rmse, test_rmse))"
   ]
  },
  {
   "cell_type": "code",
   "execution_count": 80,
   "id": "692a29d1-8223-47f7-a4e6-a0d97ef8bd53",
   "metadata": {
    "tags": []
   },
   "outputs": [
    {
     "data": {
      "image/png": "[encoded data removed]",
      "text/plain": [
       "<Figure size 640x480 with 1 Axes>"
      ]
     },
     "metadata": {},
     "output_type": "display_data"
    }
   ],
   "source": [
    "with torch.no_grad():\n",
    "    # shift train predictions for plotting\n",
    "    train_plot = np.ones_like(timeseries_bnr) * np.nan\n",
    "    y_pred = model(X_train)\n",
    "    y_pred = y_pred[:, -1, :]\n",
    "    train_plot[lookback:train_size] = model(X_train).cpu()[:, -1, :]\n",
    "    # shift test predictions for plotting\n",
    "    test_plot = np.ones_like(timeseries_bnr) * np.nan\n",
    "    test_plot[train_size+lookback:len(timeseries_bnr)] = model(X_test).cpu()[:, -1, :]\n",
    "# plot\n",
    "plt.plot(timeseries_bnr, c='b')\n",
    "plt.plot(train_plot, c='r')\n",
    "plt.plot(test_plot, c='g')\n",
    "plt.show()"
   ]
  }
 ],
 "metadata": {
  "kernelspec": {
   "display_name": "Python 3 (ipykernel)",
   "language": "python",
   "name": "python3"
  },
  "language_info": {
   "codemirror_mode": {
    "name": "ipython",
    "version": 3
   },
   "file_extension": ".py",
   "mimetype": "text/x-python",
   "name": "python",
   "nbconvert_exporter": "python",
   "pygments_lexer": "ipython3",
   "version": "3.10.6"
  }
 },
 "nbformat": 4,
 "nbformat_minor": 5
}
