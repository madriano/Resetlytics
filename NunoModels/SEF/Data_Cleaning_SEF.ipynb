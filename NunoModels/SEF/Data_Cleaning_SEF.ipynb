{
 "cells": [
  {
   "cell_type": "markdown",
   "id": "e4571a5c",
   "metadata": {},
   "source": [
    "# Imports & Configuration"
   ]
  },
  {
   "cell_type": "code",
   "execution_count": 1,
   "id": "d8f11be2",
   "metadata": {},
   "outputs": [],
   "source": [
    "from pyspark.sql import SparkSession\n",
    "from pyspark.sql.functions import *"
   ]
  },
  {
   "cell_type": "code",
   "execution_count": 2,
   "id": "871bf97b",
   "metadata": {
    "tags": []
   },
   "outputs": [
    {
     "name": "stdout",
     "output_type": "stream",
     "text": [
      "23/07/06 16:39:02 WARN Utils: Your hostname, nuno-g14 resolves to a loopback address: 127.0.1.1; using 192.168.1.103 instead (on interface wlp2s0)\n",
      "23/07/06 16:39:02 WARN Utils: Set SPARK_LOCAL_IP if you need to bind to another address\n"
     ]
    },
    {
     "name": "stderr",
     "output_type": "stream",
     "text": [
      "Setting default log level to \"WARN\".\n",
      "To adjust logging level use sc.setLogLevel(newLevel). For SparkR, use setLogLevel(newLevel).\n"
     ]
    },
    {
     "name": "stdout",
     "output_type": "stream",
     "text": [
      "23/07/06 16:39:02 WARN NativeCodeLoader: Unable to load native-hadoop library for your platform... using builtin-java classes where applicable\n",
      "23/07/06 16:39:03 WARN Utils: Service 'SparkUI' could not bind on port 4040. Attempting port 4041.\n",
      "23/07/06 16:39:03 WARN Utils: Service 'SparkUI' could not bind on port 4041. Attempting port 4042.\n",
      "23/07/06 16:39:03 WARN Utils: Service 'SparkUI' could not bind on port 4042. Attempting port 4043.\n",
      "23/07/06 16:39:03 WARN Utils: Service 'SparkUI' could not bind on port 4043. Attempting port 4044.\n"
     ]
    }
   ],
   "source": [
    "spark = SparkSession \\\n",
    "    .builder \\\n",
    "    .appName(\"Data_Import\") \\\n",
    "    .config(\"spark.memory.offHeap.enabled\",\"true\") \\\n",
    "    .config(\"spark.driver.cores\",\"4\") \\\n",
    "    .config(\"spark.driver.maxResultSize\",\"4g\") \\\n",
    "    .config(\"spark.memory.offHeap.size\",\"4g\") \\\n",
    "    .config(\"spark.driver.memory\", \"4g\")\\\n",
    "    .config(\"spark.executor.memory\",\"4g\")\\\n",
    "    .getOrCreate()"
   ]
  },
  {
   "cell_type": "markdown",
   "id": "9b2aeaf7",
   "metadata": {},
   "source": [
    "# Data Reading"
   ]
  },
  {
   "cell_type": "code",
   "execution_count": 4,
   "id": "28e26e40",
   "metadata": {
    "tags": []
   },
   "outputs": [],
   "source": [
    "frame = spark.read.parquet(\"../../MSc_Model_Datasets/Data_SEF.parquet\")"
   ]
  },
  {
   "cell_type": "code",
   "execution_count": 5,
   "id": "8b68358a",
   "metadata": {
    "tags": []
   },
   "outputs": [
    {
     "name": "stdout",
     "output_type": "stream",
     "text": [
      "+--------+-----------------+-----+---------+-------------+--------------------+--------------------+-----+-----------+-------------+-----------+\n",
      "|     rsn|Unidade_Hoteleira|  CAE|Tipologia|Classificacao|        Data_Checkin|       Data_Checkout|Idade|Concelho_UH|Nacionalidade|Pais_Origem|\n",
      "+--------+-----------------+-----+---------+-------------+--------------------+--------------------+-----+-----------+-------------+-----------+\n",
      "|55561514|             1487|55111|    Hotel|   4 estrelas|2016-11-30T00:00:...|2016-12-01T00:00:...|   35| Matosinhos|  REINO UNIDO|REINO UNIDO|\n",
      "|55561515|             1487|55111|    Hotel|   4 estrelas|2016-11-30T00:00:...|2016-12-01T00:00:...|   32| Matosinhos|  REINO UNIDO|REINO UNIDO|\n",
      "|56150801|              645|55121|    Hotel|   4 estrelas|2017-01-08T00:00:...|2017-01-08T00:00:...|   50|     Lisboa|  REINO UNIDO|REINO UNIDO|\n",
      "|55957037|             1116|55111|    Hotel|   4 estrelas|2016-12-28T00:00:...|2016-12-29T00:00:...|   60|       Faro|  REINO UNIDO|REINO UNIDO|\n",
      "|55957038|             1116|55111|    Hotel|   4 estrelas|2016-12-28T00:00:...|2016-12-29T00:00:...|   66|       Faro|  REINO UNIDO|REINO UNIDO|\n",
      "+--------+-----------------+-----+---------+-------------+--------------------+--------------------+-----+-----------+-------------+-----------+\n",
      "\n"
     ]
    }
   ],
   "source": [
    "frame.limit(5).show()"
   ]
  },
  {
   "cell_type": "markdown",
   "id": "26ce4e47",
   "metadata": {},
   "source": [
    "# Data Cleaning & Exploration"
   ]
  },
  {
   "cell_type": "markdown",
   "id": "d1bd50f7",
   "metadata": {},
   "source": [
    "## Remove Duplicates"
   ]
  },
  {
   "cell_type": "code",
   "execution_count": 6,
   "id": "04546fcc",
   "metadata": {
    "tags": []
   },
   "outputs": [
    {
     "name": "stdout",
     "output_type": "stream",
     "text": [
      "Initial number of rows: 61911504\n"
     ]
    },
    {
     "name": "stderr",
     "output_type": "stream",
     "text": [
      "ERROR:root:KeyboardInterrupt while sending command.               (6 + 11) / 17]\n",
      "Traceback (most recent call last):\n",
      "  File \"/home/nuno/.local/lib/python3.10/site-packages/py4j/java_gateway.py\", line 1038, in send_command\n",
      "    response = connection.send_command(command)\n",
      "  File \"/home/nuno/.local/lib/python3.10/site-packages/py4j/clientserver.py\", line 511, in send_command\n",
      "    answer = smart_decode(self.stream.readline()[:-1])\n",
      "  File \"/usr/lib/python3.10/socket.py\", line 705, in readinto\n",
      "    return self._sock.recv_into(b)\n",
      "KeyboardInterrupt\n"
     ]
    },
    {
     "ename": "KeyboardInterrupt",
     "evalue": "",
     "output_type": "error",
     "traceback": [
      "\u001b[0;31m---------------------------------------------------------------------------\u001b[0m",
      "\u001b[0;31mKeyboardInterrupt\u001b[0m                         Traceback (most recent call last)",
      "Cell \u001b[0;32mIn[6], line 8\u001b[0m\n\u001b[1;32m      5\u001b[0m \u001b[38;5;28mprint\u001b[39m(\u001b[38;5;124m\"\u001b[39m\u001b[38;5;124mInitial number of rows: \u001b[39m\u001b[38;5;124m\"\u001b[39m \u001b[38;5;241m+\u001b[39m \u001b[38;5;28mstr\u001b[39m(initial_rows))\n\u001b[1;32m      7\u001b[0m frame \u001b[38;5;241m=\u001b[39m frame\u001b[38;5;241m.\u001b[39mdistinct()\n\u001b[0;32m----> 8\u001b[0m after_general_drop_rows \u001b[38;5;241m=\u001b[39m \u001b[43mframe\u001b[49m\u001b[38;5;241;43m.\u001b[39;49m\u001b[43mcount\u001b[49m\u001b[43m(\u001b[49m\u001b[43m)\u001b[49m\n\u001b[1;32m     10\u001b[0m \u001b[38;5;28mprint\u001b[39m(\u001b[38;5;124m\"\u001b[39m\u001b[38;5;124mNumber of rows after removing general duplicates: \u001b[39m\u001b[38;5;124m\"\u001b[39m \u001b[38;5;241m+\u001b[39m \u001b[38;5;28mstr\u001b[39m(after_general_drop_rows))\n\u001b[1;32m     11\u001b[0m \u001b[38;5;28mprint\u001b[39m(\u001b[38;5;124m\"\u001b[39m\u001b[38;5;124mNumber of rows droped: \u001b[39m\u001b[38;5;124m\"\u001b[39m \u001b[38;5;241m+\u001b[39m \u001b[38;5;28mstr\u001b[39m(initial_rows \u001b[38;5;241m-\u001b[39m after_general_drop_rows))\n",
      "File \u001b[0;32m~/.local/lib/python3.10/site-packages/pyspark/sql/dataframe.py:804\u001b[0m, in \u001b[0;36mDataFrame.count\u001b[0;34m(self)\u001b[0m\n\u001b[1;32m    794\u001b[0m \u001b[38;5;28;01mdef\u001b[39;00m \u001b[38;5;21mcount\u001b[39m(\u001b[38;5;28mself\u001b[39m) \u001b[38;5;241m-\u001b[39m\u001b[38;5;241m>\u001b[39m \u001b[38;5;28mint\u001b[39m:\n\u001b[1;32m    795\u001b[0m \u001b[38;5;250m    \u001b[39m\u001b[38;5;124;03m\"\"\"Returns the number of rows in this :class:`DataFrame`.\u001b[39;00m\n\u001b[1;32m    796\u001b[0m \n\u001b[1;32m    797\u001b[0m \u001b[38;5;124;03m    .. versionadded:: 1.3.0\u001b[39;00m\n\u001b[0;32m   (...)\u001b[0m\n\u001b[1;32m    802\u001b[0m \u001b[38;5;124;03m    2\u001b[39;00m\n\u001b[1;32m    803\u001b[0m \u001b[38;5;124;03m    \"\"\"\u001b[39;00m\n\u001b[0;32m--> 804\u001b[0m     \u001b[38;5;28;01mreturn\u001b[39;00m \u001b[38;5;28mint\u001b[39m(\u001b[38;5;28;43mself\u001b[39;49m\u001b[38;5;241;43m.\u001b[39;49m\u001b[43m_jdf\u001b[49m\u001b[38;5;241;43m.\u001b[39;49m\u001b[43mcount\u001b[49m\u001b[43m(\u001b[49m\u001b[43m)\u001b[49m)\n",
      "File \u001b[0;32m~/.local/lib/python3.10/site-packages/py4j/java_gateway.py:1320\u001b[0m, in \u001b[0;36mJavaMember.__call__\u001b[0;34m(self, *args)\u001b[0m\n\u001b[1;32m   1313\u001b[0m args_command, temp_args \u001b[38;5;241m=\u001b[39m \u001b[38;5;28mself\u001b[39m\u001b[38;5;241m.\u001b[39m_build_args(\u001b[38;5;241m*\u001b[39margs)\n\u001b[1;32m   1315\u001b[0m command \u001b[38;5;241m=\u001b[39m proto\u001b[38;5;241m.\u001b[39mCALL_COMMAND_NAME \u001b[38;5;241m+\u001b[39m\\\n\u001b[1;32m   1316\u001b[0m     \u001b[38;5;28mself\u001b[39m\u001b[38;5;241m.\u001b[39mcommand_header \u001b[38;5;241m+\u001b[39m\\\n\u001b[1;32m   1317\u001b[0m     args_command \u001b[38;5;241m+\u001b[39m\\\n\u001b[1;32m   1318\u001b[0m     proto\u001b[38;5;241m.\u001b[39mEND_COMMAND_PART\n\u001b[0;32m-> 1320\u001b[0m answer \u001b[38;5;241m=\u001b[39m \u001b[38;5;28;43mself\u001b[39;49m\u001b[38;5;241;43m.\u001b[39;49m\u001b[43mgateway_client\u001b[49m\u001b[38;5;241;43m.\u001b[39;49m\u001b[43msend_command\u001b[49m\u001b[43m(\u001b[49m\u001b[43mcommand\u001b[49m\u001b[43m)\u001b[49m\n\u001b[1;32m   1321\u001b[0m return_value \u001b[38;5;241m=\u001b[39m get_return_value(\n\u001b[1;32m   1322\u001b[0m     answer, \u001b[38;5;28mself\u001b[39m\u001b[38;5;241m.\u001b[39mgateway_client, \u001b[38;5;28mself\u001b[39m\u001b[38;5;241m.\u001b[39mtarget_id, \u001b[38;5;28mself\u001b[39m\u001b[38;5;241m.\u001b[39mname)\n\u001b[1;32m   1324\u001b[0m \u001b[38;5;28;01mfor\u001b[39;00m temp_arg \u001b[38;5;129;01min\u001b[39;00m temp_args:\n",
      "File \u001b[0;32m~/.local/lib/python3.10/site-packages/py4j/java_gateway.py:1038\u001b[0m, in \u001b[0;36mGatewayClient.send_command\u001b[0;34m(self, command, retry, binary)\u001b[0m\n\u001b[1;32m   1036\u001b[0m connection \u001b[38;5;241m=\u001b[39m \u001b[38;5;28mself\u001b[39m\u001b[38;5;241m.\u001b[39m_get_connection()\n\u001b[1;32m   1037\u001b[0m \u001b[38;5;28;01mtry\u001b[39;00m:\n\u001b[0;32m-> 1038\u001b[0m     response \u001b[38;5;241m=\u001b[39m \u001b[43mconnection\u001b[49m\u001b[38;5;241;43m.\u001b[39;49m\u001b[43msend_command\u001b[49m\u001b[43m(\u001b[49m\u001b[43mcommand\u001b[49m\u001b[43m)\u001b[49m\n\u001b[1;32m   1039\u001b[0m     \u001b[38;5;28;01mif\u001b[39;00m binary:\n\u001b[1;32m   1040\u001b[0m         \u001b[38;5;28;01mreturn\u001b[39;00m response, \u001b[38;5;28mself\u001b[39m\u001b[38;5;241m.\u001b[39m_create_connection_guard(connection)\n",
      "File \u001b[0;32m~/.local/lib/python3.10/site-packages/py4j/clientserver.py:511\u001b[0m, in \u001b[0;36mClientServerConnection.send_command\u001b[0;34m(self, command)\u001b[0m\n\u001b[1;32m    509\u001b[0m \u001b[38;5;28;01mtry\u001b[39;00m:\n\u001b[1;32m    510\u001b[0m     \u001b[38;5;28;01mwhile\u001b[39;00m \u001b[38;5;28;01mTrue\u001b[39;00m:\n\u001b[0;32m--> 511\u001b[0m         answer \u001b[38;5;241m=\u001b[39m smart_decode(\u001b[38;5;28;43mself\u001b[39;49m\u001b[38;5;241;43m.\u001b[39;49m\u001b[43mstream\u001b[49m\u001b[38;5;241;43m.\u001b[39;49m\u001b[43mreadline\u001b[49m\u001b[43m(\u001b[49m\u001b[43m)\u001b[49m[:\u001b[38;5;241m-\u001b[39m\u001b[38;5;241m1\u001b[39m])\n\u001b[1;32m    512\u001b[0m         logger\u001b[38;5;241m.\u001b[39mdebug(\u001b[38;5;124m\"\u001b[39m\u001b[38;5;124mAnswer received: \u001b[39m\u001b[38;5;132;01m{0}\u001b[39;00m\u001b[38;5;124m\"\u001b[39m\u001b[38;5;241m.\u001b[39mformat(answer))\n\u001b[1;32m    513\u001b[0m         \u001b[38;5;66;03m# Happens when a the other end is dead. There might be an empty\u001b[39;00m\n\u001b[1;32m    514\u001b[0m         \u001b[38;5;66;03m# answer before the socket raises an error.\u001b[39;00m\n",
      "File \u001b[0;32m/usr/lib/python3.10/socket.py:705\u001b[0m, in \u001b[0;36mSocketIO.readinto\u001b[0;34m(self, b)\u001b[0m\n\u001b[1;32m    703\u001b[0m \u001b[38;5;28;01mwhile\u001b[39;00m \u001b[38;5;28;01mTrue\u001b[39;00m:\n\u001b[1;32m    704\u001b[0m     \u001b[38;5;28;01mtry\u001b[39;00m:\n\u001b[0;32m--> 705\u001b[0m         \u001b[38;5;28;01mreturn\u001b[39;00m \u001b[38;5;28;43mself\u001b[39;49m\u001b[38;5;241;43m.\u001b[39;49m\u001b[43m_sock\u001b[49m\u001b[38;5;241;43m.\u001b[39;49m\u001b[43mrecv_into\u001b[49m\u001b[43m(\u001b[49m\u001b[43mb\u001b[49m\u001b[43m)\u001b[49m\n\u001b[1;32m    706\u001b[0m     \u001b[38;5;28;01mexcept\u001b[39;00m timeout:\n\u001b[1;32m    707\u001b[0m         \u001b[38;5;28mself\u001b[39m\u001b[38;5;241m.\u001b[39m_timeout_occurred \u001b[38;5;241m=\u001b[39m \u001b[38;5;28;01mTrue\u001b[39;00m\n",
      "\u001b[0;31mKeyboardInterrupt\u001b[0m: "
     ]
    },
    {
     "name": "stderr",
     "output_type": "stream",
     "text": [
      "[Stage 7:>                                                        (0 + 16) / 40]\r"
     ]
    }
   ],
   "source": [
    "# Removing general duplicates (with the values of all the columns equal)\n",
    "\n",
    "initial_rows = frame.count()\n",
    "\n",
    "print(\"Initial number of rows: \" + str(initial_rows))\n",
    "\n",
    "frame = frame.distinct()\n",
    "after_general_drop_rows = frame.count()\n",
    "\n",
    "print(\"Number of rows after removing general duplicates: \" + str(after_general_drop_rows))\n",
    "print(\"Number of rows droped: \" + str(initial_rows - after_general_drop_rows))\n",
    "\n",
    "# Removing rsn duplicates \n",
    "\n",
    "initial_rows = frame.count()\n",
    "frame = frame.dropDuplicates(['rsn'])\n",
    "after_rsn_drop_rows = frame.count()\n",
    "\n",
    "print(\"Number of rows after removing rsn duplicates: \" + str(after_rsn_drop_rows))\n",
    "print(\"Number of rows droped: \" + str(initial_rows - after_rsn_drop_rows))"
   ]
  },
  {
   "cell_type": "markdown",
   "id": "1679b657",
   "metadata": {},
   "source": [
    "## Dropping Null Values"
   ]
  },
  {
   "cell_type": "code",
   "execution_count": null,
   "id": "30cfa4a2",
   "metadata": {
    "tags": []
   },
   "outputs": [],
   "source": [
    "frame = frame.na.drop(subset=[\"rsn\", \"Unidade_Hoteleira\", \"CAE\", \"Tipologia\", \"Data_Checkin\", \"Data_Checkout\", \"Idade\", \n",
    "                      \"Concelho_UH\", \"Nacionalidade\", \"Pais_Origem\"])"
   ]
  },
  {
   "cell_type": "markdown",
   "id": "61e8d64e",
   "metadata": {},
   "source": [
    "## Dealing with strange Values"
   ]
  },
  {
   "cell_type": "code",
   "execution_count": null,
   "id": "5127758c",
   "metadata": {
    "tags": []
   },
   "outputs": [],
   "source": [
    "frame = frame.withColumn('Data_Checkin', \\\n",
    "         to_timestamp('Data_Checkin'))\n",
    "frame = frame.withColumn('Data_Checkout', \\\n",
    "         to_timestamp('Data_Checkout'))"
   ]
  },
  {
   "cell_type": "code",
   "execution_count": null,
   "id": "b6162401",
   "metadata": {
    "tags": []
   },
   "outputs": [],
   "source": [
    "frame = frame.where(frame.Idade>=1)"
   ]
  },
  {
   "cell_type": "code",
   "execution_count": null,
   "id": "876a9f0b",
   "metadata": {
    "tags": []
   },
   "outputs": [],
   "source": [
    "frame = frame.withColumn(\"Number_of_Nights\", datediff(col(\"Data_Checkout\"),col(\"Data_Checkin\")))"
   ]
  },
  {
   "cell_type": "code",
   "execution_count": null,
   "id": "3fe1fc02",
   "metadata": {
    "tags": []
   },
   "outputs": [],
   "source": [
    "frame = frame.withColumn(\"Year\", year(col(\"Data_Checkin\")))"
   ]
  },
  {
   "cell_type": "code",
   "execution_count": null,
   "id": "3ca41d6e",
   "metadata": {
    "tags": []
   },
   "outputs": [],
   "source": [
    "frame = frame.where(frame.Number_of_Nights <= 99).where(frame.Number_of_Nights >= 1)\n",
    "frame = frame.where(frame.Year <= 2018).where(frame.Year >= 2014)"
   ]
  },
  {
   "cell_type": "code",
   "execution_count": null,
   "id": "b3013243-d1ae-4168-9560-1a721f15d004",
   "metadata": {},
   "outputs": [],
   "source": [
    "if torch.cuda.is_available(): \n",
    "    dev = \"cuda:0\" \n",
    "else: \n",
    "    dev = \"cpu\" \n",
    "device = torch.device(dev) \n",
    "print(dev)"
   ]
  },
  {
   "cell_type": "code",
   "execution_count": null,
   "id": "8905619f-c658-4889-a5ef-840a435b4e6b",
   "metadata": {
    "tags": []
   },
   "outputs": [],
   "source": [
    "initial_rows = after_rsn_drop_rows\n",
    "after_strange_drop_rows = frame.count()\n",
    "print(\"Initial number of rows: \" + str(initial_rows))\n",
    "print(\"Number of rows after removing strange values: \" + str(after_strange_drop_rows))\n",
    "print(\"Number of rows droped: \" + str(initial_rows - after_strange_drop_rows))"
   ]
  },
  {
   "cell_type": "markdown",
   "id": "e38ee2ec",
   "metadata": {},
   "source": [
    "## Dealing with Schema"
   ]
  },
  {
   "cell_type": "code",
   "execution_count": null,
   "id": "d66a6570",
   "metadata": {},
   "outputs": [],
   "source": [
    "frame = frame.withColumn('Data_Checkin', \\\n",
    "         unix_timestamp('Data_Checkin'))\n",
    "frame = frame.withColumn('Data_Checkout', \\\n",
    "         unix_timestamp('Data_Checkout'))"
   ]
  },
  {
   "cell_type": "code",
   "execution_count": null,
   "id": "acbb05a6",
   "metadata": {},
   "outputs": [],
   "source": [
    "frame = frame.withColumn(\"rsn\",frame.rsn.cast('long'))\n",
    "frame = frame.withColumn(\"Unidade_Hoteleira\",frame.Unidade_Hoteleira.cast('double'))\n",
    "frame = frame.withColumn(\"CAE\",frame.CAE.cast('double'))\n",
    "frame = frame.withColumn(\"Idade\",frame.Idade.cast('double'))\n",
    "frame = frame.withColumn(\"Classificacao\", regexp_replace(col(\"Classificacao\"), \" estrelas\", \"\"))\n",
    "frame = frame.withColumn(\"Classificacao\",frame.Classificacao.cast('double'))\n",
    "\n",
    "frame = frame.drop(\"Year\")"
   ]
  },
  {
   "cell_type": "code",
   "execution_count": null,
   "id": "6f755636",
   "metadata": {
    "scrolled": true
   },
   "outputs": [],
   "source": [
    "frame.printSchema()"
   ]
  },
  {
   "cell_type": "code",
   "execution_count": null,
   "id": "c0fa9f94",
   "metadata": {},
   "outputs": [],
   "source": [
    "frame.limit(5).show()"
   ]
  },
  {
   "cell_type": "markdown",
   "id": "461e114e",
   "metadata": {},
   "source": [
    "# Data Writing"
   ]
  },
  {
   "cell_type": "code",
   "execution_count": null,
   "id": "2f95061c",
   "metadata": {},
   "outputs": [],
   "source": [
    "frame.write.parquet(\"../MSc_Model_Datasets/Data_SEF_Clean.parquet\")"
   ]
  },
  {
   "cell_type": "code",
   "execution_count": null,
   "id": "2e64a6b4-952e-4775-aa71-37b874a23451",
   "metadata": {},
   "outputs": [],
   "source": []
  }
 ],
 "metadata": {
  "kernelspec": {
   "display_name": "Python 3 (ipykernel)",
   "language": "python",
   "name": "python3"
  },
  "language_info": {
   "codemirror_mode": {
    "name": "ipython",
    "version": 3
   },
   "file_extension": ".py",
   "mimetype": "text/x-python",
   "name": "python",
   "nbconvert_exporter": "python",
   "pygments_lexer": "ipython3",
   "version": "3.10.6"
  }
 },
 "nbformat": 4,
 "nbformat_minor": 5
}
