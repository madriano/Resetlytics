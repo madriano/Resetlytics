{
 "cells": [
  {
   "cell_type": "markdown",
   "id": "b68f3fd2-7f48-4a8f-af8a-6dc98b0f7c96",
   "metadata": {},
   "source": [
    "**Data preparation for Sentiment Analysis (SA)**\n",
    "\n",
    "The goal is to create a proper reviews data file for further processing. \n"
   ]
  },
  {
   "cell_type": "code",
   "execution_count": 1,
   "id": "96e852c6-4424-494d-94ce-623e8fa038e1",
   "metadata": {},
   "outputs": [
    {
     "data": {
      "text/html": [
       "\n",
       "            <div>\n",
       "                <p><b>SparkSession - hive</b></p>\n",
       "                \n",
       "        <div>\n",
       "            <p><b>SparkContext</b></p>\n",
       "\n",
       "            <p><a href=\"http://mini-de-adriano.lan:4041\">Spark UI</a></p>\n",
       "\n",
       "            <dl>\n",
       "              <dt>Version</dt>\n",
       "                <dd><code>v3.4.0</code></dd>\n",
       "              <dt>Master</dt>\n",
       "                <dd><code>local[*]</code></dd>\n",
       "              <dt>AppName</dt>\n",
       "                <dd><code>pyspark-shell</code></dd>\n",
       "            </dl>\n",
       "        </div>\n",
       "        \n",
       "            </div>\n",
       "        "
      ],
      "text/plain": [
       "<pyspark.sql.session.SparkSession at 0x111134c10>"
      ]
     },
     "execution_count": 1,
     "metadata": {},
     "output_type": "execute_result"
    }
   ],
   "source": [
    "spark"
   ]
  },
  {
   "cell_type": "markdown",
   "id": "a5c50e5a-1df9-4cd3-98c4-054f1b774055",
   "metadata": {},
   "source": [
    "# Initial settings"
   ]
  },
  {
   "cell_type": "code",
   "execution_count": 2,
   "id": "cee2968e-1db4-4537-a5e3-8d2f1f093116",
   "metadata": {},
   "outputs": [],
   "source": [
    "%%bash\n",
    "# pip3 install pandas numpy matplot seaborn\n",
    "# pip3 install -U textblob\n",
    "# python3 -m textblob.download_corpora lite"
   ]
  },
  {
   "cell_type": "code",
   "execution_count": null,
   "id": "14e82c2c-869b-4adf-81fc-ad5758955cfd",
   "metadata": {},
   "outputs": [],
   "source": []
  },
  {
   "cell_type": "code",
   "execution_count": 3,
   "id": "7695d269-7288-44fc-ac5e-dc54b3b62a7a",
   "metadata": {},
   "outputs": [],
   "source": [
    "import os, sys\n",
    "\n",
    "import pandas as pd\n",
    "import numpy as np\n",
    "import matplotlib.pyplot as plt\n",
    "import seaborn as sns"
   ]
  },
  {
   "cell_type": "code",
   "execution_count": 4,
   "id": "704e5516-10c8-4449-a6e4-57e2228a2953",
   "metadata": {},
   "outputs": [
    {
     "name": "stderr",
     "output_type": "stream",
     "text": [
      "[nltk_data] Downloading package stopwords to\n",
      "[nltk_data]     /Users/adriano/nltk_data...\n",
      "[nltk_data]   Package stopwords is already up-to-date!\n"
     ]
    }
   ],
   "source": [
    "# Text processing related imports\n",
    "\n",
    "import re, string\n",
    "import nltk\n",
    "nltk.download('stopwords')\n",
    "from nltk.corpus import stopwords\n",
    "from textblob import TextBlob"
   ]
  },
  {
   "cell_type": "code",
   "execution_count": 5,
   "id": "89b55fee-dcee-465a-b9a0-04f8e64462d1",
   "metadata": {},
   "outputs": [],
   "source": [
    "# some Spark related imports we will use hereafter\n",
    "\n",
    "from pyspark.sql import SparkSession \n",
    "import pyspark.sql.functions as F \n",
    "from pyspark.sql.types import *"
   ]
  },
  {
   "cell_type": "code",
   "execution_count": 6,
   "id": "c4fbadae-c44a-4f55-b81d-45077e9c407b",
   "metadata": {},
   "outputs": [
    {
     "name": "stderr",
     "output_type": "stream",
     "text": [
      "23/07/23 20:44:04 WARN SparkSession: Using an existing Spark session; only runtime SQL configurations will take effect.\n"
     ]
    }
   ],
   "source": [
    "# Create Spark session if we want to\n",
    "\n",
    "spark = SparkSession.builder.appName(\"ResettingDataPreparationSentimentAnalysis\").getOrCreate()"
   ]
  },
  {
   "cell_type": "markdown",
   "id": "0d6b5603-d5d5-4080-950f-8113b3f49df4",
   "metadata": {},
   "source": [
    "# Data ingestion"
   ]
  },
  {
   "cell_type": "code",
   "execution_count": 7,
   "id": "b4ae97cc-7abe-44dc-8c63-c40668f50356",
   "metadata": {},
   "outputs": [],
   "source": [
    "filepath = 'data'"
   ]
  },
  {
   "cell_type": "code",
   "execution_count": 8,
   "id": "d160ea46-3a06-456b-8d69-e647e05e0633",
   "metadata": {},
   "outputs": [
    {
     "name": "stdout",
     "output_type": "stream",
     "text": [
      "data/StoneBeach.fin.csv\n",
      "data/Achlada.fin.2.csv\n",
      "data/HotelJerry.fin.csv\n",
      "data/aguadalma.fin.2.csv\n",
      "data/FamilyHotelRelax.fin.csv\n",
      "data/arolithos.fin.csv\n",
      "data/HotelManili.fin.csv\n",
      "data/Senator.fin.csv\n",
      "data/SevenRoomsFlat.fin.csv\n",
      "data/LxRossio.fin.csv\n",
      "data/HotelElCami.fin.csv\n",
      "data/archanes.fin.csv\n",
      "data/FarmaSotira.fin.csv\n",
      "data/MonteDaProvenca.csv\n"
     ]
    }
   ],
   "source": [
    "for dirname, _, filenames in os.walk(filepath):\n",
    "    for filename in filenames:\n",
    "        print(os.path.join(dirname, filename))"
   ]
  },
  {
   "cell_type": "code",
   "execution_count": 9,
   "id": "3e622ca6-35c7-4fa7-a922-a7d945d7dbac",
   "metadata": {},
   "outputs": [
    {
     "name": "stdout",
     "output_type": "stream",
     "text": [
      "total 328\n",
      "drwxr-xr-x@ 16 adriano  staff    512 Jun 12 23:17 \u001b[34m.\u001b[m\u001b[m\n",
      "drwxr-xr-x  14 adriano  staff    448 Jul 23 20:42 \u001b[34m..\u001b[m\u001b[m\n",
      "-rw-rw-r--@  1 adriano  staff  14421 Jun 14 12:36 Achlada.fin.2.csv\n",
      "-rw-rw-r--@  1 adriano  staff   3885 Jun 14 12:37 FamilyHotelRelax.fin.csv\n",
      "-rw-rw-r--@  1 adriano  staff   3717 Jun 14 12:39 FarmaSotira.fin.csv\n",
      "-rw-rw-r--@  1 adriano  staff   4145 Jun 14 12:39 HotelElCami.fin.csv\n",
      "-rw-rw-r--@  1 adriano  staff   4486 Jun 14 12:40 HotelJerry.fin.csv\n",
      "-rw-rw-r--@  1 adriano  staff  16064 Jun 14 12:40 HotelManili.fin.csv\n",
      "-rw-rw-r--@  1 adriano  staff   7213 Jun 14 12:40 LxRossio.fin.csv\n",
      "-rw-rw-r--@  1 adriano  staff  19503 Jun 14 12:40 MonteDaProvenca.csv\n",
      "-rw-rw-r--@  1 adriano  staff   5347 Jun 14 12:41 Senator.fin.csv\n",
      "-rw-rw-r--@  1 adriano  staff   5975 Jun 14 12:41 SevenRoomsFlat.fin.csv\n",
      "-rw-rw-r--@  1 adriano  staff   4443 Jun 14 12:41 StoneBeach.fin.csv\n",
      "-rw-rw-r--@  1 adriano  staff  12314 Jun 14 12:36 aguadalma.fin.2.csv\n",
      "-rw-rw-r--@  1 adriano  staff  13604 Jun 14 12:37 archanes.fin.csv\n",
      "-rw-rw-r--@  1 adriano  staff  21692 Jun 14 12:37 arolithos.fin.csv\n"
     ]
    }
   ],
   "source": [
    "%%bash\n",
    "ls -la data"
   ]
  },
  {
   "cell_type": "code",
   "execution_count": 10,
   "id": "46808340-f878-40d7-b7c4-ee2788b6b24f",
   "metadata": {},
   "outputs": [
    {
     "name": "stdout",
     "output_type": "stream",
     "text": [
      "\n",
      "File: ./data/Achlada.fin.2.csv\n",
      "﻿ID;Source;Entity;Location;Country;Collection date;Review date;Review text\n",
      "1683299003-58;https://www.tripadvisor.com/Hotel_Review-g14007852-d1058472-Reviews-Achlada_Mourtzanakis_Residence-Achlada_Crete.html#/media/1058472/111479167:p/?albumid=101&type=0&category=101;Mourtzanakis Residence;Achlada, Crete;Greece;05/05/2023;01/07/2022;If you are Looking for a magical vacation in nature ,with magic views of the  sea, mountains all around ,the ringing goats grazing in the meadow, and clear mountain air the…… ‏MourtzanakIs  Resort is the perfect place. ‏ It is a  calm and quiet place with a strong  presence of nature. ‏ The resort is located in an ancient village called Achlada which is about a half hour far  from Heraklion ‏ We had a small vacation unit which was quiet well equipped.  The staff was  polite and willing to help us in everything. Every request was fulfilled with a smile. ‏ The owner of the place, Marcus, is a  friendly and charming person,  with great hospitality.He made us feel at home . ‏ His son Valeri guided us in a tour  to the mountains and ancient  villages.It was very interesting and we\n",
      "\n",
      "1683299114-77;https://www.tripadvisor.com/Hotel_Review-g14007852-d1058472-Reviews-or10-Achlada_Mourtzanakis_Residence-Achlada_Crete.html#REVIEWS;Mourtzanakis Residence;Achlada, Crete;Greece;05/05/2023;01/06/2016;A beautiful B&B with wonderful hosts who take extra care of you. I had issues with my rental car company and the hosts, Marco and Smaro, spent at least an hour on the phone to help me sort it out, successfully. They are very kind, sweet and helpful. Awesome villas--we stayed in the 2-story Alpha which has a balcony with a superlative view, a nice kitchen and dining area, a great bedroom upstairs and living area downstairs. It is like a home away from home in charming Crete. I strongly recommend this B&B for peace and quiet, access to a beautiful beach downhill, and centrality to visit the rest of Crete.   Also, make sure to enjoy the swimming pools!\n",
      "\n",
      "File: ./data/FamilyHotelRelax.fin.csv\n",
      "﻿ID;Source;Entity;Location;Country;Collection date;Review date;Review text\n",
      "1683300312-113;https://www.tripadvisor.com/Hotel_Review-g194895-d1825903-Reviews-Family_Hotel_Relax-San_Benedetto_Del_Tronto_Province_of_Ascoli_Piceno_Marche.html;Family Hotel Relax;San Benedetto Del Tronto;Italy;05/05/2023;01/09/2022;We have spent beautiful weekend. The hotel is simply perfect for families. Children play and parents can really relax. I appreciate each single facility (area for small kids, different areas in restaurant, bicycles).\n",
      "\n",
      "1683300312-118;https://www.tripadvisor.com/Hotel_Review-g194895-d1825903-Reviews-Family_Hotel_Relax-San_Benedetto_Del_Tronto_Province_of_Ascoli_Piceno_Marche.html;Family Hotel Relax;San Benedetto Del Tronto;Italy;05/05/2023;01/06/2019;We had some wonderful food. The fish was so fresh and well prepared.  The pasta was cooked to perfection. Silvio treated us like family and he was a great host. Would definitely eat here on our next visit to San Benedetto del Tronto\n",
      "\n",
      "File: ./data/FarmaSotira.fin.csv\n",
      "﻿ID;Source;Entity;Location;Country;Collection date;Review date;Review text\n",
      "1683300125-108;https://www.tripadvisor.com/Restaurant_Review-g15585007-d5308287-Reviews-Farma_Sotira-Leskovik_Korce_County.html;Farma Sotira;Leskovic, Albania;Albania;05/05/2023;01/06/2022;The place is beautifully situated inside a large park. We ate amazing trout straight out of the water, perfectly prepared. We also fed some of the free-range ducks (and dogs) wandering around. Beautiful location with delicious food. I'd love to go back there to eat,...as well as stay in their accommodations.More\n",
      "\n",
      "1683300125-112;https://www.tripadvisor.com/Restaurant_Review-g15585007-d5308287-Reviews-Farma_Sotira-Leskovik_Korce_County.html;Farma Sotira;Leskovic, Albania;Albania;05/05/2023;01/10/2013;we arrived at the restaurant during the lunch time and a lady asked for a reservation otherwise they had no food!!! it is an open rastaurant and nobody does reservation at least only for two persons! the next words from her were: get away in...a very insulting way! the road to that place is horrible and it is a sacrifice in a sort of way getting there! and when you find this way of behavior than it is horrible!!! Very, very bad!!!More\n",
      "\n",
      "File: ./data/HotelElCami.fin.csv\n",
      "ID;Source;Entity;Location;Country;Collection date;Review date;Review text\n",
      "1683297601-1;https://www.tripadvisor.com/Hotel_Review-g580328-d1866816-Reviews-Hotel_El_Cami-Cambrils_Baix_Camp_Costa_Dorada_Province_of_Tarragona_Catalonia.html;Hotel El Cami;Cambrils, Spain;Spain;05/05/2023;01/03/2023;Fantastic place . Yolanda and Francesco where the owners and so kind and accomodating. We will be back. Clean and shinning  Breakfast was ample to start your day. Highly recommended Eileen and Jon and 2 wee dogs. Inside garden was beautiful.\n",
      "\n",
      "1683297601-7;https://www.tripadvisor.com/Hotel_Review-g580328-d1866816-Reviews-Hotel_El_Cami-Cambrils_Baix_Camp_Costa_Dorada_Province_of_Tarragona_Catalonia.html;Hotel El Cami;Cambrils, Spain;Spain;05/05/2023;01/06/2015;A good choice for a correct place to stay in Cambrils. Maybe it's a bit far from the beach, but there is a bus stop in front of the hotel.  The restaurant it's perfect, tasty food, good prices and kindly waiters. You will feel like home.\n",
      "\n",
      "File: ./data/HotelJerry.fin.csv\n",
      "﻿ID;Source;Entity;Location;Country;Collection date;Review date;Review text\n",
      "1683300554-119;https://www.tripadvisor.com/Hotel_Review-g730082-d1475204-Reviews-Hotel_Jerry-Grottammare_Province_of_Ascoli_Piceno_Marche.html;Hotel Jerry Grottammare;Grottammare, Italy;Italy;05/05/2023;01/08/2022;Grottammare is the greatest hidden gem on the Adriatic coast and we always stay at Hotel Jerry which is undoubtedly our favourite hotel in Italy. Given we have now been coming here with various family and friends for 20 years and have a great relationship with the wonderful family running the hotel, that says it all really!\n",
      "\n",
      "1683300554-125;https://www.tripadvisor.com/Hotel_Review-g730082-d1475204-Reviews-Hotel_Jerry-Grottammare_Province_of_Ascoli_Piceno_Marche.html;Hotel Jerry Grottammare;Grottammare, Italy;Italy;05/05/2023;01/07/2014;Excellent hotel, owned by a friendly family. It's very clean, confortable, first class Italian food  (delicious fish and pasta ) and service. Good situation on the sea front ( great sandy beach ).  It's the ninth time we spend a holiday there ! What else can I say !!!\n",
      "\n",
      "File: ./data/HotelManili.fin.csv\n",
      "﻿ID;Source;Entity;Location;Country;Collection date;Review date;Review text\n",
      "1683298039-8;https://www.tripadvisor.com/Hotel_Review-g1101777-d6922153-Reviews-Manili_Boutique_Suites_Villas-Archanes_Crete.html;Manili Boutique Suites Villas;Archanes, Crete, Greece;Greece;05/05/2023;01/10/2022;Really nice propert with unusual design and decor. Very clean and comfortable with excellent service from all the staff. Very quiet location, but a very short walk to the main square. Highly recommend this property and the village of Archanes.\n",
      "\n",
      "1683298373-57;https://www.tripadvisor.com/Hotel_Review-g1101777-d6922153-Reviews-or20-Manili_Boutique_Suites_Villas-Archanes_Crete.html#REVIEWS;Manili Boutique Suites Villas;Archanes, Crete, Greece;Greece;05/05/2023;01/07/2018;These villas were just incredible. You arrive into a small, romantic Greek village that immediately transports you to the days of old with cobblestone streets and grapes flowing off of the bones around every corner. Manilli Villas is without a doubt the nicest, most up to date partnof this town but without losing an ounce of charm, convenience and overall beauty. The attention to detail from the marble floors to the fact that you have 3 bathrooms to accompany all of the 3 bathrooms makes it ideal if traveling in a group of family and friends. The added convenience of being less an 1/8 mile walk down to the historic, quaint Square in the center of Archanes that is lined with shops and amazing restaurants/cafes. I would stay here time and time again. Also, the fact that there’s a\n",
      "\n",
      "File: ./data/LxRossio.fin.csv\n",
      "﻿ID;Source;Entity;Location;Country;Collection date;Review date;Review text\n",
      "1684243884-1;https://www.tripadvisor.com/Hotel_Review-g189158-d235625-Reviews-Hotel_LX_Rossio-Lisbon_Lisbon_District_Central_Portugal.html;Hotel LX Rossio;Lisbon, Portugal;Portugal;16/05/2023;01/04/2023;We recently stayed at this hotel.   The hotel fronts out onto a pedestrianized street and the area around the hotel is very safe and tends to get very quiet at night.  Near the hotel, via a less than a minute walk, is Rua Augusta, Lisbon’s main pedestrian shopping street.  A lively pedestrian street with mosaic pavements, outdoor cafés and shops.  Turn right when you leave the hotel and you will have a short walk to all the tourist areas.   The hotel’s lobby area is bright with the reception desk facing you as enter the building. We arrived before the official check-in time but were given access to the luggage room on the fourth floor to store our luggage.    Our check-in was efficient but don’t expect lively staff.   Paying the city tax of €4 per day was a money-sting before\n",
      "\n",
      "1684243884-12;https://www.tripadvisor.com/Hotel_Review-g189158-d235625-Reviews-Hotel_LX_Rossio-Lisbon_Lisbon_District_Central_Portugal.html;Hotel LX Rossio;Lisbon, Portugal;Portugal;16/05/2023;01/03/2020;LX Rossio is a small hotel set right in the middle of the touristy bit of Lisbon - ideal for squares, markets, elevators, restaurants, etc etc. Initial impressions are it's a little bit tired and could do with some decoration, but as you'll likely only use it as a base I personally don't see that as a huge issue. We had room 311 with some peeling wallpaper, but the bathroom looked to been refurbished recently and the shower was exceptionally good. We were worried about potential street noise, but no problems at all. Breakfast can be bought in the hotel at €10, but to be perfectly honest there are cheaper local places if you that way inclined, which we are. Would I stay there again? Yes.\n",
      "\n",
      "File: ./data/MonteDaProvenca.csv\n",
      "﻿ID;Source;Entity;Location;Country;Collection date;Review date;Review text\n",
      "1684237172-1;https://www.tripadvisor.com/Hotel_Review-g189104-d7335401-Reviews-Hotel_Rural_Monte_da_Provenca-Elvas_Portalegre_District_Alentejo.html;Hotel Rural Monte da Provenca;Elvas, Portugal;Portugal;16/05/2023;01/06/2022;The property is beautiful in a lovely quiet setting. Great gardens around the pool, and nice outdoor eating areas with views. The pool was large, well kept and benefitted from several covered relaxing areas nearby. The hosts were friendly, caring and low key, it has a great balance of informality but with high standards. Fabulous food, for breakfast lunch or dinner if you wanted it. Elvas is only ten minutes away with a variety of places to eat if you can pull yourself away from Bia’s cooking! A daily special for dinner adds another layer to what is a nice menu anyway we had the duck breast with a orange and honey sauce…..delicious. Our room was large, well equipped, and a very spacious bathroom. The indoor lounge and dining room were delightful too. We will be back.\n",
      "\n",
      "1684237419-10;https://www.tripadvisor.com/Hotel_Review-g189104-d7335401-Reviews-or20-Hotel_Rural_Monte_da_Provenca-Elvas_Portalegre_District_Alentejo.html#REVIEWS;Hotel Rural Monte da Provenca;Elvas, Portugal;Portugal;16/05/2023;01/09/2018;Stayed in one of the very spacious suites for 2 nights. No expense spared on space, fixtures and fittings. Great pool and garden. Food up to same standard. A wonderful spot stay and as good as it gets for the price. Get in before the secret is out!\n",
      "\n",
      "File: ./data/Senator.fin.csv\n",
      "﻿ID;Source;Entity;Location;Country;Collection date;Review date;Review text\n",
      "1683300768-126;https://www.tripadvisor.com/Hotel_Review-g294446-d10154196-Reviews-Hotel_Senator-Tirana_Tirana_County.html;Hotel Senator;Tirana, Albania;Albania;05/05/2023;01/04/2023;The hotel is flawless...spacious rooms, nice bathroom also spacious considering being in the city... two day stay in sept 2022...during our Balkans travels...with a group of 17 pax..location is central walking distance... Thoroughly njoid the breakfast...very home like atmosphere specially with the  assistant  there who took personal care...n brought fresh cookies that were just baked...also jams were made by her.. There's a bar just next to the reception...very easy hotel...highly recommend when  planning to visit Tirana\n",
      "\n",
      "1683300768-135;https://www.tripadvisor.com/Hotel_Review-g294446-d10154196-Reviews-Hotel_Senator-Tirana_Tirana_County.html;Hotel Senator;Tirana, Albania;Albania;05/05/2023;01/12/2017;Best boutique hotel in Tirana   .Perfect locations and very clean  ,impresive sound proof windows ,the wifi i thing 70/100MBs very fast   .Very very comfortable bed Breakfast very good ,At the bar area they make best espreso  The staf is very friendly  .Stay again soon\n",
      "\n",
      "File: ./data/SevenRoomsFlat.fin.csv\n",
      "﻿ID;Source;Entity;Location;Country;Collection date;Review date;Review text\n",
      "1683299324-78;https://www.tripadvisor.com/Hotel_Review-g194895-d1860774-Reviews-Seven_Rooms_Flat-San_Benedetto_Del_Tronto_Province_of_Ascoli_Piceno_Marche.html;Seven Rooms Flat;San Benedetto Del Tronto, Italy;Italy;05/05/2023;01/12/2015;Wonderful room/Balcony-smell the organic pastries each morning & organic Espresso. This B & B is thee best location- in Centro. Walk to everything. Locals arrive daily for Pietro's conversation and happenings in Town.  He is a Consigerge, & Barrista, and Town Crier knowing many details on many subjects. The cleaning staff is great. After 11 nights solo, I was sad to leave. Great atmosphere, warmth, and Pietro does it with a Smile.  do not hesitate to stay at this little gem, in San Benedetto!!! gina stevens, from nyc and California. .....perfetto!\n",
      "\n",
      "1683299324-87;https://www.tripadvisor.com/Hotel_Review-g194895-d1860774-Reviews-Seven_Rooms_Flat-San_Benedetto_Del_Tronto_Province_of_Ascoli_Piceno_Marche.html;Seven Rooms Flat;San Benedetto Del Tronto, Italy;Italy;05/05/2023;01/06/2012;Easy to find and great hopitality.  Pietro, the owner is very friendly and helpfull. The breakfast is fresh  and delicious. All the ingredient are organic, this is a most for this B&B.  Thank you again for this great stay Pietro!!  Mohamed\n",
      "\n",
      "File: ./data/StoneBeach.fin.csv\n",
      "﻿ID;Source;Entity;Location;Country;Collection date;Review date;Review text\n",
      "1683301384-165;https://www.tripadvisor.com/Hotel_Review-g318869-d13631166-Reviews-Stone_Beach_by_Atlantid_Hospitality-Qeparo_Vlore_County.html;Stone Beach by Atlantid Hospitality;Qeparo, Albania;Albania;05/05/2023;01/09/2022;Was worst  experience in my life, better to show with photos. And at the end I forgot a Tshirt and they don’t answer by phone.  To not forget: the room doesn’t have a key, they pretend they have cameras.   everything was rusty, dirty, unwashed, the scarves were gray when they should have been white.  the kindest people were at the bar and the restaurant.  you can see the reception from the photo 🤔 and the so-called receptionist was more undressed than dressed  we made a payment at the bank knowing the price was 85 euros and when we got there they told us the price per room is 105 euros per room  Please dont go in this place\n",
      "\n",
      "1683301384-170;https://www.tripadvisor.com/Hotel_Review-g318869-d13631166-Reviews-Stone_Beach_by_Atlantid_Hospitality-Qeparo_Vlore_County.html;Stone Beach by Atlantid Hospitality;Qeparo, Albania;Albania;05/05/2023;01/07/2019;This property has one of the most amazing locations in Albania! The view is absolutely breathtaking! We learned in talking to our hosts that they just recently took the property over and are working very hard to create an amazing experience for guests. They still have a little ways to go but are coming from the right place and their kindness and friendliness make up for the small shortcomings they are still working through.  The beds are the most comfortable we slept on in our 3 week tour of Albania! The rooms are decorated in a beautiful modern minimalist style so the star of the show is the view. The individual pools are an awesome touch and when you are sitting in it looking out over the bay it is an incredible experience! The whole property is settled right into the natural\n",
      "\n",
      "File: ./data/aguadalma.fin.2.csv\n",
      "﻿ID;Source;Entity;Location;Country;Collection date;Review date;Review text\n",
      "1684243544-1;https://www.tripadvisor.com/Hotel_Review-g1898578-d1725062-Reviews-Agua_d_Alma_Hotel-Foz_do_Arelho_Leiria_District_Central_Portugal.html;Agua de Alma Hotel;Foz do Arelho;Portugal;16/05/2023;01/02/2023;We've stayed here before in winter time because there's not a lot of choice in Foz this time of year.  This is a clean hotel with nice rooms, friendly staff and a good breakfast.  But it's cold! It's cold in the bar, it's cold in the bathroom because there's no separate heating. If you want a warm bathroom you have to leave the door to the room open and get the heat from there which is inconvenient for sleeping and probably not very economic.  Probably a better choice in summer but lacks a swimming pool.\n",
      "\n",
      "1684243708-10;https://www.tripadvisor.com/Hotel_Review-g1898578-d1725062-Reviews-or10-Agua_d_Alma_Hotel-Foz_do_Arelho_Leiria_District_Central_Portugal.html#REVIEWS;Agua de Alma Hotel;Foz do Arelho;Portugal;16/05/2023;01/05/2018;Stayed in this hotel one night. It was terrible. The room is not equal as the photos. Small room. The bed was too small and the feet was outside the bed. The bathroom was small and the water goes to the room. Don’t recommend this hotel to anyone.\n",
      "\n",
      "File: ./data/archanes.fin.csv\n",
      "﻿ID;Source;Entity;Location;Country;Collection date;Review date;Review text\n",
      "1683299539-88;https://www.tripadvisor.com/Hotel_Review-g1101777-d487832-Reviews-Villa_Archanes-Archanes_Crete.html;Villa Archanes;Archanes, Crete;Greece;05/05/2023;01/04/2023;This B&B is perfect for people wanting to experience the countryside of Crete. It's well situated, and the host is very helpful in suggesting things to do, like walking routes for example. His best advice was to tell me to go to any restaurant in the town centre because they're all good (he was right).   If you are not fit, you should have some means for getting to and from the town centre because it's a 600m steep grade walk back to the villa.   The rooms are fairly basic but clean and well-equipped. They would be ideal for a small family or a group of friends.\n",
      "\n",
      "1683299621-107;https://www.tripadvisor.com/Hotel_Review-g1101777-d487832-Reviews-or10-Villa_Archanes-Archanes_Crete.html#REVIEWS;Villa Archanes;Archanes, Crete;Greece;05/05/2023;01/10/2017;Wish we could have stayed longer.  We fluked onto this place at the last minute in the quiet season.  A 200 year old house that was meticulously renovated into a very comfortable accommodation.  Nicely appointed with all new appliances and up to date bathroom.  The owner is very nice and accommodating.  Good internet.\n",
      "\n",
      "File: ./data/arolithos.fin.csv\n",
      "﻿ID;Source;Entity;Location;Country;Collection date;Review date;Review text\n",
      "1683301001-136;https://www.tripadvisor.com/Hotel_Review-g189417-d240839-Reviews-Arolithos_Traditional_Cretan_Village-Heraklion_Crete.html;Arolithos Traditional Cretan Village;Heraklion, Crete;Greece;05/05/2023;01/10/2022;Amazing restful place and environment and close to many places to visit. The village is traditional and plenty of colors.  Surrounded by cats and very kind persons, nice meals I really recommend it. :-)\n",
      "\n",
      "1683301163-164;https://www.tripadvisor.com/Hotel_Review-g189417-d240839-Reviews-or20-Arolithos_Traditional_Cretan_Village-Heraklion_Crete.html#REVIEWS;Arolithos Traditional Cretan Village;Heraklion, Crete;Greece;05/05/2023;01/04/2018;We visited this location as part of an excursion where we had a traditional snack with cheese, olives, savoury and sweet pastries. At the same time, we saw a baptism that was taking place at the very small church near the restaurant. This is a lovely area away from the coast with a splendid view where the swimming pool is. It was really nice as well to walk around the village and visit the little gift shops and artisan workshops where we learnt a lot about traditional Cretan life in the past. Really well worth our trip.\n"
     ]
    }
   ],
   "source": [
    "%%bash\n",
    "for i in ./data/*\n",
    "do\n",
    "    echo \"\"\n",
    "    echo \"File: ${i}\"\n",
    "    head -n 2 \"${i}\"\n",
    "    echo \"\"\n",
    "    tail -n 1 \"${i}\"\n",
    "    echo \"\"\n",
    "done"
   ]
  },
  {
   "cell_type": "code",
   "execution_count": 11,
   "id": "015e86ce-9ab2-4be0-a04a-02518f1e4d20",
   "metadata": {},
   "outputs": [],
   "source": [
    "# Read the data\n",
    "\n",
    "schema = ( StructType()\n",
    "          .add(\"ID\",StringType(),True)\n",
    "          .add(\"Source\",StringType(),True)\n",
    "          .add(\"Entity\",StringType(),True)\n",
    "          .add(\"Location\",StringType(),True)\n",
    "          .add(\"Country\",StringType(),True)\n",
    "          .add(\"Collection date\",StringType(),True)\n",
    "          .add(\"Review date\",StringType(),True)\n",
    "          .add(\"Review text\",StringType(),True)\n",
    "         )\n",
    "\n",
    "df = spark.read.csv(filepath, header=True, schema=schema, sep=';')\n"
   ]
  },
  {
   "cell_type": "code",
   "execution_count": 12,
   "id": "4f0517d3-8506-4532-8479-3b2c2ed43921",
   "metadata": {},
   "outputs": [
    {
     "name": "stdout",
     "output_type": "stream",
     "text": [
      "root\n",
      " |-- ID: string (nullable = true)\n",
      " |-- Source: string (nullable = true)\n",
      " |-- Entity: string (nullable = true)\n",
      " |-- Location: string (nullable = true)\n",
      " |-- Country: string (nullable = true)\n",
      " |-- Collection date: string (nullable = true)\n",
      " |-- Review date: string (nullable = true)\n",
      " |-- Review text: string (nullable = true)\n",
      "\n",
      "+--------------+--------------------+--------------------+----------------+-------+---------------+-----------+--------------------+\n",
      "|            ID|              Source|              Entity|        Location|Country|Collection date|Review date|         Review text|\n",
      "+--------------+--------------------+--------------------+----------------+-------+---------------+-----------+--------------------+\n",
      "|1683301001-136|https://www.tripa...|Arolithos Traditi...|Heraklion, Crete| Greece|     05/05/2023| 01/10/2022|Amazing restful p...|\n",
      "|1683301001-137|https://www.tripa...|Arolithos Traditi...|Heraklion, Crete| Greece|     05/05/2023| 01/10/2022|\"We had lunch tod...|\n",
      "|1683301001-138|https://www.tripa...|Arolithos Traditi...|Heraklion, Crete| Greece|     05/05/2023| 01/09/2022|We stayed here fo...|\n",
      "|1683301001-139|https://www.tripa...|Arolithos Traditi...|Heraklion, Crete| Greece|     05/05/2023| 01/09/2022|Upon arrival nobo...|\n",
      "|1683301001-140|https://www.tripa...|Arolithos Traditi...|Heraklion, Crete| Greece|     05/05/2023| 01/07/2022|We stayed here fo...|\n",
      "|1683301001-141|https://www.tripa...|Arolithos Traditi...|Heraklion, Crete| Greece|     05/05/2023| 01/07/2022|Staff were very f...|\n",
      "|1683301001-142|https://www.tripa...|Arolithos Traditi...|Heraklion, Crete| Greece|     05/05/2023| 01/07/2020|Arolithos is a pl...|\n",
      "|1683301001-143|https://www.tripa...|Arolithos Traditi...|Heraklion, Crete| Greece|     05/05/2023| 01/10/2019|The idea of Aroli...|\n",
      "|1683301001-144|https://www.tripa...|Arolithos Traditi...|Heraklion, Crete| Greece|     05/05/2023| 01/10/2019|If you are lookin...|\n",
      "|1683301001-145|https://www.tripa...|Arolithos Traditi...|Heraklion, Crete| Greece|     05/05/2023| 01/10/2019|This is designed ...|\n",
      "|1683301087-146|https://www.tripa...|Arolithos Traditi...|Heraklion, Crete| Greece|     05/05/2023| 01/09/2019|Overall, do not e...|\n",
      "|1683301087-147|https://www.tripa...|Arolithos Traditi...|Heraklion, Crete| Greece|     05/05/2023| 01/08/2019|This is a must vi...|\n",
      "|1683301087-148|https://www.tripa...|Arolithos Traditi...|Heraklion, Crete| Greece|     05/05/2023| 01/07/2019|We drove there th...|\n",
      "|1683301087-149|https://www.tripa...|Arolithos Traditi...|Heraklion, Crete| Greece|     05/05/2023| 01/05/2019|This hotel is ama...|\n",
      "|1683301087-150|https://www.tripa...|Arolithos Traditi...|Heraklion, Crete| Greece|     05/05/2023| 01/05/2019|We were taken to ...|\n",
      "|1683301087-151|https://www.tripa...|Arolithos Traditi...|Heraklion, Crete| Greece|     05/05/2023| 01/05/2019|We visited the pl...|\n",
      "|1683301087-152|https://www.tripa...|Arolithos Traditi...|Heraklion, Crete| Greece|     05/05/2023| 01/11/2018|We had a room qui...|\n",
      "|1683301087-153|https://www.tripa...|Arolithos Traditi...|Heraklion, Crete| Greece|     05/05/2023| 01/09/2018|Our 1st steps in ...|\n",
      "|1683301087-154|https://www.tripa...|Arolithos Traditi...|Heraklion, Crete| Greece|     05/05/2023| 01/08/2018|We stayed here fo...|\n",
      "|1683301087-155|https://www.tripa...|Arolithos Traditi...|Heraklion, Crete| Greece|     05/05/2023| 01/08/2018|We spent 1 week t...|\n",
      "+--------------+--------------------+--------------------+----------------+-------+---------------+-----------+--------------------+\n",
      "only showing top 20 rows\n",
      "\n"
     ]
    },
    {
     "data": {
      "text/plain": [
       "201"
      ]
     },
     "execution_count": 12,
     "metadata": {},
     "output_type": "execute_result"
    }
   ],
   "source": [
    "# Check what has been read\n",
    "\n",
    "df.printSchema()\n",
    "reviews_count = df.count()\n",
    "df.show()\n",
    "reviews_count"
   ]
  },
  {
   "cell_type": "markdown",
   "id": "11ffca82-1d29-4028-a1de-f1070f905a6b",
   "metadata": {},
   "source": [
    "# First clearance\n",
    "Duplicates, overall nulls, get dates properly (datatypes) and to clean review text."
   ]
  },
  {
   "cell_type": "code",
   "execution_count": 13,
   "id": "93327561-7f41-42ed-a495-393ef3f1c6d7",
   "metadata": {},
   "outputs": [
    {
     "data": {
      "text/plain": [
       "[201, 201]"
      ]
     },
     "execution_count": 13,
     "metadata": {},
     "output_type": "execute_result"
    }
   ],
   "source": [
    "# Check duplicates\n",
    "\n",
    "[reviews_count, df.dropDuplicates().count()]"
   ]
  },
  {
   "cell_type": "code",
   "execution_count": 14,
   "id": "3838cffe-171b-4843-baa6-8d0fdaf66677",
   "metadata": {},
   "outputs": [
    {
     "data": {
      "text/plain": [
       "[201, 201]"
      ]
     },
     "execution_count": 14,
     "metadata": {},
     "output_type": "execute_result"
    }
   ],
   "source": [
    "# Check counting with/without nulls\n",
    "\n",
    "[reviews_count, df.dropna().count()]"
   ]
  },
  {
   "cell_type": "code",
   "execution_count": 15,
   "id": "b9660c4d-e951-4abe-bc4b-5e5648dbc4a5",
   "metadata": {},
   "outputs": [],
   "source": [
    "df = df.dropna()  # subset=['col name']"
   ]
  },
  {
   "cell_type": "code",
   "execution_count": 16,
   "id": "8b776dd2-15ca-4dd4-b458-00e92d097cf3",
   "metadata": {},
   "outputs": [],
   "source": [
    "# Column names and datatypes\n",
    "# .cast(DateType())\n",
    "# F.to_date(...)\n",
    "\n",
    "df = ( df\n",
    "      .withColumn('Collection-date', F.to_date(F.col('Collection date'), \"dd/MM/yyyy\")) \n",
    "      .withColumn('Review-date', F.to_date(F.col('Review date'), \"dd/MM/yyyy\"))\n",
    "     )"
   ]
  },
  {
   "cell_type": "code",
   "execution_count": 17,
   "id": "9104da22-45ec-47f2-b3a9-bef01c2cf519",
   "metadata": {},
   "outputs": [
    {
     "data": {
      "text/plain": [
       "{'a',\n",
       " 'about',\n",
       " 'above',\n",
       " 'after',\n",
       " 'again',\n",
       " 'against',\n",
       " 'ain',\n",
       " 'all',\n",
       " 'am',\n",
       " 'an',\n",
       " 'and',\n",
       " 'any',\n",
       " 'are',\n",
       " 'aren',\n",
       " \"aren't\",\n",
       " 'as',\n",
       " 'at',\n",
       " 'be',\n",
       " 'because',\n",
       " 'been',\n",
       " 'before',\n",
       " 'being',\n",
       " 'below',\n",
       " 'between',\n",
       " 'both',\n",
       " 'but',\n",
       " 'by',\n",
       " 'can',\n",
       " 'couldn',\n",
       " \"couldn't\",\n",
       " 'd',\n",
       " 'did',\n",
       " 'didn',\n",
       " \"didn't\",\n",
       " 'do',\n",
       " 'does',\n",
       " 'doesn',\n",
       " \"doesn't\",\n",
       " 'doing',\n",
       " 'don',\n",
       " \"don't\",\n",
       " 'down',\n",
       " 'during',\n",
       " 'each',\n",
       " 'few',\n",
       " 'for',\n",
       " 'from',\n",
       " 'further',\n",
       " 'had',\n",
       " 'hadn',\n",
       " \"hadn't\",\n",
       " 'has',\n",
       " 'hasn',\n",
       " \"hasn't\",\n",
       " 'have',\n",
       " 'haven',\n",
       " \"haven't\",\n",
       " 'having',\n",
       " 'he',\n",
       " 'her',\n",
       " 'here',\n",
       " 'hers',\n",
       " 'herself',\n",
       " 'him',\n",
       " 'himself',\n",
       " 'his',\n",
       " 'how',\n",
       " 'i',\n",
       " 'if',\n",
       " 'in',\n",
       " 'into',\n",
       " 'is',\n",
       " 'isn',\n",
       " \"isn't\",\n",
       " 'it',\n",
       " \"it's\",\n",
       " 'its',\n",
       " 'itself',\n",
       " 'just',\n",
       " 'll',\n",
       " 'm',\n",
       " 'ma',\n",
       " 'me',\n",
       " 'mightn',\n",
       " \"mightn't\",\n",
       " 'more',\n",
       " 'most',\n",
       " 'mustn',\n",
       " \"mustn't\",\n",
       " 'my',\n",
       " 'myself',\n",
       " 'needn',\n",
       " \"needn't\",\n",
       " 'no',\n",
       " 'nor',\n",
       " 'not',\n",
       " 'now',\n",
       " 'o',\n",
       " 'of',\n",
       " 'off',\n",
       " 'on',\n",
       " 'once',\n",
       " 'only',\n",
       " 'or',\n",
       " 'other',\n",
       " 'our',\n",
       " 'ours',\n",
       " 'ourselves',\n",
       " 'out',\n",
       " 'over',\n",
       " 'own',\n",
       " 're',\n",
       " 's',\n",
       " 'same',\n",
       " 'shan',\n",
       " \"shan't\",\n",
       " 'she',\n",
       " \"she's\",\n",
       " 'should',\n",
       " \"should've\",\n",
       " 'shouldn',\n",
       " \"shouldn't\",\n",
       " 'so',\n",
       " 'some',\n",
       " 'such',\n",
       " 't',\n",
       " 'than',\n",
       " 'that',\n",
       " \"that'll\",\n",
       " 'the',\n",
       " 'their',\n",
       " 'theirs',\n",
       " 'them',\n",
       " 'themselves',\n",
       " 'then',\n",
       " 'there',\n",
       " 'these',\n",
       " 'they',\n",
       " 'this',\n",
       " 'those',\n",
       " 'through',\n",
       " 'to',\n",
       " 'too',\n",
       " 'under',\n",
       " 'until',\n",
       " 'up',\n",
       " 've',\n",
       " 'very',\n",
       " 'was',\n",
       " 'wasn',\n",
       " \"wasn't\",\n",
       " 'we',\n",
       " 'were',\n",
       " 'weren',\n",
       " \"weren't\",\n",
       " 'what',\n",
       " 'when',\n",
       " 'where',\n",
       " 'which',\n",
       " 'while',\n",
       " 'who',\n",
       " 'whom',\n",
       " 'why',\n",
       " 'will',\n",
       " 'with',\n",
       " 'won',\n",
       " \"won't\",\n",
       " 'wouldn',\n",
       " \"wouldn't\",\n",
       " 'y',\n",
       " 'you',\n",
       " \"you'd\",\n",
       " \"you'll\",\n",
       " \"you're\",\n",
       " \"you've\",\n",
       " 'your',\n",
       " 'yours',\n",
       " 'yourself',\n",
       " 'yourselves'}"
      ]
     },
     "execution_count": 17,
     "metadata": {},
     "output_type": "execute_result"
    }
   ],
   "source": [
    "# Just to check stop words\n",
    "\n",
    "stop_words = set(stopwords.words('english'))\n",
    "# additional_words={'word 1', 'word 2' }\n",
    "# stop_words.update(additional_words)\n",
    "stop_words"
   ]
  },
  {
   "cell_type": "code",
   "execution_count": 18,
   "id": "436e496c-451f-44b3-9ca9-70dbdc8f13ee",
   "metadata": {},
   "outputs": [],
   "source": [
    "# Auxiliar UDF functions\n",
    "\n",
    "@F.udf(returnType=IntegerType()) \n",
    "def CountWords(text):\n",
    "    return len(text.split())\n",
    "    \n",
    "# We should improve this cleaning text function\n",
    "# Removing noise\n",
    "\n",
    "@F.udf(returnType=StringType()) \n",
    "def CleanText(text):\n",
    "    regpat = re.compile(r'(https|http)?:\\/\\/(\\w|\\.|\\/|\\?|\\=|\\&|\\%)*\\b')\n",
    "    filtered = []\n",
    "    for w in text.split():\n",
    "        #wrd = w.strip().lower()\n",
    "        # get rid of any leading, and trailing whitespaces, and then\n",
    "        # any consecutive punctuation mark by just one. ex: ... -> .\n",
    "        wrd = re.sub(r'([!?,;:])\\1+', r'\\1', w.strip())  \n",
    "        if not re.fullmatch(regpat, wrd) and wrd != ' ' and wrd != '' and '@' not in wrd:\n",
    "            filtered.append(wrd)\n",
    "    return ' '.join(filtered)\n",
    "\n",
    "@F.udf(returnType=StringType()) \n",
    "def SentencesText(text):\n",
    "    correct = []\n",
    "    for sentence in TextBlob(text).sentences:\n",
    "        for word in sentence.words:\n",
    "            correct.append(' ')\n",
    "            #correct.append(word.correct())  # correct function is not good, e.g we -> he\n",
    "            if word not in string.punctuation:  \n",
    "                correct.append(word)\n",
    "            # check better since we are within the sentence\n",
    "            \n",
    "        correct.append('.')\n",
    "    return ''.join(correct)\n",
    "\n",
    "@F.udf(returnType=StringType()) \n",
    "def NounsText(text):  \n",
    "    #from nltk.corpus import stopwords\n",
    "    stop_words = set(stopwords.words('english'))\n",
    "    words = []\n",
    "    for word in TextBlob(text).noun_phrases:\n",
    "        # adjust more if needed\n",
    "        # stop words, length, punctuation \n",
    "        # (maybe some tests not needed due to functions already applied)\n",
    "        w = word.strip().lower()\n",
    "        if w not in stop_words and len(w) > 3 and w not in string.punctuation:  # ok 3?<\n",
    "            words.append(w)\n",
    "    return ' '.join(words)\n"
   ]
  },
  {
   "cell_type": "code",
   "execution_count": 19,
   "id": "33d7b03a-670a-41b0-b75e-8249d4e75d98",
   "metadata": {},
   "outputs": [],
   "source": [
    "df = ( df\n",
    "       .withColumn('Review-clean-text', CleanText(F.col('Review text')))\n",
    "       .withColumn('Review-sentences-text', SentencesText(F.col('Review-clean-text')))\n",
    "       .withColumn('Review-nouns-text', NounsText(F.col('Review-sentences-text')))\n",
    "       .withColumn('Review-text-count', CountWords(F.col('Review text')))\n",
    "       .withColumn('Review-sentences-text-count', CountWords(F.col('Review-sentences-text')))\n",
    "       .withColumn('Review-nouns-text-count', CountWords(F.col('Review-nouns-text')))\n",
    "     )"
   ]
  },
  {
   "cell_type": "code",
   "execution_count": 20,
   "id": "975236ad-05a2-45c0-a0b7-8b15849271c4",
   "metadata": {},
   "outputs": [],
   "source": [
    "textcols = ['Review text', 'Review-clean-text', 'Review-sentences-text', 'Review-nouns-text', \n",
    "            'Review-text-count', 'Review-sentences-text-count', 'Review-nouns-text-count']"
   ]
  },
  {
   "cell_type": "code",
   "execution_count": 21,
   "id": "dcfdb61d-f717-441b-85d3-6fd0728b0148",
   "metadata": {},
   "outputs": [
    {
     "name": "stderr",
     "output_type": "stream",
     "text": [
      "[Stage 13:>                                                         (0 + 1) / 1]\r"
     ]
    },
    {
     "name": "stdout",
     "output_type": "stream",
     "text": [
      "-RECORD 0-------------------------------------------------------------------------------------------------------------------------------------------------------------------------------------------------------------------------------------------------------------------------------------------------------------------------------------------------------------------------------------------------------------------------------------------------------------------------------------------------------------------------------------------------------------------------------------------------------------------------------------------------------------------------------------------------------------------------------------------------------------------------------------------------------------------------------------------\n",
      " Review text                 | Amazing restful place and environment and close to many places to visit. The village is traditional and plenty of colors.  Surrounded by cats and very kind persons, nice meals I really recommend it. :-)                                                                                                                                                                                                                                                                                                                                                                                                                                                                                                                                                                                                           \n",
      " Review-clean-text           | Amazing restful place and environment and close to many places to visit. The village is traditional and plenty of colors. Surrounded by cats and very kind persons, nice meals I really recommend it. :-)                                                                                                                                                                                                                                                                                                                                                                                                                                                                                                                                                                                                            \n",
      " Review-sentences-text       |  Amazing restful place and environment and close to many places to visit. The village is traditional and plenty of colors. Surrounded by cats and very kind persons nice meals I really recommend it..                                                                                                                                                                                                                                                                                                                                                                                                                                                                                                                                                                                                               \n",
      " Review-nouns-text           | amazing restful place surrounded kind persons nice meals                                                                                                                                                                                                                                                                                                                                                                                                                                                                                                                                                                                                                                                                                                                                                             \n",
      " Review-text-count           | 34                                                                                                                                                                                                                                                                                                                                                                                                                                                                                                                                                                                                                                                                                                                                                                                                                   \n",
      " Review-sentences-text-count | 33                                                                                                                                                                                                                                                                                                                                                                                                                                                                                                                                                                                                                                                                                                                                                                                                                   \n",
      " Review-nouns-text-count     | 8                                                                                                                                                                                                                                                                                                                                                                                                                                                                                                                                                                                                                                                                                                                                                                                                                    \n",
      "-RECORD 1-------------------------------------------------------------------------------------------------------------------------------------------------------------------------------------------------------------------------------------------------------------------------------------------------------------------------------------------------------------------------------------------------------------------------------------------------------------------------------------------------------------------------------------------------------------------------------------------------------------------------------------------------------------------------------------------------------------------------------------------------------------------------------------------------------------------------------------------\n",
      " Review text                 | \"We had lunch today with a group of fellow adventurers who have been touring Greece. It was a delightful experience that included hands-on instructions to make tzaziki and  kombolói (\"\"worry beads\"\").  Lunch included delicious traditional Greek dishes that were prepared and presented in a very friendly environment. The staff was wonderful and informative. All had a great time.\"                                                                                                                                                                                                                                                                                                                                                                                                                         \n",
      " Review-clean-text           | \"We had lunch today with a group of fellow adventurers who have been touring Greece. It was a delightful experience that included hands-on instructions to make tzaziki and kombolói (\"\"worry beads\"\"). Lunch included delicious traditional Greek dishes that were prepared and presented in a very friendly environment. The staff was wonderful and informative. All had a great time.\"                                                                                                                                                                                                                                                                                                                                                                                                                           \n",
      " Review-sentences-text       |  We had lunch today with a group of fellow adventurers who have been touring Greece. It was a delightful experience that included hands-on instructions to make tzaziki and kombolói worry beads. Lunch included delicious traditional Greek dishes that were prepared and presented in a very friendly environment. The staff was wonderful and informative. All had a great time.                                                                                                                                                                                                                                                                                                                                                                                                                                  \n",
      " Review-nouns-text           | fellow adventurers greece delightful experience hands-on instructions lunch friendly environment great time                                                                                                                                                                                                                                                                                                                                                                                                                                                                                                                                                                                                                                                                                                          \n",
      " Review-text-count           | 58                                                                                                                                                                                                                                                                                                                                                                                                                                                                                                                                                                                                                                                                                                                                                                                                                   \n",
      " Review-sentences-text-count | 58                                                                                                                                                                                                                                                                                                                                                                                                                                                                                                                                                                                                                                                                                                                                                                                                                   \n",
      " Review-nouns-text-count     | 12                                                                                                                                                                                                                                                                                                                                                                                                                                                                                                                                                                                                                                                                                                                                                                                                                   \n",
      "-RECORD 2-------------------------------------------------------------------------------------------------------------------------------------------------------------------------------------------------------------------------------------------------------------------------------------------------------------------------------------------------------------------------------------------------------------------------------------------------------------------------------------------------------------------------------------------------------------------------------------------------------------------------------------------------------------------------------------------------------------------------------------------------------------------------------------------------------------------------------------------\n",
      " Review text                 | We stayed here for 2 nights on our recent 2.5 week stay on Crete. This hotel is situated  near to Heraklion on a hillside and built to recreate a Cretan village from the past. Our room was very rustic, but there was a TV , air conditioning and a full sized fridge. The beds were comfortable, but quite low down to the floor. The pool was very refreshing and we enjoyed using it. The staff were very friendly and welcoming. We enjoyed the breakfast and there was something different on both days. The Dog that lives on site is called Milou and she is very friendly, really enjoys a belly rub too! There are cats on the site too, but they are ok. The only downside is the outside bar/patio due to the large tree under which it is located, this meant there were always lots of flies and bugs \n",
      " Review-clean-text           | We stayed here for 2 nights on our recent 2.5 week stay on Crete. This hotel is situated near to Heraklion on a hillside and built to recreate a Cretan village from the past. Our room was very rustic, but there was a TV , air conditioning and a full sized fridge. The beds were comfortable, but quite low down to the floor. The pool was very refreshing and we enjoyed using it. The staff were very friendly and welcoming. We enjoyed the breakfast and there was something different on both days. The Dog that lives on site is called Milou and she is very friendly, really enjoys a belly rub too! There are cats on the site too, but they are ok. The only downside is the outside bar/patio due to the large tree under which it is located, this meant there were always lots of flies and bugs  \n",
      " Review-sentences-text       |  We stayed here for 2 nights on our recent 2.5 week stay on Crete. This hotel is situated near to Heraklion on a hillside and built to recreate a Cretan village from the past. Our room was very rustic but there was a TV air conditioning and a full sized fridge. The beds were comfortable but quite low down to the floor. The pool was very refreshing and we enjoyed using it. The staff were very friendly and welcoming. We enjoyed the breakfast and there was something different on both days. The Dog that lives on site is called Milou and she is very friendly really enjoys a belly rub too. There are cats on the site too but they are ok. The only downside is the outside bar/patio due to the large tree under which it is located this meant there were always lots of flies and bugs.       \n",
      " Review-nouns-text           | week stay crete heraklion cretan tv air milou outside bar/patio large tree                                                                                                                                                                                                                                                                                                                                                                                                                                                                                                                                                                                                                                                                                                                                           \n",
      " Review-text-count           | 150                                                                                                                                                                                                                                                                                                                                                                                                                                                                                                                                                                                                                                                                                                                                                                                                                  \n",
      " Review-sentences-text-count | 149                                                                                                                                                                                                                                                                                                                                                                                                                                                                                                                                                                                                                                                                                                                                                                                                                  \n",
      " Review-nouns-text-count     | 12                                                                                                                                                                                                                                                                                                                                                                                                                                                                                                                                                                                                                                                                                                                                                                                                                   \n",
      "-RECORD 3-------------------------------------------------------------------------------------------------------------------------------------------------------------------------------------------------------------------------------------------------------------------------------------------------------------------------------------------------------------------------------------------------------------------------------------------------------------------------------------------------------------------------------------------------------------------------------------------------------------------------------------------------------------------------------------------------------------------------------------------------------------------------------------------------------------------------------------------\n",
      " Review text                 | Upon arrival nobody helped us to manage our luggage. The room was over 50 irregular steps down. Again no help for elderly people...the room itself is a catastrophe...the small balcony was useless because of crowding beans...the bathroom is really very very primitive...unacceptable...the minimum to complain is that there is no water mixer...there was a candle ...was only ..not there is...it was empty...there was only one socket for our so many electrical devices to charge...at least two portables...spiders were also living in the room... The pool is a shallow spot only 50 to 100 cm deep..with jumping and screaming children..nothing against children...but the pool is very bad. The umbrellas are fixed...so you have to follow the shadows what was not possible... Breakfast...it is   \n",
      " Review-clean-text           | Upon arrival nobody helped us to manage our luggage. The room was over 50 irregular steps down. Again no help for elderly people...the room itself is a catastrophe...the small balcony was useless because of crowding beans...the bathroom is really very very primitive...unacceptable...the minimum to complain is that there is no water mixer...there was a candle ...was only ..not there is...it was empty...there was only one socket for our so many electrical devices to charge...at least two portables...spiders were also living in the room... The pool is a shallow spot only 50 to 100 cm deep..with jumping and screaming children..nothing against children...but the pool is very bad. The umbrellas are fixed...so you have to follow the shadows what was not possible... Breakfast...it is   \n",
      " Review-sentences-text       |  Upon arrival nobody helped us to manage our luggage. The room was over 50 irregular steps down. Again no help for elderly people the room itself is a catastrophe the small balcony was useless because of crowding beans the bathroom is really very very primitive unacceptable the minimum to complain is that there is no water mixer there was a candle was only not there is it was empty there was only one socket for our so many electrical devices to charge at least two portables spiders were also living in the room. The pool is a shallow spot only 50 to 100 cm deep with jumping and screaming children nothing against children but the pool is very bad. The umbrellas are fixed so you have to follow the shadows what was not possible Breakfast it is.                                       \n",
      " Review-nouns-text           | upon irregular steps elderly people small balcony water mixer electrical devices portables spiders shallow spot breakfast                                                                                                                                                                                                                                                                                                                                                                                                                                                                                                                                                                                                                                                                                            \n",
      " Review-text-count           | 122                                                                                                                                                                                                                                                                                                                                                                                                                                                                                                                                                                                                                                                                                                                                                                                                                  \n",
      " Review-sentences-text-count | 137                                                                                                                                                                                                                                                                                                                                                                                                                                                                                                                                                                                                                                                                                                                                                                                                                  \n",
      " Review-nouns-text-count     | 16                                                                                                                                                                                                                                                                                                                                                                                                                                                                                                                                                                                                                                                                                                                                                                                                                   \n",
      "-RECORD 4-------------------------------------------------------------------------------------------------------------------------------------------------------------------------------------------------------------------------------------------------------------------------------------------------------------------------------------------------------------------------------------------------------------------------------------------------------------------------------------------------------------------------------------------------------------------------------------------------------------------------------------------------------------------------------------------------------------------------------------------------------------------------------------------------------------------------------------------\n",
      " Review text                 | We stayed here for a family wedding. The location is only 15 minutes from the airport but seemed a world away! Tucked away on a winding mountain road with panoramic views of the surrounding countryside and towns. If you love animals then cats,  kittens, peacocks, goats, a chatty parrot and cuddly dog are waiting for you! The staff and owners are friendly and helpful. A shout out to Christina and the bar tender who went above and beyond to chat, show card tricks and teach us some Greek words. The rooms are rustic and traditional but have air con and are clean. Highly recommended!                                                                                                                                                                                                            \n",
      " Review-clean-text           | We stayed here for a family wedding. The location is only 15 minutes from the airport but seemed a world away! Tucked away on a winding mountain road with panoramic views of the surrounding countryside and towns. If you love animals then cats, kittens, peacocks, goats, a chatty parrot and cuddly dog are waiting for you! The staff and owners are friendly and helpful. A shout out to Christina and the bar tender who went above and beyond to chat, show card tricks and teach us some Greek words. The rooms are rustic and traditional but have air con and are clean. Highly recommended!                                                                                                                                                                                                             \n",
      " Review-sentences-text       |  We stayed here for a family wedding. The location is only 15 minutes from the airport but seemed a world away. Tucked away on a winding mountain road with panoramic views of the surrounding countryside and towns. If you love animals then cats kittens peacocks goats a chatty parrot and cuddly dog are waiting for you. The staff and owners are friendly and helpful. A shout out to Christina and the bar tender who went above and beyond to chat show card tricks and teach us some Greek words. The rooms are rustic and traditional but have air con and are clean. Highly recommended.                                                                                                                                                                                                                 \n",
      " Review-nouns-text           | family wedding tucked mountain road cats kittens peacocks goats chatty parrot christina show card tricks greek words highly                                                                                                                                                                                                                                                                                                                                                                                                                                                                                                                                                                                                                                                                                          \n",
      " Review-text-count           | 104                                                                                                                                                                                                                                                                                                                                                                                                                                                                                                                                                                                                                                                                                                                                                                                                                  \n",
      " Review-sentences-text-count | 104                                                                                                                                                                                                                                                                                                                                                                                                                                                                                                                                                                                                                                                                                                                                                                                                                  \n",
      " Review-nouns-text-count     | 18                                                                                                                                                                                                                                                                                                                                                                                                                                                                                                                                                                                                                                                                                                                                                                                                                   \n",
      "-RECORD 5-------------------------------------------------------------------------------------------------------------------------------------------------------------------------------------------------------------------------------------------------------------------------------------------------------------------------------------------------------------------------------------------------------------------------------------------------------------------------------------------------------------------------------------------------------------------------------------------------------------------------------------------------------------------------------------------------------------------------------------------------------------------------------------------------------------------------------------------\n",
      " Review text                 | Staff were very friendly and helpful. We were given a welcome basket of wine and fruits which was a nice surprise. We opted for half board and the food did not disappoint. Portions were generous, varied set menu, this option was extremely good value for money.  Rooms were very clean and cleaned every day. Swimming pool had lovely views of the sea and mountains.  Peacocks roam near by and you could watch the sheep and goats from the pool or open air dining area. Highly recommend and we woudl stay again if we visit Crete again.                                                                                                                                                                                                                                                                  \n",
      " Review-clean-text           | Staff were very friendly and helpful. We were given a welcome basket of wine and fruits which was a nice surprise. We opted for half board and the food did not disappoint. Portions were generous, varied set menu, this option was extremely good value for money. Rooms were very clean and cleaned every day. Swimming pool had lovely views of the sea and mountains. Peacocks roam near by and you could watch the sheep and goats from the pool or open air dining area. Highly recommend and we woudl stay again if we visit Crete again.                                                                                                                                                                                                                                                                    \n",
      " Review-sentences-text       |  Staff were very friendly and helpful. We were given a welcome basket of wine and fruits which was a nice surprise. We opted for half board and the food did not disappoint. Portions were generous varied set menu this option was extremely good value for money. Rooms were very clean and cleaned every day. Swimming pool had lovely views of the sea and mountains. Peacocks roam near by and you could watch the sheep and goats from the pool or open air dining area. Highly recommend and we woudl stay again if we visit Crete again.                                                                                                                                                                                                                                                                     \n",
      " Review-nouns-text           | staff welcome basket nice surprise portions good value rooms swimming lovely views peacocks highly woudl stay crete                                                                                                                                                                                                                                                                                                                                                                                                                                                                                                                                                                                                                                                                                                  \n",
      " Review-text-count           | 96                                                                                                                                                                                                                                                                                                                                                                                                                                                                                                                                                                                                                                                                                                                                                                                                                   \n",
      " Review-sentences-text-count | 96                                                                                                                                                                                                                                                                                                                                                                                                                                                                                                                                                                                                                                                                                                                                                                                                                   \n",
      " Review-nouns-text-count     | 17                                                                                                                                                                                                                                                                                                                                                                                                                                                                                                                                                                                                                                                                                                                                                                                                                   \n",
      "-RECORD 6-------------------------------------------------------------------------------------------------------------------------------------------------------------------------------------------------------------------------------------------------------------------------------------------------------------------------------------------------------------------------------------------------------------------------------------------------------------------------------------------------------------------------------------------------------------------------------------------------------------------------------------------------------------------------------------------------------------------------------------------------------------------------------------------------------------------------------------------\n",
      " Review text                 | Arolithos is a place to enjoy your holidays. 15 minutes by car from the airport, far up on a hill. If you need transportation, ask for it before you arrive, prices are okay (30€). Really friendly personell, good prices for accomodation, in the restaurant and in the shop. Clean rooms, wonderful architecture, the water in the shower is not too warm, in the evening it takes some time to get from very cold to okay temperatures, but it‘s fine. The aircondition works really well, the fridge is clean and cool. The pool is nice, the tables outside the restaurant provide a wonderful view over lots of green, the sea and mountains further away. Next to the restaurant, goats wonder freely (not disturbing you there is a wall and a fence). The dog of the house is friendly and calm (I am      \n",
      " Review-clean-text           | Arolithos is a place to enjoy your holidays. 15 minutes by car from the airport, far up on a hill. If you need transportation, ask for it before you arrive, prices are okay (30€). Really friendly personell, good prices for accomodation, in the restaurant and in the shop. Clean rooms, wonderful architecture, the water in the shower is not too warm, in the evening it takes some time to get from very cold to okay temperatures, but it‘s fine. The aircondition works really well, the fridge is clean and cool. The pool is nice, the tables outside the restaurant provide a wonderful view over lots of green, the sea and mountains further away. Next to the restaurant, goats wonder freely (not disturbing you there is a wall and a fence). The dog of the house is friendly and calm (I am      \n",
      " Review-sentences-text       |  Arolithos is a place to enjoy your holidays. 15 minutes by car from the airport far up on a hill. If you need transportation ask for it before you arrive prices are okay 30€. Really friendly personell good prices for accomodation in the restaurant and in the shop. Clean rooms wonderful architecture the water in the shower is not too warm in the evening it takes some time to get from very cold to okay temperatures but it ‘ s fine. The aircondition works really well the fridge is clean and cool. The pool is nice the tables outside the restaurant provide a wonderful view over lots of green the sea and mountains further away. Next to the restaurant goats wonder freely not disturbing you there is a wall and a fence. The dog of the house is friendly and calm I am.                    \n",
      " Review-nouns-text           | arolithos okay 30€ really friendly personell good prices clean wonderful architecture okay temperatures ‘ s fine wonderful view restaurant goats wonder                                                                                                                                                                                                                                                                                                                                                                                                                                                                                                                                                                                                                                                              \n",
      " Review-text-count           | 141                                                                                                                                                                                                                                                                                                                                                                                                                                                                                                                                                                                                                                                                                                                                                                                                                  \n",
      " Review-sentences-text-count | 143                                                                                                                                                                                                                                                                                                                                                                                                                                                                                                                                                                                                                                                                                                                                                                                                                  \n",
      " Review-nouns-text-count     | 21                                                                                                                                                                                                                                                                                                                                                                                                                                                                                                                                                                                                                                                                                                                                                                                                                   \n",
      "-RECORD 7-------------------------------------------------------------------------------------------------------------------------------------------------------------------------------------------------------------------------------------------------------------------------------------------------------------------------------------------------------------------------------------------------------------------------------------------------------------------------------------------------------------------------------------------------------------------------------------------------------------------------------------------------------------------------------------------------------------------------------------------------------------------------------------------------------------------------------------------\n",
      " Review text                 | The idea of Arolithos is a resort built up around an existing (but abandoned) village. The rooms were built in similar fashion to the original buildings so they blend in and look like part of the village. The original buildings have been restored and you can go in them to see what it was like in Crete 100 years ago.  The rooms were clean. WiFi reception in our room was non-existent, but the walls are all solid stone so I wasn't expecting much. The beds were very hard. I believe the mattresses were made by the same crew that built the walls. Two of the four pillows provided were like bags of partially hardened cement. The other two were OK. The staff were all friendly and helpful. The food was fine, not 4-star, but this isn't a 4-star place. Good basic Greek food.  There are     \n",
      " Review-clean-text           | The idea of Arolithos is a resort built up around an existing (but abandoned) village. The rooms were built in similar fashion to the original buildings so they blend in and look like part of the village. The original buildings have been restored and you can go in them to see what it was like in Crete 100 years ago. The rooms were clean. WiFi reception in our room was non-existent, but the walls are all solid stone so I wasn't expecting much. The beds were very hard. I believe the mattresses were made by the same crew that built the walls. Two of the four pillows provided were like bags of partially hardened cement. The other two were OK. The staff were all friendly and helpful. The food was fine, not 4-star, but this isn't a 4-star place. Good basic Greek food. There are       \n",
      " Review-sentences-text       |  The idea of Arolithos is a resort built up around an existing but abandoned village. The rooms were built in similar fashion to the original buildings so they blend in and look like part of the village. The original buildings have been restored and you can go in them to see what it was like in Crete 100 years ago. The rooms were clean. WiFi reception in our room was non-existent but the walls are all solid stone so I was n't expecting much. The beds were very hard. I believe the mattresses were made by the same crew that built the walls. Two of the four pillows provided were like bags of partially hardened cement. The other two were OK. The staff were all friendly and helpful. The food was fine not 4-star but this is n't a 4-star place. Good basic Greek food. There are.        \n",
      " Review-nouns-text           | arolithos similar fashion original buildings original buildings crete wifi solid stone 4-star place good basic greek food                                                                                                                                                                                                                                                                                                                                                                                                                                                                                                                                                                                                                                                                                            \n",
      " Review-text-count           | 145                                                                                                                                                                                                                                                                                                                                                                                                                                                                                                                                                                                                                                                                                                                                                                                                                  \n",
      " Review-sentences-text-count | 147                                                                                                                                                                                                                                                                                                                                                                                                                                                                                                                                                                                                                                                                                                                                                                                                                  \n",
      " Review-nouns-text-count     | 17                                                                                                                                                                                                                                                                                                                                                                                                                                                                                                                                                                                                                                                                                                                                                                                                                   \n",
      "-RECORD 8-------------------------------------------------------------------------------------------------------------------------------------------------------------------------------------------------------------------------------------------------------------------------------------------------------------------------------------------------------------------------------------------------------------------------------------------------------------------------------------------------------------------------------------------------------------------------------------------------------------------------------------------------------------------------------------------------------------------------------------------------------------------------------------------------------------------------------------------\n",
      " Review text                 | If you are looking for a clean comfortable hotel with restaurants cafes and shops nearby then keep looking. This place is the the full Shawshank experience. It is about a hundred dollar round trip taxi ride to anywhere so there is no escape. You will be eating at the hotel; probably not something you would do given a choice. Beware the stray cats that patrol everywhere. A moments inattention can cost you your meagre rations. The place is favoured by low budget British and German tour groups and massive wedding parties. So, there is that to look forward to.                                                                                                                                                                                                                                   \n",
      " Review-clean-text           | If you are looking for a clean comfortable hotel with restaurants cafes and shops nearby then keep looking. This place is the the full Shawshank experience. It is about a hundred dollar round trip taxi ride to anywhere so there is no escape. You will be eating at the hotel; probably not something you would do given a choice. Beware the stray cats that patrol everywhere. A moments inattention can cost you your meagre rations. The place is favoured by low budget British and German tour groups and massive wedding parties. So, there is that to look forward to.                                                                                                                                                                                                                                   \n",
      " Review-sentences-text       |  If you are looking for a clean comfortable hotel with restaurants cafes and shops nearby then keep looking. This place is the the full Shawshank experience. It is about a hundred dollar round trip taxi ride to anywhere so there is no escape. You will be eating at the hotel probably not something you would do given a choice. Beware the stray cats that patrol everywhere. A moments inattention can cost you your meagre rations. The place is favoured by low budget British and German tour groups and massive wedding parties. So there is that to look forward to.                                                                                                                                                                                                                                    \n",
      " Review-nouns-text           | clean comfortable hotel restaurants cafes shawshank dollar round trip taxi beware stray cats patrol everywhere moments inattention meagre rations low budget german tour groups massive wedding parties                                                                                                                                                                                                                                                                                                                                                                                                                                                                                                                                                                                                              \n",
      " Review-text-count           | 99                                                                                                                                                                                                                                                                                                                                                                                                                                                                                                                                                                                                                                                                                                                                                                                                                   \n",
      " Review-sentences-text-count | 99                                                                                                                                                                                                                                                                                                                                                                                                                                                                                                                                                                                                                                                                                                                                                                                                                   \n",
      " Review-nouns-text-count     | 27                                                                                                                                                                                                                                                                                                                                                                                                                                                                                                                                                                                                                                                                                                                                                                                                                   \n",
      "-RECORD 9-------------------------------------------------------------------------------------------------------------------------------------------------------------------------------------------------------------------------------------------------------------------------------------------------------------------------------------------------------------------------------------------------------------------------------------------------------------------------------------------------------------------------------------------------------------------------------------------------------------------------------------------------------------------------------------------------------------------------------------------------------------------------------------------------------------------------------------------\n",
      " Review text                 | This is designed as a traditional Cretan village and I guess it fulfils that brief. However, it is a mix of good and bad. You need a certain level of fitness to navigate the many steps around the site and there is absolutely nowhere to go without transport unless you want to walk along a very busy road. No buses and cost 30 Euros for a taxi into Heraklion. Water was consistently hot and rooms kept clean but bed was pretty hard and a hand held shower.  All the staff are friendly and pleasant but the food, although plentiful, was pretty average although Moussaka was best I have tasted! Bar staff were excellent.  All in all I can't give more than 3 stars but OK if you want basic accommodation in the area and spend a lot of time off site.                                             \n",
      " Review-clean-text           | This is designed as a traditional Cretan village and I guess it fulfils that brief. However, it is a mix of good and bad. You need a certain level of fitness to navigate the many steps around the site and there is absolutely nowhere to go without transport unless you want to walk along a very busy road. No buses and cost 30 Euros for a taxi into Heraklion. Water was consistently hot and rooms kept clean but bed was pretty hard and a hand held shower. All the staff are friendly and pleasant but the food, although plentiful, was pretty average although Moussaka was best I have tasted! Bar staff were excellent. All in all I can't give more than 3 stars but OK if you want basic accommodation in the area and spend a lot of time off site.                                               \n",
      " Review-sentences-text       |  This is designed as a traditional Cretan village and I guess it fulfils that brief. However it is a mix of good and bad. You need a certain level of fitness to navigate the many steps around the site and there is absolutely nowhere to go without transport unless you want to walk along a very busy road. No buses and cost 30 Euros for a taxi into Heraklion. Water was consistently hot and rooms kept clean but bed was pretty hard and a hand held shower. All the staff are friendly and pleasant but the food although plentiful was pretty average although Moussaka was best I have tasted. Bar staff were excellent. All in all I ca n't give more than 3 stars but OK if you want basic accommodation in the area and spend a lot of time off site.                                                \n",
      " Review-nouns-text           | cretan certain level busy road euros heraklion pretty average moussaka bar staff ca n't basic accommodation                                                                                                                                                                                                                                                                                                                                                                                                                                                                                                                                                                                                                                                                                                          \n",
      " Review-text-count           | 141                                                                                                                                                                                                                                                                                                                                                                                                                                                                                                                                                                                                                                                                                                                                                                                                                  \n",
      " Review-sentences-text-count | 142                                                                                                                                                                                                                                                                                                                                                                                                                                                                                                                                                                                                                                                                                                                                                                                                                  \n",
      " Review-nouns-text-count     | 16                                                                                                                                                                                                                                                                                                                                                                                                                                                                                                                                                                                                                                                                                                                                                                                                                   \n",
      "-RECORD 10------------------------------------------------------------------------------------------------------------------------------------------------------------------------------------------------------------------------------------------------------------------------------------------------------------------------------------------------------------------------------------------------------------------------------------------------------------------------------------------------------------------------------------------------------------------------------------------------------------------------------------------------------------------------------------------------------------------------------------------------------------------------------------------------------------------------------------------\n",
      " Review text                 | Overall, do not expect a 4 star hotel experience but rather a unique relaxing mountain village with very modest rooms.  If that is what you expect you can definitely enjoy it. If your expectations are different you might feel disappointed.   Pros: - price is relatively low - quiet - nice view and pool  - staff proved to be welcoming and helpful when you need assistance (thank you, Alexandra and Marina)   Adjust your expectations: - the place is not a building with corridors of rooms in each floor. It is rather a tiny area with rooms spread across. It is built as a mini village.  It is not suitable for disabled guests or anyone with difficulty to walk stable, like old people or young toddlers.  Since it is built on a hill, the paths and roads between the different parts (room,   \n",
      " Review-clean-text           | Overall, do not expect a 4 star hotel experience but rather a unique relaxing mountain village with very modest rooms. If that is what you expect you can definitely enjoy it. If your expectations are different you might feel disappointed. Pros: - price is relatively low - quiet - nice view and pool - staff proved to be welcoming and helpful when you need assistance (thank you, Alexandra and Marina) Adjust your expectations: - the place is not a building with corridors of rooms in each floor. It is rather a tiny area with rooms spread across. It is built as a mini village. It is not suitable for disabled guests or anyone with difficulty to walk stable, like old people or young toddlers. Since it is built on a hill, the paths and roads between the different parts (room,           \n",
      " Review-sentences-text       |  Overall do not expect a 4 star hotel experience but rather a unique relaxing mountain village with very modest rooms. If that is what you expect you can definitely enjoy it. If your expectations are different you might feel disappointed. Pros price is relatively low quiet nice view and pool staff proved to be welcoming and helpful when you need assistance thank you Alexandra and Marina Adjust your expectations the place is not a building with corridors of rooms in each floor. It is rather a tiny area with rooms spread across. It is built as a mini village. It is not suitable for disabled guests or anyone with difficulty to walk stable like old people or young toddlers. Since it is built on a hill the paths and roads between the different parts room.                             \n",
      " Review-nouns-text           | overall star hotel experience mountain village modest rooms pros quiet nice view pool staff alexandra marina adjust tiny area mini village old people young toddlers different parts room                                                                                                                                                                                                                                                                                                                                                                                                                                                                                                                                                                                                                            \n",
      " Review-text-count           | 140                                                                                                                                                                                                                                                                                                                                                                                                                                                                                                                                                                                                                                                                                                                                                                                                                  \n",
      " Review-sentences-text-count | 135                                                                                                                                                                                                                                                                                                                                                                                                                                                                                                                                                                                                                                                                                                                                                                                                                  \n",
      " Review-nouns-text-count     | 28                                                                                                                                                                                                                                                                                                                                                                                                                                                                                                                                                                                                                                                                                                                                                                                                                   \n",
      "-RECORD 11------------------------------------------------------------------------------------------------------------------------------------------------------------------------------------------------------------------------------------------------------------------------------------------------------------------------------------------------------------------------------------------------------------------------------------------------------------------------------------------------------------------------------------------------------------------------------------------------------------------------------------------------------------------------------------------------------------------------------------------------------------------------------------------------------------------------------------------\n",
      " Review text                 | This is a must visit the traditional Cretan village.  You will experience the authentic life that the cretans lived a few decades ago.  I would love to visit in the future. The people are wonderful and so welcoming.                                                                                                                                                                                                                                                                                                                                                                                                                                                                                                                                                                                              \n",
      " Review-clean-text           | This is a must visit the traditional Cretan village. You will experience the authentic life that the cretans lived a few decades ago. I would love to visit in the future. The people are wonderful and so welcoming.                                                                                                                                                                                                                                                                                                                                                                                                                                                                                                                                                                                                \n",
      " Review-sentences-text       |  This is a must visit the traditional Cretan village. You will experience the authentic life that the cretans lived a few decades ago. I would love to visit in the future. The people are wonderful and so welcoming.                                                                                                                                                                                                                                                                                                                                                                                                                                                                                                                                                                                               \n",
      " Review-nouns-text           | must visit cretan authentic life                                                                                                                                                                                                                                                                                                                                                                                                                                                                                                                                                                                                                                                                                                                                                                                     \n",
      " Review-text-count           | 38                                                                                                                                                                                                                                                                                                                                                                                                                                                                                                                                                                                                                                                                                                                                                                                                                   \n",
      " Review-sentences-text-count | 38                                                                                                                                                                                                                                                                                                                                                                                                                                                                                                                                                                                                                                                                                                                                                                                                                   \n",
      " Review-nouns-text-count     | 5                                                                                                                                                                                                                                                                                                                                                                                                                                                                                                                                                                                                                                                                                                                                                                                                                    \n",
      "-RECORD 12------------------------------------------------------------------------------------------------------------------------------------------------------------------------------------------------------------------------------------------------------------------------------------------------------------------------------------------------------------------------------------------------------------------------------------------------------------------------------------------------------------------------------------------------------------------------------------------------------------------------------------------------------------------------------------------------------------------------------------------------------------------------------------------------------------------------------------------\n",
      " Review text                 | We drove there thinking it was a small quaint village town.  It is not, I'm not really sure how to explain it.  It is isolated not a small town, you drive through gates to a family privately own ????  There is a hotel with swimming pool, a couple of lanes to walk down, a couple of eateries & ships, an old blacksmith shed. There are little houses in the lane ways, some residential & some may be hotel rooms.  There is also a massive outdoor dining area & stage, did not look like it has been used lately.                                                                                                                                                                                                                                                                                           \n",
      " Review-clean-text           | We drove there thinking it was a small quaint village town. It is not, I'm not really sure how to explain it. It is isolated not a small town, you drive through gates to a family privately own ? There is a hotel with swimming pool, a couple of lanes to walk down, a couple of eateries & ships, an old blacksmith shed. There are little houses in the lane ways, some residential & some may be hotel rooms. There is also a massive outdoor dining area & stage, did not look like it has been used lately.                                                                                                                                                                                                                                                                                                  \n",
      " Review-sentences-text       |  We drove there thinking it was a small quaint village town. It is not I 'm not really sure how to explain it. It is isolated not a small town you drive through gates to a family privately own. There is a hotel with swimming pool a couple of lanes to walk down a couple of eateries ships an old blacksmith shed. There are little houses in the lane ways some residential some may be hotel rooms. There is also a massive outdoor dining area stage did not look like it has been used lately.                                                                                                                                                                                                                                                                                                              \n",
      " Review-nouns-text           | small quaint village town small town eateries ships old blacksmith lane ways hotel rooms massive outdoor area stage                                                                                                                                                                                                                                                                                                                                                                                                                                                                                                                                                                                                                                                                                                  \n",
      " Review-text-count           | 98                                                                                                                                                                                                                                                                                                                                                                                                                                                                                                                                                                                                                                                                                                                                                                                                                   \n",
      " Review-sentences-text-count | 95                                                                                                                                                                                                                                                                                                                                                                                                                                                                                                                                                                                                                                                                                                                                                                                                                   \n",
      " Review-nouns-text-count     | 18                                                                                                                                                                                                                                                                                                                                                                                                                                                                                                                                                                                                                                                                                                                                                                                                                   \n",
      "-RECORD 13------------------------------------------------------------------------------------------------------------------------------------------------------------------------------------------------------------------------------------------------------------------------------------------------------------------------------------------------------------------------------------------------------------------------------------------------------------------------------------------------------------------------------------------------------------------------------------------------------------------------------------------------------------------------------------------------------------------------------------------------------------------------------------------------------------------------------------------\n",
      " Review text                 | This hotel is amazing  in a great location up a hill built as a village  ,the views are stunning  awoke each day to goat bells in the valley !staff very good ,all spoke good English ,lots of food   Great pool   It was a good experience ,my second trip to Crete & not my last  one night there was Cretan dancing & music ,not to be missed!!                                                                                                                                                                                                                                                                                                                                                                                                                                                                   \n",
      " Review-clean-text           | This hotel is amazing in a great location up a hill built as a village ,the views are stunning awoke each day to goat bells in the valley !staff very good ,all spoke good English ,lots of food Great pool It was a good experience ,my second trip to Crete & not my last one night there was Cretan dancing & music ,not to be missed!                                                                                                                                                                                                                                                                                                                                                                                                                                                                            \n",
      " Review-sentences-text       |  This hotel is amazing in a great location up a hill built as a village the views are stunning awoke each day to goat bells in the valley staff very good all spoke good English lots of food Great pool It was a good experience my second trip to Crete not my last one night there was Cretan dancing music not to be missed.                                                                                                                                                                                                                                                                                                                                                                                                                                                                                     \n",
      " Review-nouns-text           | great location goat bells valley staff english great pool good experience crete cretan                                                                                                                                                                                                                                                                                                                                                                                                                                                                                                                                                                                                                                                                                                                               \n",
      " Review-text-count           | 66                                                                                                                                                                                                                                                                                                                                                                                                                                                                                                                                                                                                                                                                                                                                                                                                                   \n",
      " Review-sentences-text-count | 64                                                                                                                                                                                                                                                                                                                                                                                                                                                                                                                                                                                                                                                                                                                                                                                                                   \n",
      " Review-nouns-text-count     | 13                                                                                                                                                                                                                                                                                                                                                                                                                                                                                                                                                                                                                                                                                                                                                                                                                   \n",
      "-RECORD 14------------------------------------------------------------------------------------------------------------------------------------------------------------------------------------------------------------------------------------------------------------------------------------------------------------------------------------------------------------------------------------------------------------------------------------------------------------------------------------------------------------------------------------------------------------------------------------------------------------------------------------------------------------------------------------------------------------------------------------------------------------------------------------------------------------------------------------------\n",
      " Review text                 | We were taken to this place for Greek Easter Sunday lunch from the cruise ship Aegean Odyssey. We enjoyed an excellent lunch with plenty of wine and some splendid entertainment. The atmosphere was very pleasant and welcoming.                                                                                                                                                                                                                                                                                                                                                                                                                                                                                                                                                                                    \n",
      " Review-clean-text           | We were taken to this place for Greek Easter Sunday lunch from the cruise ship Aegean Odyssey. We enjoyed an excellent lunch with plenty of wine and some splendid entertainment. The atmosphere was very pleasant and welcoming.                                                                                                                                                                                                                                                                                                                                                                                                                                                                                                                                                                                    \n",
      " Review-sentences-text       |  We were taken to this place for Greek Easter Sunday lunch from the cruise ship Aegean Odyssey. We enjoyed an excellent lunch with plenty of wine and some splendid entertainment. The atmosphere was very pleasant and welcoming.                                                                                                                                                                                                                                                                                                                                                                                                                                                                                                                                                                                   \n",
      " Review-nouns-text           | easter cruise ship aegean odyssey excellent lunch splendid entertainment                                                                                                                                                                                                                                                                                                                                                                                                                                                                                                                                                                                                                                                                                                                                             \n",
      " Review-text-count           | 37                                                                                                                                                                                                                                                                                                                                                                                                                                                                                                                                                                                                                                                                                                                                                                                                                   \n",
      " Review-sentences-text-count | 37                                                                                                                                                                                                                                                                                                                                                                                                                                                                                                                                                                                                                                                                                                                                                                                                                   \n",
      " Review-nouns-text-count     | 9                                                                                                                                                                                                                                                                                                                                                                                                                                                                                                                                                                                                                                                                                                                                                                                                                    \n",
      "-RECORD 15------------------------------------------------------------------------------------------------------------------------------------------------------------------------------------------------------------------------------------------------------------------------------------------------------------------------------------------------------------------------------------------------------------------------------------------------------------------------------------------------------------------------------------------------------------------------------------------------------------------------------------------------------------------------------------------------------------------------------------------------------------------------------------------------------------------------------------------\n",
      " Review text                 | We visited the place on the day of the Orthodox Easter.  It was the best thing we did. We attended the Easter day sermon at the picturesque chapel that exists within the grounds of the resort. The bell was ringing and the people were chanting uplifting our spirit regardless our personal beliefs. After that it was Perhaps 2 o'clock and we went for the Traditional Easter lunch . The food and the service was excellent plenty to drink and Eat. It was a set price  They had a Traditional Cretan band playing and after a couple drinks almost everybody was dancing. Just a remark Perhaps for next year.  Been Easter day lunch l would've LOVED to have red eggs to crack!!!!!!!!!                                                                                                                   \n",
      " Review-clean-text           | We visited the place on the day of the Orthodox Easter. It was the best thing we did. We attended the Easter day sermon at the picturesque chapel that exists within the grounds of the resort. The bell was ringing and the people were chanting uplifting our spirit regardless our personal beliefs. After that it was Perhaps 2 o'clock and we went for the Traditional Easter lunch . The food and the service was excellent plenty to drink and Eat. It was a set price They had a Traditional Cretan band playing and after a couple drinks almost everybody was dancing. Just a remark Perhaps for next year. Been Easter day lunch l would've LOVED to have red eggs to crack!                                                                                                                              \n",
      " Review-sentences-text       |  We visited the place on the day of the Orthodox Easter. It was the best thing we did. We attended the Easter day sermon at the picturesque chapel that exists within the grounds of the resort. The bell was ringing and the people were chanting uplifting our spirit regardless our personal beliefs. After that it was Perhaps 2 o'clock and we went for the Traditional Easter lunch. The food and the service was excellent plenty to drink and Eat. It was a set price They had a Traditional Cretan band playing and after a couple drinks almost everybody was dancing. Just a remark Perhaps for next year. Been Easter day lunch l would 've LOVED to have red eggs to crack.                                                                                                                             \n",
      " Review-nouns-text           | orthodox easter easter day sermon picturesque chapel spirit regardless personal beliefs traditional easter excellent plenty set price traditional cretan couple drinks been easter day lunch l loved red eggs                                                                                                                                                                                                                                                                                                                                                                                                                                                                                                                                                                                                        \n",
      " Review-text-count           | 121                                                                                                                                                                                                                                                                                                                                                                                                                                                                                                                                                                                                                                                                                                                                                                                                                  \n",
      " Review-sentences-text-count | 121                                                                                                                                                                                                                                                                                                                                                                                                                                                                                                                                                                                                                                                                                                                                                                                                                  \n",
      " Review-nouns-text-count     | 29                                                                                                                                                                                                                                                                                                                                                                                                                                                                                                                                                                                                                                                                                                                                                                                                                   \n",
      "-RECORD 16------------------------------------------------------------------------------------------------------------------------------------------------------------------------------------------------------------------------------------------------------------------------------------------------------------------------------------------------------------------------------------------------------------------------------------------------------------------------------------------------------------------------------------------------------------------------------------------------------------------------------------------------------------------------------------------------------------------------------------------------------------------------------------------------------------------------------------------\n",
      " Review text                 | We had a room quite near to the road, but it had the most amazing view over both the city and the surrounding mountains. We sat on the balcony most evenings watching the sunset. The 'village' is on the side of a hill and has many steps but you soon get used to them. It was probably the most attractive village we saw on our holiday.  Our room was big with a nice bathroom. Beds were comfy which is rare in Greece! The taverna or the café were open every day for food which is good, basic fare but well cooked and the staff were very friendly and helpful. Thoroughly recommend. We'll certainly be back.                                                                                                                                                                                           \n",
      " Review-clean-text           | We had a room quite near to the road, but it had the most amazing view over both the city and the surrounding mountains. We sat on the balcony most evenings watching the sunset. The 'village' is on the side of a hill and has many steps but you soon get used to them. It was probably the most attractive village we saw on our holiday. Our room was big with a nice bathroom. Beds were comfy which is rare in Greece! The taverna or the café were open every day for food which is good, basic fare but well cooked and the staff were very friendly and helpful. Thoroughly recommend. We'll certainly be back.                                                                                                                                                                                            \n",
      " Review-sentences-text       |  We had a room quite near to the road but it had the most amazing view over both the city and the surrounding mountains. We sat on the balcony most evenings watching the sunset. The 'village is on the side of a hill and has many steps but you soon get used to them. It was probably the most attractive village we saw on our holiday. Our room was big with a nice bathroom. Beds were comfy which is rare in Greece. The taverna or the café were open every day for food which is good basic fare but well cooked and the staff were very friendly and helpful. Thoroughly recommend. We 'll certainly be back.                                                                                                                                                                                             \n",
      " Review-nouns-text           | amazing view attractive village nice bathroom beds greece good basic fare thoroughly                                                                                                                                                                                                                                                                                                                                                                                                                                                                                                                                                                                                                                                                                                                                 \n",
      " Review-text-count           | 115                                                                                                                                                                                                                                                                                                                                                                                                                                                                                                                                                                                                                                                                                                                                                                                                                  \n",
      " Review-sentences-text-count | 116                                                                                                                                                                                                                                                                                                                                                                                                                                                                                                                                                                                                                                                                                                                                                                                                                  \n",
      " Review-nouns-text-count     | 12                                                                                                                                                                                                                                                                                                                                                                                                                                                                                                                                                                                                                                                                                                                                                                                                                   \n",
      "-RECORD 17------------------------------------------------------------------------------------------------------------------------------------------------------------------------------------------------------------------------------------------------------------------------------------------------------------------------------------------------------------------------------------------------------------------------------------------------------------------------------------------------------------------------------------------------------------------------------------------------------------------------------------------------------------------------------------------------------------------------------------------------------------------------------------------------------------------------------------------\n",
      " Review text                 | Our 1st steps in Crete and that was the Best choice ever! The place is amazing (view & village & villas). We felt like special guests and could feel very confortable to rest from our travel. Service is extremely good and friendly, true people, all dedicated! We did not want to leave! And stayed a 2nd night. We'll come back! Big Efkalisto to all the team, we love your country.  The 3 frenchies                                                                                                                                                                                                                                                                                                                                                                                                          \n",
      " Review-clean-text           | Our 1st steps in Crete and that was the Best choice ever! The place is amazing (view & village & villas). We felt like special guests and could feel very confortable to rest from our travel. Service is extremely good and friendly, true people, all dedicated! We did not want to leave! And stayed a 2nd night. We'll come back! Big Efkalisto to all the team, we love your country. The 3 frenchies                                                                                                                                                                                                                                                                                                                                                                                                           \n",
      " Review-sentences-text       |  Our 1st steps in Crete and that was the Best choice ever. The place is amazing view village villas. We felt like special guests and could feel very confortable to rest from our travel. Service is extremely good and friendly true people all dedicated. We did not want to leave. And stayed a 2nd night. We 'll come back. Big Efkalisto to all the team we love your country. The 3 frenchies.                                                                                                                                                                                                                                                                                                                                                                                                                 \n",
      " Review-nouns-text           | 1st steps crete best amazing view village villas special guests friendly true people efkalisto                                                                                                                                                                                                                                                                                                                                                                                                                                                                                                                                                                                                                                                                                                                       \n",
      " Review-text-count           | 73                                                                                                                                                                                                                                                                                                                                                                                                                                                                                                                                                                                                                                                                                                                                                                                                                   \n",
      " Review-sentences-text-count | 72                                                                                                                                                                                                                                                                                                                                                                                                                                                                                                                                                                                                                                                                                                                                                                                                                   \n",
      " Review-nouns-text-count     | 14                                                                                                                                                                                                                                                                                                                                                                                                                                                                                                                                                                                                                                                                                                                                                                                                                   \n",
      "-RECORD 18------------------------------------------------------------------------------------------------------------------------------------------------------------------------------------------------------------------------------------------------------------------------------------------------------------------------------------------------------------------------------------------------------------------------------------------------------------------------------------------------------------------------------------------------------------------------------------------------------------------------------------------------------------------------------------------------------------------------------------------------------------------------------------------------------------------------------------------\n",
      " Review text                 | We stayed here for 5 nights for our anniversary, beautiful grounds and amazing food. Friendly staff. Only reason for 4 stars because of our room had loads of ants and on our balcony was loads of wasps. ( my husbands back was full of bug bites) we still had an amazing time. I would recommend to rent a car when staying here as in the middle of no where. ( which we loved) I would recommend this hotel. My husband fell in love with the hotel dogs. There is also lots of cats here. The views was amazing. The restaurant was one of the most romantic restaurants we have ever been too. On Wednesday evenings they do a Cretan night with free wine, what ever you do don’t miss this night as was wonderful to watch. We will be back!                                                                \n",
      " Review-clean-text           | We stayed here for 5 nights for our anniversary, beautiful grounds and amazing food. Friendly staff. Only reason for 4 stars because of our room had loads of ants and on our balcony was loads of wasps. ( my husbands back was full of bug bites) we still had an amazing time. I would recommend to rent a car when staying here as in the middle of no where. ( which we loved) I would recommend this hotel. My husband fell in love with the hotel dogs. There is also lots of cats here. The views was amazing. The restaurant was one of the most romantic restaurants we have ever been too. On Wednesday evenings they do a Cretan night with free wine, what ever you do don’t miss this night as was wonderful to watch. We will be back!                                                                \n",
      " Review-sentences-text       |  We stayed here for 5 nights for our anniversary beautiful grounds and amazing food. Friendly staff. Only reason for 4 stars because of our room had loads of ants and on our balcony was loads of wasps. my husbands back was full of bug bites we still had an amazing time. I would recommend to rent a car when staying here as in the middle of no where. which we loved I would recommend this hotel. My husband fell in love with the hotel dogs. There is also lots of cats here. The views was amazing. The restaurant was one of the most romantic restaurants we have ever been too. On Wednesday evenings they do a Cretan night with free wine what ever you do don ’ t miss this night as was wonderful to watch. We will be back.                                                                     \n",
      " Review-nouns-text           | beautiful grounds amazing food friendly bug bites amazing time hotel dogs romantic restaurants cretan free wine don ’ t                                                                                                                                                                                                                                                                                                                                                                                                                                                                                                                                                                                                                                                                                              \n",
      " Review-text-count           | 140                                                                                                                                                                                                                                                                                                                                                                                                                                                                                                                                                                                                                                                                                                                                                                                                                  \n",
      " Review-sentences-text-count | 140                                                                                                                                                                                                                                                                                                                                                                                                                                                                                                                                                                                                                                                                                                                                                                                                                  \n",
      " Review-nouns-text-count     | 19                                                                                                                                                                                                                                                                                                                                                                                                                                                                                                                                                                                                                                                                                                                                                                                                                   \n",
      "-RECORD 19------------------------------------------------------------------------------------------------------------------------------------------------------------------------------------------------------------------------------------------------------------------------------------------------------------------------------------------------------------------------------------------------------------------------------------------------------------------------------------------------------------------------------------------------------------------------------------------------------------------------------------------------------------------------------------------------------------------------------------------------------------------------------------------------------------------------------------------\n",
      " Review text                 | We spent 1 week there .the hotel might be good for families with kids but not for others .Structure offer basic service ,no internet in room ,is always busy n noisy with wedding parties 6 in a week !!! In the middle of nowhere hills .The rooms are basic n breakfast too...the beds are too small even if traditional..the bed lining in poly cotton make you sweat . There are mosquito too !! Staff is average ...i not repeat                                                                                                                                                                                                                                                                                                                                                                                \n",
      " Review-clean-text           | We spent 1 week there .the hotel might be good for families with kids but not for others .Structure offer basic service ,no internet in room ,is always busy n noisy with wedding parties 6 in a week ! In the middle of nowhere hills .The rooms are basic n breakfast too...the beds are too small even if traditional..the bed lining in poly cotton make you sweat . There are mosquito too ! Staff is average ...i not repeat                                                                                                                                                                                                                                                                                                                                                                                   \n",
      " Review-sentences-text       |  We spent 1 week there the hotel might be good for families with kids but not for others Structure offer basic service no internet in room is always busy n noisy with wedding parties 6 in a week. In the middle of nowhere hills The rooms are basic n breakfast too the beds are too small even if traditional the bed lining in poly cotton make you sweat. There are mosquito too. Staff is average i not repeat.                                                                                                                                                                                                                                                                                                                                                                                               \n",
      " Review-nouns-text           | structure basic service busy n noisy wedding parties basic n breakfast staff average i                                                                                                                                                                                                                                                                                                                                                                                                                                                                                                                                                                                                                                                                                                                               \n",
      " Review-text-count           | 79                                                                                                                                                                                                                                                                                                                                                                                                                                                                                                                                                                                                                                                                                                                                                                                                                   \n",
      " Review-sentences-text-count | 78                                                                                                                                                                                                                                                                                                                                                                                                                                                                                                                                                                                                                                                                                                                                                                                                                   \n",
      " Review-nouns-text-count     | 14                                                                                                                                                                                                                                                                                                                                                                                                                                                                                                                                                                                                                                                                                                                                                                                                                   \n",
      "only showing top 20 rows\n",
      "\n"
     ]
    },
    {
     "name": "stderr",
     "output_type": "stream",
     "text": [
      "                                                                                \r"
     ]
    }
   ],
   "source": [
    "df.select(textcols).show(vertical=True, truncate=False)"
   ]
  },
  {
   "cell_type": "code",
   "execution_count": 22,
   "id": "6e0f9099-6960-47a5-847b-3f1c68da214f",
   "metadata": {},
   "outputs": [
    {
     "name": "stdout",
     "output_type": "stream",
     "text": [
      "root\n",
      " |-- ID: string (nullable = true)\n",
      " |-- Source: string (nullable = true)\n",
      " |-- Entity: string (nullable = true)\n",
      " |-- Location: string (nullable = true)\n",
      " |-- Country: string (nullable = true)\n",
      " |-- Collection date: string (nullable = true)\n",
      " |-- Review date: string (nullable = true)\n",
      " |-- Review text: string (nullable = true)\n",
      " |-- Collection-date: date (nullable = true)\n",
      " |-- Review-date: date (nullable = true)\n",
      " |-- Review-clean-text: string (nullable = true)\n",
      " |-- Review-sentences-text: string (nullable = true)\n",
      " |-- Review-nouns-text: string (nullable = true)\n",
      " |-- Review-text-count: integer (nullable = true)\n",
      " |-- Review-sentences-text-count: integer (nullable = true)\n",
      " |-- Review-nouns-text-count: integer (nullable = true)\n",
      "\n"
     ]
    },
    {
     "name": "stderr",
     "output_type": "stream",
     "text": [
      "[Stage 17:>                                                         (0 + 1) / 1]\r"
     ]
    },
    {
     "name": "stdout",
     "output_type": "stream",
     "text": [
      "-RECORD 0---------------------------------------------------------------------------------------------------------------------------------------------------------------------------------------------------------------------------------\n",
      " ID                          | 1683301001-136                                                                                                                                                                                             \n",
      " Source                      | https://www.tripadvisor.com/Hotel_Review-g189417-d240839-Reviews-Arolithos_Traditional_Cretan_Village-Heraklion_Crete.html                                                                                 \n",
      " Entity                      | Arolithos Traditional Cretan Village                                                                                                                                                                       \n",
      " Location                    | Heraklion, Crete                                                                                                                                                                                           \n",
      " Country                     | Greece                                                                                                                                                                                                     \n",
      " Collection date             | 05/05/2023                                                                                                                                                                                                 \n",
      " Review date                 | 01/10/2022                                                                                                                                                                                                 \n",
      " Review text                 | Amazing restful place and environment and close to many places to visit. The village is traditional and plenty of colors.  Surrounded by cats and very kind persons, nice meals I really recommend it. :-) \n",
      " Collection-date             | 2023-05-05                                                                                                                                                                                                 \n",
      " Review-date                 | 2022-10-01                                                                                                                                                                                                 \n",
      " Review-clean-text           | Amazing restful place and environment and close to many places to visit. The village is traditional and plenty of colors. Surrounded by cats and very kind persons, nice meals I really recommend it. :-)  \n",
      " Review-sentences-text       |  Amazing restful place and environment and close to many places to visit. The village is traditional and plenty of colors. Surrounded by cats and very kind persons nice meals I really recommend it..     \n",
      " Review-nouns-text           | amazing restful place surrounded kind persons nice meals                                                                                                                                                   \n",
      " Review-text-count           | 34                                                                                                                                                                                                         \n",
      " Review-sentences-text-count | 33                                                                                                                                                                                                         \n",
      " Review-nouns-text-count     | 8                                                                                                                                                                                                          \n",
      "only showing top 1 row\n",
      "\n"
     ]
    },
    {
     "name": "stderr",
     "output_type": "stream",
     "text": [
      "                                                                                \r"
     ]
    },
    {
     "data": {
      "text/plain": [
       "201"
      ]
     },
     "execution_count": 22,
     "metadata": {},
     "output_type": "execute_result"
    }
   ],
   "source": [
    "df.printSchema()\n",
    "reviews_count = df.count()\n",
    "df.show(1, vertical=True, truncate=False)\n",
    "reviews_count"
   ]
  },
  {
   "cell_type": "markdown",
   "id": "44498f86-9c29-43f4-a961-8ce977d17dfa",
   "metadata": {},
   "source": [
    "# Data understanding - initial EDA"
   ]
  },
  {
   "cell_type": "code",
   "execution_count": 23,
   "id": "5f541b02-4e3c-4b8d-85c5-7d558c9e43a0",
   "metadata": {},
   "outputs": [
    {
     "data": {
      "text/plain": [
       "['ID',\n",
       " 'Source',\n",
       " 'Entity',\n",
       " 'Location',\n",
       " 'Country',\n",
       " 'Review text',\n",
       " 'Collection-date',\n",
       " 'Review-date',\n",
       " 'Review-sentences-text',\n",
       " 'Review-nouns-text',\n",
       " 'Review-text-count',\n",
       " 'Review-sentences-text-count',\n",
       " 'Review-nouns-text-count']"
      ]
     },
     "execution_count": 23,
     "metadata": {},
     "output_type": "execute_result"
    }
   ],
   "source": [
    "cols_to_forget = ['Collection date', 'Review date', 'Review-clean-text']\n",
    "cols_interest = [x for x in df.columns if x not in cols_to_forget]\n",
    "cols_interest"
   ]
  },
  {
   "cell_type": "code",
   "execution_count": 24,
   "id": "75c26e6a-96cf-4711-aaf8-b599ad3fa87e",
   "metadata": {},
   "outputs": [
    {
     "name": "stdout",
     "output_type": "stream",
     "text": [
      "\n",
      "Nulls:\n"
     ]
    },
    {
     "name": "stderr",
     "output_type": "stream",
     "text": [
      "                                                                                \r"
     ]
    }
   ],
   "source": [
    "print('\\nNulls:')\n",
    "for cl in cols_interest:\n",
    "    if cl not in ['Collection-date', 'Review-date']:\n",
    "        k = df.select(cl).filter(F.col(cl).isNull() | F.isnan(cl)).count() \n",
    "        if k > 0:\n",
    "            print(f'Column {cl} with {k} nulls or NaN, out of {reviews_count} records ({k*100/reviews_count:.2f}%)')"
   ]
  },
  {
   "cell_type": "code",
   "execution_count": 25,
   "id": "db91cda8-e188-4a4b-a11e-d4888324d4d2",
   "metadata": {},
   "outputs": [
    {
     "name": "stdout",
     "output_type": "stream",
     "text": [
      "\n",
      "Uniqueness:\n",
      "Column ID with 201 distinct values, out of 201 records (100.00%)\n",
      "Column Source with 23 distinct values, out of 201 records (11.44%)\n",
      "Column Entity with 14 distinct values, out of 201 records (6.97%)\n",
      "Column Location with 14 distinct values, out of 201 records (6.97%)\n",
      "Column Country with 5 distinct values, out of 201 records (2.49%)\n",
      "Column Review text with 201 distinct values, out of 201 records (100.00%)\n",
      "Column Review-sentences-text with 201 distinct values, out of 201 records (100.00%)\n",
      "Column Review-nouns-text with 201 distinct values, out of 201 records (100.00%)\n",
      "Column Review-text-count with 96 distinct values, out of 201 records (47.76%)\n",
      "Column Review-sentences-text-count with 98 distinct values, out of 201 records (48.76%)\n",
      "Column Review-nouns-text-count with 35 distinct values, out of 201 records (17.41%)\n"
     ]
    }
   ],
   "source": [
    "print('\\nUniqueness:') \n",
    "for cl in cols_interest:\n",
    "    if cl not in ['Collection-date', 'Review-date']:\n",
    "        k = df.select(cl).distinct().count()\n",
    "        print(f'Column {cl} with {k} distinct values, out of {reviews_count} records ({k*100/reviews_count:.2f}%)')"
   ]
  },
  {
   "cell_type": "code",
   "execution_count": 27,
   "id": "afc57195-6daf-4e3d-891f-e5e21f30ca63",
   "metadata": {},
   "outputs": [
    {
     "data": {
      "image/png": "[encoded data removed]",
      "text/plain": [
       "<Figure size 640x480 with 1 Axes>"
      ]
     },
     "metadata": {},
     "output_type": "display_data"
    }
   ],
   "source": [
    "# How many reviews per country\n",
    "\n",
    "df_plot = df.groupby('Country').count().sort('Country', ascending=True).toPandas()\n",
    "sns.barplot(data=df_plot, x='Country', y='count')\n",
    "plt.title('Number of reviews per country')\n",
    "plt.show()"
   ]
  },
  {
   "cell_type": "raw",
   "id": "d8dd267c-eda8-40bf-85cc-2c8b4f07d7cd",
   "metadata": {},
   "source": [
    "And many other visualizations..."
   ]
  },
  {
   "cell_type": "markdown",
   "id": "95e4b822-1ec2-4d81-ab8e-b49e3ffd8b14",
   "metadata": {},
   "source": [
    "# Save the data of interest"
   ]
  },
  {
   "cell_type": "code",
   "execution_count": 28,
   "id": "fbb9ddd5-81a4-44ab-a1f9-69533252695d",
   "metadata": {},
   "outputs": [
    {
     "data": {
      "text/plain": [
       "['ID',\n",
       " 'Source',\n",
       " 'Entity',\n",
       " 'Location',\n",
       " 'Country',\n",
       " 'Review text',\n",
       " 'Collection-date',\n",
       " 'Review-date',\n",
       " 'Review-sentences-text',\n",
       " 'Review-nouns-text',\n",
       " 'Review-text-count',\n",
       " 'Review-sentences-text-count',\n",
       " 'Review-nouns-text-count']"
      ]
     },
     "execution_count": 28,
     "metadata": {},
     "output_type": "execute_result"
    }
   ],
   "source": [
    "cols_interest"
   ]
  },
  {
   "cell_type": "code",
   "execution_count": 29,
   "id": "8bc745d1-d364-4471-83db-551101998eea",
   "metadata": {},
   "outputs": [
    {
     "name": "stderr",
     "output_type": "stream",
     "text": [
      "23/07/23 20:50:58 WARN JavaUtils: Attempt to delete using native Unix OS command failed for path = /private/var/folders/wl/4zhklts97ms69hcxbggp8fj00000gn/T/blockmgr-54ae5f7d-743c-4763-979c-8bb600d125d1. Falling back to Java IO way\n",
      "java.io.IOException: Failed to delete: /private/var/folders/wl/4zhklts97ms69hcxbggp8fj00000gn/T/blockmgr-54ae5f7d-743c-4763-979c-8bb600d125d1\n",
      "\tat org.apache.spark.network.util.JavaUtils.deleteRecursivelyUsingUnixNative(JavaUtils.java:177)\n",
      "\tat org.apache.spark.network.util.JavaUtils.deleteRecursively(JavaUtils.java:113)\n",
      "\tat org.apache.spark.network.util.JavaUtils.deleteRecursively(JavaUtils.java:94)\n",
      "\tat org.apache.spark.util.Utils$.deleteRecursively(Utils.scala:1231)\n",
      "\tat org.apache.spark.storage.DiskBlockManager.$anonfun$doStop$1(DiskBlockManager.scala:368)\n",
      "\tat org.apache.spark.storage.DiskBlockManager.$anonfun$doStop$1$adapted(DiskBlockManager.scala:364)\n",
      "\tat scala.collection.IndexedSeqOptimized.foreach(IndexedSeqOptimized.scala:36)\n",
      "\tat scala.collection.IndexedSeqOptimized.foreach$(IndexedSeqOptimized.scala:33)\n",
      "\tat scala.collection.mutable.ArrayOps$ofRef.foreach(ArrayOps.scala:198)\n",
      "\tat org.apache.spark.storage.DiskBlockManager.doStop(DiskBlockManager.scala:364)\n",
      "\tat org.apache.spark.storage.DiskBlockManager.$anonfun$addShutdownHook$2(DiskBlockManager.scala:346)\n",
      "\tat org.apache.spark.util.SparkShutdownHook.run(ShutdownHookManager.scala:214)\n",
      "\tat org.apache.spark.util.SparkShutdownHookManager.$anonfun$runAll$2(ShutdownHookManager.scala:188)\n",
      "\tat scala.runtime.java8.JFunction0$mcV$sp.apply(JFunction0$mcV$sp.java:23)\n",
      "\tat org.apache.spark.util.Utils$.logUncaughtExceptions(Utils.scala:2088)\n",
      "\tat org.apache.spark.util.SparkShutdownHookManager.$anonfun$runAll$1(ShutdownHookManager.scala:188)\n",
      "\tat scala.runtime.java8.JFunction0$mcV$sp.apply(JFunction0$mcV$sp.java:23)\n",
      "\tat scala.util.Try$.apply(Try.scala:213)\n",
      "\tat org.apache.spark.util.SparkShutdownHookManager.runAll(ShutdownHookManager.scala:188)\n",
      "\tat org.apache.spark.util.SparkShutdownHookManager$$anon$2.run(ShutdownHookManager.scala:178)\n",
      "\tat java.base/java.util.concurrent.Executors$RunnableAdapter.call(Executors.java:515)\n",
      "\tat java.base/java.util.concurrent.FutureTask.run(FutureTask.java:264)\n",
      "\tat java.base/java.util.concurrent.ThreadPoolExecutor.runWorker(ThreadPoolExecutor.java:1128)\n",
      "\tat java.base/java.util.concurrent.ThreadPoolExecutor$Worker.run(ThreadPoolExecutor.java:628)\n",
      "\tat java.base/java.lang.Thread.run(Thread.java:829)\n"
     ]
    }
   ],
   "source": [
    "# Save data as a parquet file\n",
    "\n",
    "df.select(cols_interest).write.mode(\"overwrite\").parquet(\"reviews\")"
   ]
  },
  {
   "cell_type": "code",
   "execution_count": null,
   "id": "49489f4a-0b6f-47eb-bc98-395f68e6e844",
   "metadata": {},
   "outputs": [],
   "source": []
  }
 ],
 "metadata": {
  "kernelspec": {
   "display_name": "PySpark",
   "language": "python",
   "name": "pyspark"
  },
  "language_info": {
   "codemirror_mode": {
    "name": "ipython",
    "version": 3
   },
   "file_extension": ".py",
   "mimetype": "text/x-python",
   "name": "python",
   "nbconvert_exporter": "python",
   "pygments_lexer": "ipython3",
   "version": "3.11.4"
  },
  "toc": {
   "base_numbering": 1,
   "nav_menu": {},
   "number_sections": true,
   "sideBar": true,
   "skip_h1_title": false,
   "title_cell": "Table of Contents",
   "title_sidebar": "Contents",
   "toc_cell": false,
   "toc_position": {},
   "toc_section_display": true,
   "toc_window_display": false
  }
 },
 "nbformat": 4,
 "nbformat_minor": 5
}
