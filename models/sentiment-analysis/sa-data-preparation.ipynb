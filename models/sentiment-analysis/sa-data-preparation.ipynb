{
 "cells": [
  {
   "cell_type": "markdown",
   "id": "b68f3fd2-7f48-4a8f-af8a-6dc98b0f7c96",
   "metadata": {},
   "source": [
    "**Data preparation for Sentiment Analysis (SA)**\n",
    "\n",
    "The goal is to create a proper reviews data file for further processing. \n"
   ]
  },
  {
   "cell_type": "code",
   "execution_count": 1,
   "id": "96e852c6-4424-494d-94ce-623e8fa038e1",
   "metadata": {},
   "outputs": [
    {
     "data": {
      "text/html": [
       "\n",
       "            <div>\n",
       "                <p><b>SparkSession - hive</b></p>\n",
       "                \n",
       "        <div>\n",
       "            <p><b>SparkContext</b></p>\n",
       "\n",
       "            <p><a href=\"http://mini-de-adriano.lan:4042\">Spark UI</a></p>\n",
       "\n",
       "            <dl>\n",
       "              <dt>Version</dt>\n",
       "                <dd><code>v3.4.0</code></dd>\n",
       "              <dt>Master</dt>\n",
       "                <dd><code>local[*]</code></dd>\n",
       "              <dt>AppName</dt>\n",
       "                <dd><code>pyspark-shell</code></dd>\n",
       "            </dl>\n",
       "        </div>\n",
       "        \n",
       "            </div>\n",
       "        "
      ],
      "text/plain": [
       "<pyspark.sql.session.SparkSession at 0x10ff385d0>"
      ]
     },
     "execution_count": 1,
     "metadata": {},
     "output_type": "execute_result"
    }
   ],
   "source": [
    "spark"
   ]
  },
  {
   "cell_type": "markdown",
   "id": "a5c50e5a-1df9-4cd3-98c4-054f1b774055",
   "metadata": {},
   "source": [
    "# Initial settings"
   ]
  },
  {
   "cell_type": "code",
   "execution_count": 2,
   "id": "cee2968e-1db4-4537-a5e3-8d2f1f093116",
   "metadata": {},
   "outputs": [],
   "source": [
    "%%bash\n",
    "# pip3 install pandas numpy matplot seaborn"
   ]
  },
  {
   "cell_type": "code",
   "execution_count": 3,
   "id": "7695d269-7288-44fc-ac5e-dc54b3b62a7a",
   "metadata": {},
   "outputs": [],
   "source": [
    "import os, sys\n",
    "\n",
    "import pandas as pd\n",
    "import numpy as np\n",
    "import re\n",
    "import matplotlib.pyplot as plt\n",
    "import seaborn as sns"
   ]
  },
  {
   "cell_type": "code",
   "execution_count": 4,
   "id": "89b55fee-dcee-465a-b9a0-04f8e64462d1",
   "metadata": {},
   "outputs": [],
   "source": [
    "# some Spark related imports we will use hereafter\n",
    "\n",
    "from pyspark.sql import SparkSession \n",
    "import pyspark.sql.functions as F \n",
    "from pyspark.sql.types import *"
   ]
  },
  {
   "cell_type": "code",
   "execution_count": 5,
   "id": "c4fbadae-c44a-4f55-b81d-45077e9c407b",
   "metadata": {},
   "outputs": [
    {
     "name": "stderr",
     "output_type": "stream",
     "text": [
      "23/06/14 22:53:06 WARN SparkSession: Using an existing Spark session; only runtime SQL configurations will take effect.\n"
     ]
    }
   ],
   "source": [
    "# Create Spark session if we want to\n",
    "\n",
    "spark = SparkSession.builder.appName(\"ResettingSentimentAnalysis\").getOrCreate()"
   ]
  },
  {
   "cell_type": "markdown",
   "id": "3b3ed074-e3ec-46b8-a498-01b19df2ae2f",
   "metadata": {},
   "source": [
    "# Useful functions, namely visualization functions"
   ]
  },
  {
   "cell_type": "code",
   "execution_count": 6,
   "id": "8f27e86b-710f-4df7-b02b-77250b79ea1b",
   "metadata": {},
   "outputs": [],
   "source": [
    "def plotLine(df, xcol, ycol):\n",
    "    return sns.lineplot(data=df, x=xcol, y=ycol)\n",
    "\n",
    "def plotBar(df, xcol, ycol, huecol=None):\n",
    "    return sns.barplot(data=df, x=xcol, y=ycol, hue=huecol)\n",
    "\n",
    "def plotScatter(df, xcol, ycol, huecol=None):\n",
    "    return sns.scatterplot(data=df, x=xcol, y=ycol, hue=huecol)\n",
    "\n",
    "def plotScatterMatrix(df, huecol=None): \n",
    "    return sns.pairplot(data=df, hue=huecol)"
   ]
  },
  {
   "cell_type": "markdown",
   "id": "0d6b5603-d5d5-4080-950f-8113b3f49df4",
   "metadata": {},
   "source": [
    "# Data ingestion"
   ]
  },
  {
   "cell_type": "code",
   "execution_count": 7,
   "id": "b4ae97cc-7abe-44dc-8c63-c40668f50356",
   "metadata": {},
   "outputs": [],
   "source": [
    "filepath = 'data'"
   ]
  },
  {
   "cell_type": "code",
   "execution_count": 8,
   "id": "3e622ca6-35c7-4fa7-a922-a7d945d7dbac",
   "metadata": {},
   "outputs": [
    {
     "name": "stdout",
     "output_type": "stream",
     "text": [
      "total 328\n",
      "drwxr-xr-x@ 16 adriano  staff    512 Jun 12 23:17 \u001b[34m.\u001b[m\u001b[m\n",
      "drwxr-xr-x  10 adriano  staff    320 Jun 14 22:52 \u001b[34m..\u001b[m\u001b[m\n",
      "-rw-rw-r--@  1 adriano  staff  14421 Jun 14 12:36 Achlada.fin.2.csv\n",
      "-rw-rw-r--@  1 adriano  staff   3885 Jun 14 12:37 FamilyHotelRelax.fin.csv\n",
      "-rw-rw-r--@  1 adriano  staff   3717 Jun 14 12:39 FarmaSotira.fin.csv\n",
      "-rw-rw-r--@  1 adriano  staff   4145 Jun 14 12:39 HotelElCami.fin.csv\n",
      "-rw-rw-r--@  1 adriano  staff   4486 Jun 14 12:40 HotelJerry.fin.csv\n",
      "-rw-rw-r--@  1 adriano  staff  16064 Jun 14 12:40 HotelManili.fin.csv\n",
      "-rw-rw-r--@  1 adriano  staff   7213 Jun 14 12:40 LxRossio.fin.csv\n",
      "-rw-rw-r--@  1 adriano  staff  19503 Jun 14 12:40 MonteDaProvenca.csv\n",
      "-rw-rw-r--@  1 adriano  staff   5347 Jun 14 12:41 Senator.fin.csv\n",
      "-rw-rw-r--@  1 adriano  staff   5975 Jun 14 12:41 SevenRoomsFlat.fin.csv\n",
      "-rw-rw-r--@  1 adriano  staff   4443 Jun 14 12:41 StoneBeach.fin.csv\n",
      "-rw-rw-r--@  1 adriano  staff  12314 Jun 14 12:36 aguadalma.fin.2.csv\n",
      "-rw-rw-r--@  1 adriano  staff  13604 Jun 14 12:37 archanes.fin.csv\n",
      "-rw-rw-r--@  1 adriano  staff  21692 Jun 14 12:37 arolithos.fin.csv\n"
     ]
    }
   ],
   "source": [
    "%%bash\n",
    "ls -la data"
   ]
  },
  {
   "cell_type": "code",
   "execution_count": 9,
   "id": "46808340-f878-40d7-b7c4-ee2788b6b24f",
   "metadata": {},
   "outputs": [
    {
     "name": "stdout",
     "output_type": "stream",
     "text": [
      "\n",
      "File: ./data/Achlada.fin.2.csv\n",
      "﻿ID;Source;Entity;Location;Country;Collection date;Review date;Review text\n",
      "1683299003-58;https://www.tripadvisor.com/Hotel_Review-g14007852-d1058472-Reviews-Achlada_Mourtzanakis_Residence-Achlada_Crete.html#/media/1058472/111479167:p/?albumid=101&type=0&category=101;Mourtzanakis Residence;Achlada, Crete;Greece;05/05/2023;01/07/2022;If you are Looking for a magical vacation in nature ,with magic views of the  sea, mountains all around ,the ringing goats grazing in the meadow, and clear mountain air the…… ‏MourtzanakIs  Resort is the perfect place. ‏ It is a  calm and quiet place with a strong  presence of nature. ‏ The resort is located in an ancient village called Achlada which is about a half hour far  from Heraklion ‏ We had a small vacation unit which was quiet well equipped.  The staff was  polite and willing to help us in everything. Every request was fulfilled with a smile. ‏ The owner of the place, Marcus, is a  friendly and charming person,  with great hospitality.He made us feel at home . ‏ His son Valeri guided us in a tour  to the mountains and ancient  villages.It was very interesting and we\n",
      "\n",
      "1683299114-77;https://www.tripadvisor.com/Hotel_Review-g14007852-d1058472-Reviews-or10-Achlada_Mourtzanakis_Residence-Achlada_Crete.html#REVIEWS;Mourtzanakis Residence;Achlada, Crete;Greece;05/05/2023;01/06/2016;A beautiful B&B with wonderful hosts who take extra care of you. I had issues with my rental car company and the hosts, Marco and Smaro, spent at least an hour on the phone to help me sort it out, successfully. They are very kind, sweet and helpful. Awesome villas--we stayed in the 2-story Alpha which has a balcony with a superlative view, a nice kitchen and dining area, a great bedroom upstairs and living area downstairs. It is like a home away from home in charming Crete. I strongly recommend this B&B for peace and quiet, access to a beautiful beach downhill, and centrality to visit the rest of Crete.   Also, make sure to enjoy the swimming pools!\n",
      "\n",
      "File: ./data/FamilyHotelRelax.fin.csv\n",
      "﻿ID;Source;Entity;Location;Country;Collection date;Review date;Review text\n",
      "1683300312-113;https://www.tripadvisor.com/Hotel_Review-g194895-d1825903-Reviews-Family_Hotel_Relax-San_Benedetto_Del_Tronto_Province_of_Ascoli_Piceno_Marche.html;Family Hotel Relax;San Benedetto Del Tronto;Italy;05/05/2023;01/09/2022;We have spent beautiful weekend. The hotel is simply perfect for families. Children play and parents can really relax. I appreciate each single facility (area for small kids, different areas in restaurant, bicycles).\n",
      "\n",
      "1683300312-118;https://www.tripadvisor.com/Hotel_Review-g194895-d1825903-Reviews-Family_Hotel_Relax-San_Benedetto_Del_Tronto_Province_of_Ascoli_Piceno_Marche.html;Family Hotel Relax;San Benedetto Del Tronto;Italy;05/05/2023;01/06/2019;We had some wonderful food. The fish was so fresh and well prepared.  The pasta was cooked to perfection. Silvio treated us like family and he was a great host. Would definitely eat here on our next visit to San Benedetto del Tronto\n",
      "\n",
      "File: ./data/FarmaSotira.fin.csv\n",
      "﻿ID;Source;Entity;Location;Country;Collection date;Review date;Review text\n",
      "1683300125-108;https://www.tripadvisor.com/Restaurant_Review-g15585007-d5308287-Reviews-Farma_Sotira-Leskovik_Korce_County.html;Farma Sotira;Leskovic, Albania;Albania;05/05/2023;01/06/2022;The place is beautifully situated inside a large park. We ate amazing trout straight out of the water, perfectly prepared. We also fed some of the free-range ducks (and dogs) wandering around. Beautiful location with delicious food. I'd love to go back there to eat,...as well as stay in their accommodations.More\n",
      "\n",
      "1683300125-112;https://www.tripadvisor.com/Restaurant_Review-g15585007-d5308287-Reviews-Farma_Sotira-Leskovik_Korce_County.html;Farma Sotira;Leskovic, Albania;Albania;05/05/2023;01/10/2013;we arrived at the restaurant during the lunch time and a lady asked for a reservation otherwise they had no food!!! it is an open rastaurant and nobody does reservation at least only for two persons! the next words from her were: get away in...a very insulting way! the road to that place is horrible and it is a sacrifice in a sort of way getting there! and when you find this way of behavior than it is horrible!!! Very, very bad!!!More\n",
      "\n",
      "File: ./data/HotelElCami.fin.csv\n",
      "ID;Source;Entity;Location;Country;Collection date;Review date;Review text\n",
      "1683297601-1;https://www.tripadvisor.com/Hotel_Review-g580328-d1866816-Reviews-Hotel_El_Cami-Cambrils_Baix_Camp_Costa_Dorada_Province_of_Tarragona_Catalonia.html;Hotel El Cami;Cambrils, Spain;Spain;05/05/2023;01/03/2023;Fantastic place . Yolanda and Francesco where the owners and so kind and accomodating. We will be back. Clean and shinning  Breakfast was ample to start your day. Highly recommended Eileen and Jon and 2 wee dogs. Inside garden was beautiful.\n",
      "\n",
      "1683297601-7;https://www.tripadvisor.com/Hotel_Review-g580328-d1866816-Reviews-Hotel_El_Cami-Cambrils_Baix_Camp_Costa_Dorada_Province_of_Tarragona_Catalonia.html;Hotel El Cami;Cambrils, Spain;Spain;05/05/2023;01/06/2015;A good choice for a correct place to stay in Cambrils. Maybe it's a bit far from the beach, but there is a bus stop in front of the hotel.  The restaurant it's perfect, tasty food, good prices and kindly waiters. You will feel like home.\n",
      "\n",
      "File: ./data/HotelJerry.fin.csv\n",
      "﻿ID;Source;Entity;Location;Country;Collection date;Review date;Review text\n",
      "1683300554-119;https://www.tripadvisor.com/Hotel_Review-g730082-d1475204-Reviews-Hotel_Jerry-Grottammare_Province_of_Ascoli_Piceno_Marche.html;Hotel Jerry Grottammare;Grottammare, Italy;Italy;05/05/2023;01/08/2022;Grottammare is the greatest hidden gem on the Adriatic coast and we always stay at Hotel Jerry which is undoubtedly our favourite hotel in Italy. Given we have now been coming here with various family and friends for 20 years and have a great relationship with the wonderful family running the hotel, that says it all really!\n",
      "\n",
      "1683300554-125;https://www.tripadvisor.com/Hotel_Review-g730082-d1475204-Reviews-Hotel_Jerry-Grottammare_Province_of_Ascoli_Piceno_Marche.html;Hotel Jerry Grottammare;Grottammare, Italy;Italy;05/05/2023;01/07/2014;Excellent hotel, owned by a friendly family. It's very clean, confortable, first class Italian food  (delicious fish and pasta ) and service. Good situation on the sea front ( great sandy beach ).  It's the ninth time we spend a holiday there ! What else can I say !!!\n",
      "\n",
      "File: ./data/HotelManili.fin.csv\n",
      "﻿ID;Source;Entity;Location;Country;Collection date;Review date;Review text\n",
      "1683298039-8;https://www.tripadvisor.com/Hotel_Review-g1101777-d6922153-Reviews-Manili_Boutique_Suites_Villas-Archanes_Crete.html;Manili Boutique Suites Villas;Archanes, Crete, Greece;Greece;05/05/2023;01/10/2022;Really nice propert with unusual design and decor. Very clean and comfortable with excellent service from all the staff. Very quiet location, but a very short walk to the main square. Highly recommend this property and the village of Archanes.\n",
      "\n",
      "1683298373-57;https://www.tripadvisor.com/Hotel_Review-g1101777-d6922153-Reviews-or20-Manili_Boutique_Suites_Villas-Archanes_Crete.html#REVIEWS;Manili Boutique Suites Villas;Archanes, Crete, Greece;Greece;05/05/2023;01/07/2018;These villas were just incredible. You arrive into a small, romantic Greek village that immediately transports you to the days of old with cobblestone streets and grapes flowing off of the bones around every corner. Manilli Villas is without a doubt the nicest, most up to date partnof this town but without losing an ounce of charm, convenience and overall beauty. The attention to detail from the marble floors to the fact that you have 3 bathrooms to accompany all of the 3 bathrooms makes it ideal if traveling in a group of family and friends. The added convenience of being less an 1/8 mile walk down to the historic, quaint Square in the center of Archanes that is lined with shops and amazing restaurants/cafes. I would stay here time and time again. Also, the fact that there’s a\n",
      "\n",
      "File: ./data/LxRossio.fin.csv\n",
      "﻿ID;Source;Entity;Location;Country;Collection date;Review date;Review text\n",
      "1684243884-1;https://www.tripadvisor.com/Hotel_Review-g189158-d235625-Reviews-Hotel_LX_Rossio-Lisbon_Lisbon_District_Central_Portugal.html;Hotel LX Rossio;Lisbon, Portugal;Portugal;16/05/2023;01/04/2023;We recently stayed at this hotel.   The hotel fronts out onto a pedestrianized street and the area around the hotel is very safe and tends to get very quiet at night.  Near the hotel, via a less than a minute walk, is Rua Augusta, Lisbon’s main pedestrian shopping street.  A lively pedestrian street with mosaic pavements, outdoor cafés and shops.  Turn right when you leave the hotel and you will have a short walk to all the tourist areas.   The hotel’s lobby area is bright with the reception desk facing you as enter the building. We arrived before the official check-in time but were given access to the luggage room on the fourth floor to store our luggage.    Our check-in was efficient but don’t expect lively staff.   Paying the city tax of €4 per day was a money-sting before\n",
      "\n",
      "1684243884-12;https://www.tripadvisor.com/Hotel_Review-g189158-d235625-Reviews-Hotel_LX_Rossio-Lisbon_Lisbon_District_Central_Portugal.html;Hotel LX Rossio;Lisbon, Portugal;Portugal;16/05/2023;01/03/2020;LX Rossio is a small hotel set right in the middle of the touristy bit of Lisbon - ideal for squares, markets, elevators, restaurants, etc etc. Initial impressions are it's a little bit tired and could do with some decoration, but as you'll likely only use it as a base I personally don't see that as a huge issue. We had room 311 with some peeling wallpaper, but the bathroom looked to been refurbished recently and the shower was exceptionally good. We were worried about potential street noise, but no problems at all. Breakfast can be bought in the hotel at €10, but to be perfectly honest there are cheaper local places if you that way inclined, which we are. Would I stay there again? Yes.\n",
      "\n",
      "File: ./data/MonteDaProvenca.csv\n",
      "﻿ID;Source;Entity;Location;Country;Collection date;Review date;Review text\n",
      "1684237172-1;https://www.tripadvisor.com/Hotel_Review-g189104-d7335401-Reviews-Hotel_Rural_Monte_da_Provenca-Elvas_Portalegre_District_Alentejo.html;Hotel Rural Monte da Provenca;Elvas, Portugal;Portugal;16/05/2023;01/06/2022;The property is beautiful in a lovely quiet setting. Great gardens around the pool, and nice outdoor eating areas with views. The pool was large, well kept and benefitted from several covered relaxing areas nearby. The hosts were friendly, caring and low key, it has a great balance of informality but with high standards. Fabulous food, for breakfast lunch or dinner if you wanted it. Elvas is only ten minutes away with a variety of places to eat if you can pull yourself away from Bia’s cooking! A daily special for dinner adds another layer to what is a nice menu anyway we had the duck breast with a orange and honey sauce…..delicious. Our room was large, well equipped, and a very spacious bathroom. The indoor lounge and dining room were delightful too. We will be back.\n",
      "\n",
      "1684237419-10;https://www.tripadvisor.com/Hotel_Review-g189104-d7335401-Reviews-or20-Hotel_Rural_Monte_da_Provenca-Elvas_Portalegre_District_Alentejo.html#REVIEWS;Hotel Rural Monte da Provenca;Elvas, Portugal;Portugal;16/05/2023;01/09/2018;Stayed in one of the very spacious suites for 2 nights. No expense spared on space, fixtures and fittings. Great pool and garden. Food up to same standard. A wonderful spot stay and as good as it gets for the price. Get in before the secret is out!\n",
      "\n",
      "File: ./data/Senator.fin.csv\n",
      "﻿ID;Source;Entity;Location;Country;Collection date;Review date;Review text\n",
      "1683300768-126;https://www.tripadvisor.com/Hotel_Review-g294446-d10154196-Reviews-Hotel_Senator-Tirana_Tirana_County.html;Hotel Senator;Tirana, Albania;Albania;05/05/2023;01/04/2023;The hotel is flawless...spacious rooms, nice bathroom also spacious considering being in the city... two day stay in sept 2022...during our Balkans travels...with a group of 17 pax..location is central walking distance... Thoroughly njoid the breakfast...very home like atmosphere specially with the  assistant  there who took personal care...n brought fresh cookies that were just baked...also jams were made by her.. There's a bar just next to the reception...very easy hotel...highly recommend when  planning to visit Tirana\n",
      "\n",
      "1683300768-135;https://www.tripadvisor.com/Hotel_Review-g294446-d10154196-Reviews-Hotel_Senator-Tirana_Tirana_County.html;Hotel Senator;Tirana, Albania;Albania;05/05/2023;01/12/2017;Best boutique hotel in Tirana   .Perfect locations and very clean  ,impresive sound proof windows ,the wifi i thing 70/100MBs very fast   .Very very comfortable bed Breakfast very good ,At the bar area they make best espreso  The staf is very friendly  .Stay again soon\n",
      "\n",
      "File: ./data/SevenRoomsFlat.fin.csv\n",
      "﻿ID;Source;Entity;Location;Country;Collection date;Review date;Review text\n",
      "1683299324-78;https://www.tripadvisor.com/Hotel_Review-g194895-d1860774-Reviews-Seven_Rooms_Flat-San_Benedetto_Del_Tronto_Province_of_Ascoli_Piceno_Marche.html;Seven Rooms Flat;San Benedetto Del Tronto, Italy;Italy;05/05/2023;01/12/2015;Wonderful room/Balcony-smell the organic pastries each morning & organic Espresso. This B & B is thee best location- in Centro. Walk to everything. Locals arrive daily for Pietro's conversation and happenings in Town.  He is a Consigerge, & Barrista, and Town Crier knowing many details on many subjects. The cleaning staff is great. After 11 nights solo, I was sad to leave. Great atmosphere, warmth, and Pietro does it with a Smile.  do not hesitate to stay at this little gem, in San Benedetto!!! gina stevens, from nyc and California. .....perfetto!\n",
      "\n",
      "1683299324-87;https://www.tripadvisor.com/Hotel_Review-g194895-d1860774-Reviews-Seven_Rooms_Flat-San_Benedetto_Del_Tronto_Province_of_Ascoli_Piceno_Marche.html;Seven Rooms Flat;San Benedetto Del Tronto, Italy;Italy;05/05/2023;01/06/2012;Easy to find and great hopitality.  Pietro, the owner is very friendly and helpfull. The breakfast is fresh  and delicious. All the ingredient are organic, this is a most for this B&B.  Thank you again for this great stay Pietro!!  Mohamed\n",
      "\n",
      "File: ./data/StoneBeach.fin.csv\n",
      "﻿ID;Source;Entity;Location;Country;Collection date;Review date;Review text\n",
      "1683301384-165;https://www.tripadvisor.com/Hotel_Review-g318869-d13631166-Reviews-Stone_Beach_by_Atlantid_Hospitality-Qeparo_Vlore_County.html;Stone Beach by Atlantid Hospitality;Qeparo, Albania;Albania;05/05/2023;01/09/2022;Was worst  experience in my life, better to show with photos. And at the end I forgot a Tshirt and they don’t answer by phone.  To not forget: the room doesn’t have a key, they pretend they have cameras.   everything was rusty, dirty, unwashed, the scarves were gray when they should have been white.  the kindest people were at the bar and the restaurant.  you can see the reception from the photo 🤔 and the so-called receptionist was more undressed than dressed  we made a payment at the bank knowing the price was 85 euros and when we got there they told us the price per room is 105 euros per room  Please dont go in this place\n",
      "\n",
      "1683301384-170;https://www.tripadvisor.com/Hotel_Review-g318869-d13631166-Reviews-Stone_Beach_by_Atlantid_Hospitality-Qeparo_Vlore_County.html;Stone Beach by Atlantid Hospitality;Qeparo, Albania;Albania;05/05/2023;01/07/2019;This property has one of the most amazing locations in Albania! The view is absolutely breathtaking! We learned in talking to our hosts that they just recently took the property over and are working very hard to create an amazing experience for guests. They still have a little ways to go but are coming from the right place and their kindness and friendliness make up for the small shortcomings they are still working through.  The beds are the most comfortable we slept on in our 3 week tour of Albania! The rooms are decorated in a beautiful modern minimalist style so the star of the show is the view. The individual pools are an awesome touch and when you are sitting in it looking out over the bay it is an incredible experience! The whole property is settled right into the natural\n",
      "\n",
      "File: ./data/aguadalma.fin.2.csv\n",
      "﻿ID;Source;Entity;Location;Country;Collection date;Review date;Review text\n",
      "1684243544-1;https://www.tripadvisor.com/Hotel_Review-g1898578-d1725062-Reviews-Agua_d_Alma_Hotel-Foz_do_Arelho_Leiria_District_Central_Portugal.html;Agua de Alma Hotel;Foz do Arelho;Portugal;16/05/2023;01/02/2023;We've stayed here before in winter time because there's not a lot of choice in Foz this time of year.  This is a clean hotel with nice rooms, friendly staff and a good breakfast.  But it's cold! It's cold in the bar, it's cold in the bathroom because there's no separate heating. If you want a warm bathroom you have to leave the door to the room open and get the heat from there which is inconvenient for sleeping and probably not very economic.  Probably a better choice in summer but lacks a swimming pool.\n",
      "\n",
      "1684243708-10;https://www.tripadvisor.com/Hotel_Review-g1898578-d1725062-Reviews-or10-Agua_d_Alma_Hotel-Foz_do_Arelho_Leiria_District_Central_Portugal.html#REVIEWS;Agua de Alma Hotel;Foz do Arelho;Portugal;16/05/2023;01/05/2018;Stayed in this hotel one night. It was terrible. The room is not equal as the photos. Small room. The bed was too small and the feet was outside the bed. The bathroom was small and the water goes to the room. Don’t recommend this hotel to anyone.\n",
      "\n",
      "File: ./data/archanes.fin.csv\n",
      "﻿ID;Source;Entity;Location;Country;Collection date;Review date;Review text\n",
      "1683299539-88;https://www.tripadvisor.com/Hotel_Review-g1101777-d487832-Reviews-Villa_Archanes-Archanes_Crete.html;Villa Archanes;Archanes, Crete;Greece;05/05/2023;01/04/2023;This B&B is perfect for people wanting to experience the countryside of Crete. It's well situated, and the host is very helpful in suggesting things to do, like walking routes for example. His best advice was to tell me to go to any restaurant in the town centre because they're all good (he was right).   If you are not fit, you should have some means for getting to and from the town centre because it's a 600m steep grade walk back to the villa.   The rooms are fairly basic but clean and well-equipped. They would be ideal for a small family or a group of friends.\n",
      "\n",
      "1683299621-107;https://www.tripadvisor.com/Hotel_Review-g1101777-d487832-Reviews-or10-Villa_Archanes-Archanes_Crete.html#REVIEWS;Villa Archanes;Archanes, Crete;Greece;05/05/2023;01/10/2017;Wish we could have stayed longer.  We fluked onto this place at the last minute in the quiet season.  A 200 year old house that was meticulously renovated into a very comfortable accommodation.  Nicely appointed with all new appliances and up to date bathroom.  The owner is very nice and accommodating.  Good internet.\n",
      "\n",
      "File: ./data/arolithos.fin.csv\n",
      "﻿ID;Source;Entity;Location;Country;Collection date;Review date;Review text\n",
      "1683301001-136;https://www.tripadvisor.com/Hotel_Review-g189417-d240839-Reviews-Arolithos_Traditional_Cretan_Village-Heraklion_Crete.html;Arolithos Traditional Cretan Village;Heraklion, Crete;Greece;05/05/2023;01/10/2022;Amazing restful place and environment and close to many places to visit. The village is traditional and plenty of colors.  Surrounded by cats and very kind persons, nice meals I really recommend it. :-)\n",
      "\n",
      "1683301163-164;https://www.tripadvisor.com/Hotel_Review-g189417-d240839-Reviews-or20-Arolithos_Traditional_Cretan_Village-Heraklion_Crete.html#REVIEWS;Arolithos Traditional Cretan Village;Heraklion, Crete;Greece;05/05/2023;01/04/2018;We visited this location as part of an excursion where we had a traditional snack with cheese, olives, savoury and sweet pastries. At the same time, we saw a baptism that was taking place at the very small church near the restaurant. This is a lovely area away from the coast with a splendid view where the swimming pool is. It was really nice as well to walk around the village and visit the little gift shops and artisan workshops where we learnt a lot about traditional Cretan life in the past. Really well worth our trip.\n"
     ]
    }
   ],
   "source": [
    "%%bash\n",
    "for i in ./data/*\n",
    "do\n",
    "    echo \"\"\n",
    "    echo \"File: ${i}\"\n",
    "    head -n 2 \"${i}\"\n",
    "    echo \"\"\n",
    "    tail -n 1 \"${i}\"\n",
    "    echo \"\"\n",
    "done"
   ]
  },
  {
   "cell_type": "code",
   "execution_count": 10,
   "id": "015e86ce-9ab2-4be0-a04a-02518f1e4d20",
   "metadata": {},
   "outputs": [],
   "source": [
    "# Read the data\n",
    "\n",
    "schema = ( StructType()\n",
    "          .add(\"ID\",StringType(),True)\n",
    "          .add(\"Source\",StringType(),True)\n",
    "          .add(\"Entity\",StringType(),True)\n",
    "          .add(\"Location\",StringType(),True)\n",
    "          .add(\"Country\",StringType(),True)\n",
    "          .add(\"Collection date\",StringType(),True)\n",
    "          .add(\"Review date\",StringType(),True)\n",
    "          .add(\"Review text\",StringType(),True)\n",
    "         )\n",
    "\n",
    "df = spark.read.csv(filepath, header=True, schema=schema, sep=';')\n"
   ]
  },
  {
   "cell_type": "code",
   "execution_count": 11,
   "id": "4f0517d3-8506-4532-8479-3b2c2ed43921",
   "metadata": {},
   "outputs": [
    {
     "name": "stdout",
     "output_type": "stream",
     "text": [
      "root\n",
      " |-- ID: string (nullable = true)\n",
      " |-- Source: string (nullable = true)\n",
      " |-- Entity: string (nullable = true)\n",
      " |-- Location: string (nullable = true)\n",
      " |-- Country: string (nullable = true)\n",
      " |-- Collection date: string (nullable = true)\n",
      " |-- Review date: string (nullable = true)\n",
      " |-- Review text: string (nullable = true)\n",
      "\n",
      "+--------------+--------------------+--------------------+----------------+-------+---------------+-----------+--------------------+\n",
      "|            ID|              Source|              Entity|        Location|Country|Collection date|Review date|         Review text|\n",
      "+--------------+--------------------+--------------------+----------------+-------+---------------+-----------+--------------------+\n",
      "|1683301001-136|https://www.tripa...|Arolithos Traditi...|Heraklion, Crete| Greece|     05/05/2023| 01/10/2022|Amazing restful p...|\n",
      "|1683301001-137|https://www.tripa...|Arolithos Traditi...|Heraklion, Crete| Greece|     05/05/2023| 01/10/2022|\"We had lunch tod...|\n",
      "|1683301001-138|https://www.tripa...|Arolithos Traditi...|Heraklion, Crete| Greece|     05/05/2023| 01/09/2022|We stayed here fo...|\n",
      "|1683301001-139|https://www.tripa...|Arolithos Traditi...|Heraklion, Crete| Greece|     05/05/2023| 01/09/2022|Upon arrival nobo...|\n",
      "|1683301001-140|https://www.tripa...|Arolithos Traditi...|Heraklion, Crete| Greece|     05/05/2023| 01/07/2022|We stayed here fo...|\n",
      "|1683301001-141|https://www.tripa...|Arolithos Traditi...|Heraklion, Crete| Greece|     05/05/2023| 01/07/2022|Staff were very f...|\n",
      "|1683301001-142|https://www.tripa...|Arolithos Traditi...|Heraklion, Crete| Greece|     05/05/2023| 01/07/2020|Arolithos is a pl...|\n",
      "|1683301001-143|https://www.tripa...|Arolithos Traditi...|Heraklion, Crete| Greece|     05/05/2023| 01/10/2019|The idea of Aroli...|\n",
      "|1683301001-144|https://www.tripa...|Arolithos Traditi...|Heraklion, Crete| Greece|     05/05/2023| 01/10/2019|If you are lookin...|\n",
      "|1683301001-145|https://www.tripa...|Arolithos Traditi...|Heraklion, Crete| Greece|     05/05/2023| 01/10/2019|This is designed ...|\n",
      "|1683301087-146|https://www.tripa...|Arolithos Traditi...|Heraklion, Crete| Greece|     05/05/2023| 01/09/2019|Overall, do not e...|\n",
      "|1683301087-147|https://www.tripa...|Arolithos Traditi...|Heraklion, Crete| Greece|     05/05/2023| 01/08/2019|This is a must vi...|\n",
      "|1683301087-148|https://www.tripa...|Arolithos Traditi...|Heraklion, Crete| Greece|     05/05/2023| 01/07/2019|We drove there th...|\n",
      "|1683301087-149|https://www.tripa...|Arolithos Traditi...|Heraklion, Crete| Greece|     05/05/2023| 01/05/2019|This hotel is ama...|\n",
      "|1683301087-150|https://www.tripa...|Arolithos Traditi...|Heraklion, Crete| Greece|     05/05/2023| 01/05/2019|We were taken to ...|\n",
      "|1683301087-151|https://www.tripa...|Arolithos Traditi...|Heraklion, Crete| Greece|     05/05/2023| 01/05/2019|We visited the pl...|\n",
      "|1683301087-152|https://www.tripa...|Arolithos Traditi...|Heraklion, Crete| Greece|     05/05/2023| 01/11/2018|We had a room qui...|\n",
      "|1683301087-153|https://www.tripa...|Arolithos Traditi...|Heraklion, Crete| Greece|     05/05/2023| 01/09/2018|Our 1st steps in ...|\n",
      "|1683301087-154|https://www.tripa...|Arolithos Traditi...|Heraklion, Crete| Greece|     05/05/2023| 01/08/2018|We stayed here fo...|\n",
      "|1683301087-155|https://www.tripa...|Arolithos Traditi...|Heraklion, Crete| Greece|     05/05/2023| 01/08/2018|We spent 1 week t...|\n",
      "+--------------+--------------------+--------------------+----------------+-------+---------------+-----------+--------------------+\n",
      "only showing top 20 rows\n",
      "\n"
     ]
    },
    {
     "data": {
      "text/plain": [
       "201"
      ]
     },
     "execution_count": 11,
     "metadata": {},
     "output_type": "execute_result"
    }
   ],
   "source": [
    "# Check what has been read\n",
    "\n",
    "df.printSchema()\n",
    "reviews_count = df.count()\n",
    "df.show()\n",
    "reviews_count"
   ]
  },
  {
   "cell_type": "markdown",
   "id": "11ffca82-1d29-4028-a1de-f1070f905a6b",
   "metadata": {},
   "source": [
    "# First clearance\n",
    "Duplicates, overall nulls, get dates properly (datatypes) and to clean review text."
   ]
  },
  {
   "cell_type": "code",
   "execution_count": 12,
   "id": "93327561-7f41-42ed-a495-393ef3f1c6d7",
   "metadata": {},
   "outputs": [
    {
     "data": {
      "text/plain": [
       "[201, 201]"
      ]
     },
     "execution_count": 12,
     "metadata": {},
     "output_type": "execute_result"
    }
   ],
   "source": [
    "# Check duplicates\n",
    "\n",
    "[reviews_count, df.dropDuplicates().count()]"
   ]
  },
  {
   "cell_type": "code",
   "execution_count": 13,
   "id": "3838cffe-171b-4843-baa6-8d0fdaf66677",
   "metadata": {},
   "outputs": [
    {
     "data": {
      "text/plain": [
       "[201, 201]"
      ]
     },
     "execution_count": 13,
     "metadata": {},
     "output_type": "execute_result"
    }
   ],
   "source": [
    "# Check counting with/without nulls\n",
    "\n",
    "[reviews_count, df.dropna().count()]"
   ]
  },
  {
   "cell_type": "code",
   "execution_count": 14,
   "id": "b9660c4d-e951-4abe-bc4b-5e5648dbc4a5",
   "metadata": {},
   "outputs": [],
   "source": [
    "df = df.dropna()  # subset=['col name']"
   ]
  },
  {
   "cell_type": "code",
   "execution_count": 15,
   "id": "8b776dd2-15ca-4dd4-b458-00e92d097cf3",
   "metadata": {},
   "outputs": [],
   "source": [
    "# Column names and datatypes\n",
    "# .cast(DateType())\n",
    "# F.to_date(...)\n",
    "\n",
    "df = ( df\n",
    "      .withColumn('Collection-date', F.to_date(F.col('Collection date'), \"dd/MM/yyyy\")) \n",
    "      .withColumn('Review-date', F.to_date(F.col('Review date'), \"dd/MM/yyyy\"))\n",
    "     )"
   ]
  },
  {
   "cell_type": "code",
   "execution_count": 16,
   "id": "436e496c-451f-44b3-9ca9-70dbdc8f13ee",
   "metadata": {},
   "outputs": [],
   "source": [
    "# Auxiliar UDF functions\n",
    "\n",
    "CountWords = F.udf(lambda words: len(words), IntegerType())\n",
    "\n",
    "# We should improve this cleaning text function\n",
    "\n",
    "@F.udf(returnType=StringType()) \n",
    "def CleanText(text):\n",
    "    regpat = re.compile(r'(https|http)?:\\/\\/(\\w|\\.|\\/|\\?|\\=|\\&|\\%)*\\b')\n",
    "    filtered = []\n",
    "    for w in text.split():\n",
    "        wrd = w.strip().lower()\n",
    "        for char in [',', '.', '?', '-']:\n",
    "            wrd = wrd.replace(char, '')\n",
    "        if not re.fullmatch(regpat, wrd) and wrd != ' ' and wrd != '' and '@' not in wrd:\n",
    "            filtered.append(wrd)\n",
    "    return ' '.join(filtered)\n"
   ]
  },
  {
   "cell_type": "code",
   "execution_count": 17,
   "id": "880fa984-dc0f-424c-97b8-020d75647e76",
   "metadata": {},
   "outputs": [],
   "source": [
    "# Cleaning review text having in mind future sentiment analysis\n",
    "\n",
    "df = ( df.withColumn('Review-clean-text', CleanText(F.col('Review text')))\n",
    "          .withColumn('Review-clean-text-words-count', CountWords(F.col('Review-clean-text')))\n",
    "     )"
   ]
  },
  {
   "cell_type": "code",
   "execution_count": 18,
   "id": "6e0f9099-6960-47a5-847b-3f1c68da214f",
   "metadata": {},
   "outputs": [
    {
     "name": "stdout",
     "output_type": "stream",
     "text": [
      "root\n",
      " |-- ID: string (nullable = true)\n",
      " |-- Source: string (nullable = true)\n",
      " |-- Entity: string (nullable = true)\n",
      " |-- Location: string (nullable = true)\n",
      " |-- Country: string (nullable = true)\n",
      " |-- Collection date: string (nullable = true)\n",
      " |-- Review date: string (nullable = true)\n",
      " |-- Review text: string (nullable = true)\n",
      " |-- Collection-date: date (nullable = true)\n",
      " |-- Review-date: date (nullable = true)\n",
      " |-- Review-clean-text: string (nullable = true)\n",
      " |-- Review-clean-text-words-count: integer (nullable = true)\n",
      "\n",
      "-RECORD 0-----------------------------------------------------------------------------------------------------------------------------------------------------------------------------------------------------------------------------------\n",
      " ID                            | 1683301001-136                                                                                                                                                                                             \n",
      " Source                        | https://www.tripadvisor.com/Hotel_Review-g189417-d240839-Reviews-Arolithos_Traditional_Cretan_Village-Heraklion_Crete.html                                                                                 \n",
      " Entity                        | Arolithos Traditional Cretan Village                                                                                                                                                                       \n",
      " Location                      | Heraklion, Crete                                                                                                                                                                                           \n",
      " Country                       | Greece                                                                                                                                                                                                     \n",
      " Collection date               | 05/05/2023                                                                                                                                                                                                 \n",
      " Review date                   | 01/10/2022                                                                                                                                                                                                 \n",
      " Review text                   | Amazing restful place and environment and close to many places to visit. The village is traditional and plenty of colors.  Surrounded by cats and very kind persons, nice meals I really recommend it. :-) \n",
      " Collection-date               | 2023-05-05                                                                                                                                                                                                 \n",
      " Review-date                   | 2022-10-01                                                                                                                                                                                                 \n",
      " Review-clean-text             | amazing restful place and environment and close to many places to visit the village is traditional and plenty of colors surrounded by cats and very kind persons nice meals i really recommend it :)       \n",
      " Review-clean-text-words-count | 196                                                                                                                                                                                                        \n",
      "only showing top 1 row\n",
      "\n"
     ]
    },
    {
     "data": {
      "text/plain": [
       "201"
      ]
     },
     "execution_count": 18,
     "metadata": {},
     "output_type": "execute_result"
    }
   ],
   "source": [
    "df.printSchema()\n",
    "reviews_count = df.count()\n",
    "df.show(1, vertical=True, truncate=False)\n",
    "reviews_count"
   ]
  },
  {
   "cell_type": "markdown",
   "id": "44498f86-9c29-43f4-a961-8ce977d17dfa",
   "metadata": {},
   "source": [
    "# Data understanding - initial EDA"
   ]
  },
  {
   "cell_type": "code",
   "execution_count": 19,
   "id": "5f541b02-4e3c-4b8d-85c5-7d558c9e43a0",
   "metadata": {},
   "outputs": [
    {
     "data": {
      "text/plain": [
       "['ID',\n",
       " 'Source',\n",
       " 'Entity',\n",
       " 'Location',\n",
       " 'Country',\n",
       " 'Review text',\n",
       " 'Collection-date',\n",
       " 'Review-date',\n",
       " 'Review-clean-text',\n",
       " 'Review-clean-text-words-count']"
      ]
     },
     "execution_count": 19,
     "metadata": {},
     "output_type": "execute_result"
    }
   ],
   "source": [
    "cols_to_forget = ['Collection date', 'Review date']\n",
    "cols_interest = [x for x in df.columns if x not in cols_to_forget]\n",
    "cols_interest"
   ]
  },
  {
   "cell_type": "code",
   "execution_count": 20,
   "id": "75c26e6a-96cf-4711-aaf8-b599ad3fa87e",
   "metadata": {},
   "outputs": [
    {
     "name": "stdout",
     "output_type": "stream",
     "text": [
      "\n",
      "Nulls:\n"
     ]
    }
   ],
   "source": [
    "print('\\nNulls:')\n",
    "for cl in cols_interest:\n",
    "    if cl not in ['Collection-date', 'Review-date']:\n",
    "        k = df.select(cl).filter(F.col(cl).isNull() | F.isnan(cl)).count() \n",
    "        if k > 0:\n",
    "            print(f'Column {cl} with {k} nulls or NaN, out of {reviews_count} records ({k*100/reviews_count:.2f}%)')"
   ]
  },
  {
   "cell_type": "code",
   "execution_count": 21,
   "id": "db91cda8-e188-4a4b-a11e-d4888324d4d2",
   "metadata": {},
   "outputs": [
    {
     "name": "stdout",
     "output_type": "stream",
     "text": [
      "\n",
      "Uniqueness:\n",
      "Column ID with 201 distinct values, out of 201 records (100.00%)\n",
      "Column Source with 23 distinct values, out of 201 records (11.44%)\n",
      "Column Entity with 14 distinct values, out of 201 records (6.97%)\n",
      "Column Location with 14 distinct values, out of 201 records (6.97%)\n",
      "Column Country with 5 distinct values, out of 201 records (2.49%)\n",
      "Column Review text with 201 distinct values, out of 201 records (100.00%)\n",
      "Column Review-clean-text with 201 distinct values, out of 201 records (100.00%)\n",
      "Column Review-clean-text-words-count with 156 distinct values, out of 201 records (77.61%)\n"
     ]
    }
   ],
   "source": [
    "print('\\nUniqueness:') \n",
    "for cl in cols_interest:\n",
    "    if cl not in ['Collection-date', 'Review-date']:\n",
    "        k = df.select(cl).distinct().count()\n",
    "        print(f'Column {cl} with {k} distinct values, out of {reviews_count} records ({k*100/reviews_count:.2f}%)')"
   ]
  },
  {
   "cell_type": "code",
   "execution_count": 22,
   "id": "afc57195-6daf-4e3d-891f-e5e21f30ca63",
   "metadata": {},
   "outputs": [
    {
     "data": {
      "image/png": "[encoded data removed]",
      "text/plain": [
       "<Figure size 640x480 with 1 Axes>"
      ]
     },
     "metadata": {},
     "output_type": "display_data"
    }
   ],
   "source": [
    "# How many reviews per country\n",
    "\n",
    "df_plot = df.groupby('Country').count().sort('Country', ascending=True).toPandas()\n",
    "plotBar(df_plot, 'Country', 'count')\n",
    "plt.title('Number of reviews per country')\n",
    "plt.show()"
   ]
  },
  {
   "cell_type": "raw",
   "id": "d8dd267c-eda8-40bf-85cc-2c8b4f07d7cd",
   "metadata": {},
   "source": [
    "And many other visualizations..."
   ]
  },
  {
   "cell_type": "markdown",
   "id": "95e4b822-1ec2-4d81-ab8e-b49e3ffd8b14",
   "metadata": {},
   "source": [
    "# Save the data of interest"
   ]
  },
  {
   "cell_type": "code",
   "execution_count": 23,
   "id": "fbb9ddd5-81a4-44ab-a1f9-69533252695d",
   "metadata": {},
   "outputs": [
    {
     "data": {
      "text/plain": [
       "['ID',\n",
       " 'Source',\n",
       " 'Entity',\n",
       " 'Location',\n",
       " 'Country',\n",
       " 'Review text',\n",
       " 'Collection-date',\n",
       " 'Review-date',\n",
       " 'Review-clean-text',\n",
       " 'Review-clean-text-words-count']"
      ]
     },
     "execution_count": 23,
     "metadata": {},
     "output_type": "execute_result"
    }
   ],
   "source": [
    "cols_interest"
   ]
  },
  {
   "cell_type": "code",
   "execution_count": 24,
   "id": "8bc745d1-d364-4471-83db-551101998eea",
   "metadata": {},
   "outputs": [
    {
     "name": "stderr",
     "output_type": "stream",
     "text": [
      "                                                                                \r"
     ]
    }
   ],
   "source": [
    "# Save data as a parquet file\n",
    "\n",
    "df.select(cols_interest).write.mode(\"overwrite\").parquet(\"reviews\")"
   ]
  },
  {
   "cell_type": "code",
   "execution_count": null,
   "id": "a8a3ee7c-95c9-48bb-b1dd-67eb92ec55c0",
   "metadata": {},
   "outputs": [],
   "source": []
  }
 ],
 "metadata": {
  "kernelspec": {
   "display_name": "PySpark",
   "language": "python",
   "name": "pyspark"
  },
  "language_info": {
   "codemirror_mode": {
    "name": "ipython",
    "version": 3
   },
   "file_extension": ".py",
   "mimetype": "text/x-python",
   "name": "python",
   "nbconvert_exporter": "python",
   "pygments_lexer": "ipython3",
   "version": "3.11.4"
  },
  "toc": {
   "base_numbering": 1,
   "nav_menu": {},
   "number_sections": true,
   "sideBar": true,
   "skip_h1_title": false,
   "title_cell": "Table of Contents",
   "title_sidebar": "Contents",
   "toc_cell": false,
   "toc_position": {},
   "toc_section_display": true,
   "toc_window_display": false
  }
 },
 "nbformat": 4,
 "nbformat_minor": 5
}
